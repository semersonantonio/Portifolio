{
 "cells": [
  {
   "cell_type": "markdown",
   "id": "bd6f155c",
   "metadata": {},
   "source": [
    "## Problema de negócio:\n",
    "Criar um modelo preditivo e testar sua eficácia  para a partir de uma série de variáveis fisiológicas, prever se o paciente apresenta ou não uma alta probabilidade de possuir uma doença hepática."
   ]
  },
  {
   "cell_type": "code",
   "execution_count": 1,
   "id": "6df4e3ba",
   "metadata": {},
   "outputs": [],
   "source": [
    "# imports\n",
    "import joblib\n",
    "import pickle\n",
    "import numpy as np\n",
    "import pandas as pd\n",
    "import seaborn as sns\n",
    "from matplotlib import pyplot as plt\n",
    "import sklearn\n",
    "from sklearn.model_selection import train_test_split\n",
    "from sklearn.model_selection import GridSearchCV\n",
    "from sklearn.model_selection import cross_val_score\n",
    "from sklearn.model_selection import RandomizedSearchCV\n",
    "from sklearn.linear_model import LogisticRegression\n",
    "from sklearn.ensemble import RandomForestClassifier\n",
    "from sklearn.neighbors import KNeighborsClassifier\n",
    "from sklearn.tree import DecisionTreeClassifier\n",
    "from sklearn.svm import SVC\n",
    "from sklearn.metrics import roc_curve, auc, roc_auc_score, confusion_matrix\n",
    "from sklearn.metrics import accuracy_score\n",
    "from sklearn.datasets import make_classification\n",
    "from sklearn.model_selection import train_test_split\n",
    "from sklearn.preprocessing import StandardScaler\n",
    "from imblearn.over_sampling import SMOTE\n",
    "%matplotlib inline \n",
    "import warnings\n",
    "warnings.filterwarnings(\"ignore\")"
   ]
  },
  {
   "cell_type": "markdown",
   "id": "56ad9ada",
   "metadata": {},
   "source": [
    "#### Carga de dados"
   ]
  },
  {
   "cell_type": "code",
   "execution_count": 2,
   "id": "d5f3b1f9",
   "metadata": {},
   "outputs": [
    {
     "data": {
      "text/plain": [
       "(583, 11)"
      ]
     },
     "execution_count": 2,
     "metadata": {},
     "output_type": "execute_result"
    }
   ],
   "source": [
    "dados = pd.read_csv('dados/dataset.csv')\n",
    "dados.shape"
   ]
  },
  {
   "cell_type": "code",
   "execution_count": 3,
   "id": "91433ed2",
   "metadata": {},
   "outputs": [
    {
     "data": {
      "text/plain": [
       "Index(['Age', 'Gender', 'Total_Bilirubin', 'Direct_Bilirubin',\n",
       "       'Alkaline_Phosphotase', 'Alamine_Aminotransferase',\n",
       "       'Aspartate_Aminotransferase', 'Total_Protiens', 'Albumin',\n",
       "       'Albumin_and_Globulin_Ratio', 'Dataset'],\n",
       "      dtype='object')"
      ]
     },
     "execution_count": 3,
     "metadata": {},
     "output_type": "execute_result"
    }
   ],
   "source": [
    "dados.columns"
   ]
  },
  {
   "cell_type": "code",
   "execution_count": 4,
   "id": "48767aff",
   "metadata": {},
   "outputs": [
    {
     "data": {
      "text/html": [
       "<div>\n",
       "<style scoped>\n",
       "    .dataframe tbody tr th:only-of-type {\n",
       "        vertical-align: middle;\n",
       "    }\n",
       "\n",
       "    .dataframe tbody tr th {\n",
       "        vertical-align: top;\n",
       "    }\n",
       "\n",
       "    .dataframe thead th {\n",
       "        text-align: right;\n",
       "    }\n",
       "</style>\n",
       "<table border=\"1\" class=\"dataframe\">\n",
       "  <thead>\n",
       "    <tr style=\"text-align: right;\">\n",
       "      <th></th>\n",
       "      <th>Age</th>\n",
       "      <th>Gender</th>\n",
       "      <th>Total_Bilirubin</th>\n",
       "      <th>Direct_Bilirubin</th>\n",
       "      <th>Alkaline_Phosphotase</th>\n",
       "      <th>Alamine_Aminotransferase</th>\n",
       "      <th>Aspartate_Aminotransferase</th>\n",
       "      <th>Total_Protiens</th>\n",
       "      <th>Albumin</th>\n",
       "      <th>Albumin_and_Globulin_Ratio</th>\n",
       "      <th>Dataset</th>\n",
       "    </tr>\n",
       "  </thead>\n",
       "  <tbody>\n",
       "    <tr>\n",
       "      <th>132</th>\n",
       "      <td>18</td>\n",
       "      <td>Female</td>\n",
       "      <td>0.8</td>\n",
       "      <td>0.2</td>\n",
       "      <td>199</td>\n",
       "      <td>34</td>\n",
       "      <td>31</td>\n",
       "      <td>6.5</td>\n",
       "      <td>3.5</td>\n",
       "      <td>1.16</td>\n",
       "      <td>2</td>\n",
       "    </tr>\n",
       "    <tr>\n",
       "      <th>131</th>\n",
       "      <td>70</td>\n",
       "      <td>Female</td>\n",
       "      <td>0.7</td>\n",
       "      <td>0.2</td>\n",
       "      <td>237</td>\n",
       "      <td>18</td>\n",
       "      <td>28</td>\n",
       "      <td>5.8</td>\n",
       "      <td>2.5</td>\n",
       "      <td>0.75</td>\n",
       "      <td>2</td>\n",
       "    </tr>\n",
       "    <tr>\n",
       "      <th>342</th>\n",
       "      <td>35</td>\n",
       "      <td>Male</td>\n",
       "      <td>0.8</td>\n",
       "      <td>0.2</td>\n",
       "      <td>198</td>\n",
       "      <td>36</td>\n",
       "      <td>32</td>\n",
       "      <td>7.0</td>\n",
       "      <td>4.0</td>\n",
       "      <td>1.30</td>\n",
       "      <td>2</td>\n",
       "    </tr>\n",
       "    <tr>\n",
       "      <th>362</th>\n",
       "      <td>55</td>\n",
       "      <td>Male</td>\n",
       "      <td>1.1</td>\n",
       "      <td>0.3</td>\n",
       "      <td>215</td>\n",
       "      <td>21</td>\n",
       "      <td>15</td>\n",
       "      <td>6.2</td>\n",
       "      <td>2.9</td>\n",
       "      <td>0.80</td>\n",
       "      <td>2</td>\n",
       "    </tr>\n",
       "    <tr>\n",
       "      <th>457</th>\n",
       "      <td>61</td>\n",
       "      <td>Male</td>\n",
       "      <td>0.8</td>\n",
       "      <td>0.2</td>\n",
       "      <td>192</td>\n",
       "      <td>28</td>\n",
       "      <td>35</td>\n",
       "      <td>6.9</td>\n",
       "      <td>3.4</td>\n",
       "      <td>0.90</td>\n",
       "      <td>2</td>\n",
       "    </tr>\n",
       "  </tbody>\n",
       "</table>\n",
       "</div>"
      ],
      "text/plain": [
       "     Age  Gender  Total_Bilirubin  Direct_Bilirubin  Alkaline_Phosphotase  \\\n",
       "132   18  Female              0.8               0.2                   199   \n",
       "131   70  Female              0.7               0.2                   237   \n",
       "342   35    Male              0.8               0.2                   198   \n",
       "362   55    Male              1.1               0.3                   215   \n",
       "457   61    Male              0.8               0.2                   192   \n",
       "\n",
       "     Alamine_Aminotransferase  Aspartate_Aminotransferase  Total_Protiens  \\\n",
       "132                        34                          31             6.5   \n",
       "131                        18                          28             5.8   \n",
       "342                        36                          32             7.0   \n",
       "362                        21                          15             6.2   \n",
       "457                        28                          35             6.9   \n",
       "\n",
       "     Albumin  Albumin_and_Globulin_Ratio  Dataset  \n",
       "132      3.5                        1.16        2  \n",
       "131      2.5                        0.75        2  \n",
       "342      4.0                        1.30        2  \n",
       "362      2.9                        0.80        2  \n",
       "457      3.4                        0.90        2  "
      ]
     },
     "execution_count": 4,
     "metadata": {},
     "output_type": "execute_result"
    }
   ],
   "source": [
    "dados.sample(5)"
   ]
  },
  {
   "cell_type": "markdown",
   "id": "375cdba2",
   "metadata": {},
   "source": [
    "## Análise exploratória"
   ]
  },
  {
   "cell_type": "code",
   "execution_count": 5,
   "id": "751610a3",
   "metadata": {},
   "outputs": [
    {
     "data": {
      "text/plain": [
       "Age                             int64\n",
       "Gender                         object\n",
       "Total_Bilirubin               float64\n",
       "Direct_Bilirubin              float64\n",
       "Alkaline_Phosphotase            int64\n",
       "Alamine_Aminotransferase        int64\n",
       "Aspartate_Aminotransferase      int64\n",
       "Total_Protiens                float64\n",
       "Albumin                       float64\n",
       "Albumin_and_Globulin_Ratio    float64\n",
       "Dataset                         int64\n",
       "dtype: object"
      ]
     },
     "execution_count": 5,
     "metadata": {},
     "output_type": "execute_result"
    }
   ],
   "source": [
    "dados.dtypes"
   ]
  },
  {
   "cell_type": "code",
   "execution_count": 6,
   "id": "f5e7af68",
   "metadata": {},
   "outputs": [
    {
     "data": {
      "text/plain": [
       "Gender    object\n",
       "dtype: object"
      ]
     },
     "execution_count": 6,
     "metadata": {},
     "output_type": "execute_result"
    }
   ],
   "source": [
    "#var. categóricas\n",
    "dados.dtypes[dados.dtypes == 'object']"
   ]
  },
  {
   "cell_type": "code",
   "execution_count": 7,
   "id": "3368aaac",
   "metadata": {},
   "outputs": [
    {
     "data": {
      "text/plain": [
       "Age                             int64\n",
       "Total_Bilirubin               float64\n",
       "Direct_Bilirubin              float64\n",
       "Alkaline_Phosphotase            int64\n",
       "Alamine_Aminotransferase        int64\n",
       "Aspartate_Aminotransferase      int64\n",
       "Total_Protiens                float64\n",
       "Albumin                       float64\n",
       "Albumin_and_Globulin_Ratio    float64\n",
       "Dataset                         int64\n",
       "dtype: object"
      ]
     },
     "execution_count": 7,
     "metadata": {},
     "output_type": "execute_result"
    }
   ],
   "source": [
    "#var. numéricas\n",
    "dados.dtypes[dados.dtypes != 'object']"
   ]
  },
  {
   "cell_type": "code",
   "execution_count": 8,
   "id": "7a562f1e",
   "metadata": {},
   "outputs": [
    {
     "data": {
      "text/html": [
       "<div>\n",
       "<style scoped>\n",
       "    .dataframe tbody tr th:only-of-type {\n",
       "        vertical-align: middle;\n",
       "    }\n",
       "\n",
       "    .dataframe tbody tr th {\n",
       "        vertical-align: top;\n",
       "    }\n",
       "\n",
       "    .dataframe thead th {\n",
       "        text-align: right;\n",
       "    }\n",
       "</style>\n",
       "<table border=\"1\" class=\"dataframe\">\n",
       "  <thead>\n",
       "    <tr style=\"text-align: right;\">\n",
       "      <th></th>\n",
       "      <th>Age</th>\n",
       "      <th>Total_Bilirubin</th>\n",
       "      <th>Direct_Bilirubin</th>\n",
       "      <th>Alkaline_Phosphotase</th>\n",
       "      <th>Alamine_Aminotransferase</th>\n",
       "      <th>Aspartate_Aminotransferase</th>\n",
       "      <th>Total_Protiens</th>\n",
       "      <th>Albumin</th>\n",
       "      <th>Albumin_and_Globulin_Ratio</th>\n",
       "      <th>Dataset</th>\n",
       "    </tr>\n",
       "  </thead>\n",
       "  <tbody>\n",
       "    <tr>\n",
       "      <th>count</th>\n",
       "      <td>583.000000</td>\n",
       "      <td>583.000000</td>\n",
       "      <td>583.000000</td>\n",
       "      <td>583.000000</td>\n",
       "      <td>583.000000</td>\n",
       "      <td>583.000000</td>\n",
       "      <td>583.000000</td>\n",
       "      <td>583.000000</td>\n",
       "      <td>579.000000</td>\n",
       "      <td>583.000000</td>\n",
       "    </tr>\n",
       "    <tr>\n",
       "      <th>mean</th>\n",
       "      <td>44.746141</td>\n",
       "      <td>3.298799</td>\n",
       "      <td>1.486106</td>\n",
       "      <td>290.576329</td>\n",
       "      <td>80.713551</td>\n",
       "      <td>109.910806</td>\n",
       "      <td>6.483190</td>\n",
       "      <td>3.141852</td>\n",
       "      <td>0.947064</td>\n",
       "      <td>1.286449</td>\n",
       "    </tr>\n",
       "    <tr>\n",
       "      <th>std</th>\n",
       "      <td>16.189833</td>\n",
       "      <td>6.209522</td>\n",
       "      <td>2.808498</td>\n",
       "      <td>242.937989</td>\n",
       "      <td>182.620356</td>\n",
       "      <td>288.918529</td>\n",
       "      <td>1.085451</td>\n",
       "      <td>0.795519</td>\n",
       "      <td>0.319592</td>\n",
       "      <td>0.452490</td>\n",
       "    </tr>\n",
       "    <tr>\n",
       "      <th>min</th>\n",
       "      <td>4.000000</td>\n",
       "      <td>0.400000</td>\n",
       "      <td>0.100000</td>\n",
       "      <td>63.000000</td>\n",
       "      <td>10.000000</td>\n",
       "      <td>10.000000</td>\n",
       "      <td>2.700000</td>\n",
       "      <td>0.900000</td>\n",
       "      <td>0.300000</td>\n",
       "      <td>1.000000</td>\n",
       "    </tr>\n",
       "    <tr>\n",
       "      <th>25%</th>\n",
       "      <td>33.000000</td>\n",
       "      <td>0.800000</td>\n",
       "      <td>0.200000</td>\n",
       "      <td>175.500000</td>\n",
       "      <td>23.000000</td>\n",
       "      <td>25.000000</td>\n",
       "      <td>5.800000</td>\n",
       "      <td>2.600000</td>\n",
       "      <td>0.700000</td>\n",
       "      <td>1.000000</td>\n",
       "    </tr>\n",
       "    <tr>\n",
       "      <th>50%</th>\n",
       "      <td>45.000000</td>\n",
       "      <td>1.000000</td>\n",
       "      <td>0.300000</td>\n",
       "      <td>208.000000</td>\n",
       "      <td>35.000000</td>\n",
       "      <td>42.000000</td>\n",
       "      <td>6.600000</td>\n",
       "      <td>3.100000</td>\n",
       "      <td>0.930000</td>\n",
       "      <td>1.000000</td>\n",
       "    </tr>\n",
       "    <tr>\n",
       "      <th>75%</th>\n",
       "      <td>58.000000</td>\n",
       "      <td>2.600000</td>\n",
       "      <td>1.300000</td>\n",
       "      <td>298.000000</td>\n",
       "      <td>60.500000</td>\n",
       "      <td>87.000000</td>\n",
       "      <td>7.200000</td>\n",
       "      <td>3.800000</td>\n",
       "      <td>1.100000</td>\n",
       "      <td>2.000000</td>\n",
       "    </tr>\n",
       "    <tr>\n",
       "      <th>max</th>\n",
       "      <td>90.000000</td>\n",
       "      <td>75.000000</td>\n",
       "      <td>19.700000</td>\n",
       "      <td>2110.000000</td>\n",
       "      <td>2000.000000</td>\n",
       "      <td>4929.000000</td>\n",
       "      <td>9.600000</td>\n",
       "      <td>5.500000</td>\n",
       "      <td>2.800000</td>\n",
       "      <td>2.000000</td>\n",
       "    </tr>\n",
       "  </tbody>\n",
       "</table>\n",
       "</div>"
      ],
      "text/plain": [
       "              Age  Total_Bilirubin  Direct_Bilirubin  Alkaline_Phosphotase  \\\n",
       "count  583.000000       583.000000        583.000000            583.000000   \n",
       "mean    44.746141         3.298799          1.486106            290.576329   \n",
       "std     16.189833         6.209522          2.808498            242.937989   \n",
       "min      4.000000         0.400000          0.100000             63.000000   \n",
       "25%     33.000000         0.800000          0.200000            175.500000   \n",
       "50%     45.000000         1.000000          0.300000            208.000000   \n",
       "75%     58.000000         2.600000          1.300000            298.000000   \n",
       "max     90.000000        75.000000         19.700000           2110.000000   \n",
       "\n",
       "       Alamine_Aminotransferase  Aspartate_Aminotransferase  Total_Protiens  \\\n",
       "count                583.000000                  583.000000      583.000000   \n",
       "mean                  80.713551                  109.910806        6.483190   \n",
       "std                  182.620356                  288.918529        1.085451   \n",
       "min                   10.000000                   10.000000        2.700000   \n",
       "25%                   23.000000                   25.000000        5.800000   \n",
       "50%                   35.000000                   42.000000        6.600000   \n",
       "75%                   60.500000                   87.000000        7.200000   \n",
       "max                 2000.000000                 4929.000000        9.600000   \n",
       "\n",
       "          Albumin  Albumin_and_Globulin_Ratio     Dataset  \n",
       "count  583.000000                  579.000000  583.000000  \n",
       "mean     3.141852                    0.947064    1.286449  \n",
       "std      0.795519                    0.319592    0.452490  \n",
       "min      0.900000                    0.300000    1.000000  \n",
       "25%      2.600000                    0.700000    1.000000  \n",
       "50%      3.100000                    0.930000    1.000000  \n",
       "75%      3.800000                    1.100000    2.000000  \n",
       "max      5.500000                    2.800000    2.000000  "
      ]
     },
     "execution_count": 8,
     "metadata": {},
     "output_type": "execute_result"
    }
   ],
   "source": [
    "dados.describe()"
   ]
  },
  {
   "cell_type": "code",
   "execution_count": 9,
   "id": "cbf778bf",
   "metadata": {},
   "outputs": [
    {
     "data": {
      "image/png": "[encoded data removed]",
      "text/plain": [
       "<Figure size 1500x1500 with 12 Axes>"
      ]
     },
     "metadata": {},
     "output_type": "display_data"
    }
   ],
   "source": [
    "dados.hist(figsize = (15,15), bins = 10) \n",
    "plt.show()"
   ]
  },
  {
   "cell_type": "code",
   "execution_count": 10,
   "id": "f8fc8ece",
   "metadata": {},
   "outputs": [],
   "source": [
    "# Função para ajuste do encoding da variável target\n",
    "def ajusta_var(x):\n",
    "    if x == 2:\n",
    "        return 0\n",
    "    return 1"
   ]
  },
  {
   "cell_type": "code",
   "execution_count": 11,
   "id": "a5171fa5",
   "metadata": {},
   "outputs": [],
   "source": [
    "dados['Dataset'] = dados['Dataset'].map(ajusta_var)"
   ]
  },
  {
   "cell_type": "code",
   "execution_count": 12,
   "id": "8de940cd",
   "metadata": {},
   "outputs": [],
   "source": [
    "# Ajustando nome da var. target\n",
    "dados.rename({'Dataset':'Target'}, axis = 'columns', inplace = True)"
   ]
  },
  {
   "cell_type": "code",
   "execution_count": 13,
   "id": "c06fd9a3",
   "metadata": {},
   "outputs": [
    {
     "data": {
      "text/html": [
       "<div>\n",
       "<style scoped>\n",
       "    .dataframe tbody tr th:only-of-type {\n",
       "        vertical-align: middle;\n",
       "    }\n",
       "\n",
       "    .dataframe tbody tr th {\n",
       "        vertical-align: top;\n",
       "    }\n",
       "\n",
       "    .dataframe thead th {\n",
       "        text-align: right;\n",
       "    }\n",
       "</style>\n",
       "<table border=\"1\" class=\"dataframe\">\n",
       "  <thead>\n",
       "    <tr style=\"text-align: right;\">\n",
       "      <th></th>\n",
       "      <th>Age</th>\n",
       "      <th>Gender</th>\n",
       "      <th>Total_Bilirubin</th>\n",
       "      <th>Direct_Bilirubin</th>\n",
       "      <th>Alkaline_Phosphotase</th>\n",
       "      <th>Alamine_Aminotransferase</th>\n",
       "      <th>Aspartate_Aminotransferase</th>\n",
       "      <th>Total_Protiens</th>\n",
       "      <th>Albumin</th>\n",
       "      <th>Albumin_and_Globulin_Ratio</th>\n",
       "      <th>Target</th>\n",
       "    </tr>\n",
       "  </thead>\n",
       "  <tbody>\n",
       "    <tr>\n",
       "      <th>278</th>\n",
       "      <td>45</td>\n",
       "      <td>Male</td>\n",
       "      <td>2.2</td>\n",
       "      <td>0.8</td>\n",
       "      <td>209</td>\n",
       "      <td>25</td>\n",
       "      <td>20</td>\n",
       "      <td>8.0</td>\n",
       "      <td>4.0</td>\n",
       "      <td>1.0</td>\n",
       "      <td>1</td>\n",
       "    </tr>\n",
       "    <tr>\n",
       "      <th>476</th>\n",
       "      <td>38</td>\n",
       "      <td>Male</td>\n",
       "      <td>0.9</td>\n",
       "      <td>0.3</td>\n",
       "      <td>310</td>\n",
       "      <td>15</td>\n",
       "      <td>25</td>\n",
       "      <td>5.5</td>\n",
       "      <td>2.7</td>\n",
       "      <td>1.0</td>\n",
       "      <td>1</td>\n",
       "    </tr>\n",
       "    <tr>\n",
       "      <th>424</th>\n",
       "      <td>32</td>\n",
       "      <td>Female</td>\n",
       "      <td>0.7</td>\n",
       "      <td>0.1</td>\n",
       "      <td>240</td>\n",
       "      <td>12</td>\n",
       "      <td>15</td>\n",
       "      <td>7.0</td>\n",
       "      <td>3.0</td>\n",
       "      <td>0.7</td>\n",
       "      <td>1</td>\n",
       "    </tr>\n",
       "    <tr>\n",
       "      <th>475</th>\n",
       "      <td>38</td>\n",
       "      <td>Male</td>\n",
       "      <td>2.2</td>\n",
       "      <td>1.0</td>\n",
       "      <td>310</td>\n",
       "      <td>119</td>\n",
       "      <td>42</td>\n",
       "      <td>7.9</td>\n",
       "      <td>4.1</td>\n",
       "      <td>1.0</td>\n",
       "      <td>0</td>\n",
       "    </tr>\n",
       "    <tr>\n",
       "      <th>344</th>\n",
       "      <td>37</td>\n",
       "      <td>Male</td>\n",
       "      <td>0.8</td>\n",
       "      <td>0.2</td>\n",
       "      <td>195</td>\n",
       "      <td>60</td>\n",
       "      <td>40</td>\n",
       "      <td>8.2</td>\n",
       "      <td>5.0</td>\n",
       "      <td>1.5</td>\n",
       "      <td>0</td>\n",
       "    </tr>\n",
       "  </tbody>\n",
       "</table>\n",
       "</div>"
      ],
      "text/plain": [
       "     Age  Gender  Total_Bilirubin  Direct_Bilirubin  Alkaline_Phosphotase  \\\n",
       "278   45    Male              2.2               0.8                   209   \n",
       "476   38    Male              0.9               0.3                   310   \n",
       "424   32  Female              0.7               0.1                   240   \n",
       "475   38    Male              2.2               1.0                   310   \n",
       "344   37    Male              0.8               0.2                   195   \n",
       "\n",
       "     Alamine_Aminotransferase  Aspartate_Aminotransferase  Total_Protiens  \\\n",
       "278                        25                          20             8.0   \n",
       "476                        15                          25             5.5   \n",
       "424                        12                          15             7.0   \n",
       "475                       119                          42             7.9   \n",
       "344                        60                          40             8.2   \n",
       "\n",
       "     Albumin  Albumin_and_Globulin_Ratio  Target  \n",
       "278      4.0                         1.0       1  \n",
       "476      2.7                         1.0       1  \n",
       "424      3.0                         0.7       1  \n",
       "475      4.1                         1.0       0  \n",
       "344      5.0                         1.5       0  "
      ]
     },
     "execution_count": 13,
     "metadata": {},
     "output_type": "execute_result"
    }
   ],
   "source": [
    "dados.sample(5)"
   ]
  },
  {
   "cell_type": "code",
   "execution_count": 14,
   "id": "3a6a661b",
   "metadata": {},
   "outputs": [
    {
     "data": {
      "text/html": [
       "<div>\n",
       "<style scoped>\n",
       "    .dataframe tbody tr th:only-of-type {\n",
       "        vertical-align: middle;\n",
       "    }\n",
       "\n",
       "    .dataframe tbody tr th {\n",
       "        vertical-align: top;\n",
       "    }\n",
       "\n",
       "    .dataframe thead th {\n",
       "        text-align: right;\n",
       "    }\n",
       "</style>\n",
       "<table border=\"1\" class=\"dataframe\">\n",
       "  <thead>\n",
       "    <tr style=\"text-align: right;\">\n",
       "      <th></th>\n",
       "      <th>Gender</th>\n",
       "    </tr>\n",
       "  </thead>\n",
       "  <tbody>\n",
       "    <tr>\n",
       "      <th>count</th>\n",
       "      <td>583</td>\n",
       "    </tr>\n",
       "    <tr>\n",
       "      <th>unique</th>\n",
       "      <td>2</td>\n",
       "    </tr>\n",
       "    <tr>\n",
       "      <th>top</th>\n",
       "      <td>Male</td>\n",
       "    </tr>\n",
       "    <tr>\n",
       "      <th>freq</th>\n",
       "      <td>441</td>\n",
       "    </tr>\n",
       "  </tbody>\n",
       "</table>\n",
       "</div>"
      ],
      "text/plain": [
       "       Gender\n",
       "count     583\n",
       "unique      2\n",
       "top      Male\n",
       "freq      441"
      ]
     },
     "execution_count": 14,
     "metadata": {},
     "output_type": "execute_result"
    }
   ],
   "source": [
    "# Variável categórica\n",
    "dados.describe(include = ['object'])"
   ]
  },
  {
   "cell_type": "code",
   "execution_count": 15,
   "id": "9d1993d1",
   "metadata": {},
   "outputs": [
    {
     "name": "stdout",
     "output_type": "stream",
     "text": [
      "Número de pacientes do sexo masculino:  441\n",
      "Número de pacientes do sexo feminino:  142\n"
     ]
    },
    {
     "data": {
      "image/png": "[encoded data removed]",
      "text/plain": [
       "<Figure size 640x480 with 1 Axes>"
      ]
     },
     "metadata": {},
     "output_type": "display_data"
    }
   ],
   "source": [
    "sns.countplot(data = dados, x = 'Gender', label = 'Count')\n",
    "\n",
    "M, F = dados['Gender'].value_counts()\n",
    "\n",
    "print('Número de pacientes do sexo masculino: ', M)\n",
    "print('Número de pacientes do sexo feminino: ', F)"
   ]
  },
  {
   "cell_type": "code",
   "execution_count": 16,
   "id": "3ee62bf1",
   "metadata": {},
   "outputs": [],
   "source": [
    "# Label encoding na variável Gender\n",
    "def encoding_func(x):\n",
    "    if x == 'Male':\n",
    "        return 0\n",
    "    return 1"
   ]
  },
  {
   "cell_type": "code",
   "execution_count": 17,
   "id": "33eb7a76",
   "metadata": {},
   "outputs": [],
   "source": [
    "# Aplica\n",
    "dados['Gender'] = dados['Gender'].map(encoding_func)"
   ]
  },
  {
   "cell_type": "code",
   "execution_count": 18,
   "id": "cc1cd480",
   "metadata": {},
   "outputs": [
    {
     "data": {
      "text/html": [
       "<div>\n",
       "<style scoped>\n",
       "    .dataframe tbody tr th:only-of-type {\n",
       "        vertical-align: middle;\n",
       "    }\n",
       "\n",
       "    .dataframe tbody tr th {\n",
       "        vertical-align: top;\n",
       "    }\n",
       "\n",
       "    .dataframe thead th {\n",
       "        text-align: right;\n",
       "    }\n",
       "</style>\n",
       "<table border=\"1\" class=\"dataframe\">\n",
       "  <thead>\n",
       "    <tr style=\"text-align: right;\">\n",
       "      <th></th>\n",
       "      <th>Age</th>\n",
       "      <th>Gender</th>\n",
       "      <th>Total_Bilirubin</th>\n",
       "      <th>Direct_Bilirubin</th>\n",
       "      <th>Alkaline_Phosphotase</th>\n",
       "      <th>Alamine_Aminotransferase</th>\n",
       "      <th>Aspartate_Aminotransferase</th>\n",
       "      <th>Total_Protiens</th>\n",
       "      <th>Albumin</th>\n",
       "      <th>Albumin_and_Globulin_Ratio</th>\n",
       "      <th>Target</th>\n",
       "    </tr>\n",
       "  </thead>\n",
       "  <tbody>\n",
       "    <tr>\n",
       "      <th>439</th>\n",
       "      <td>42</td>\n",
       "      <td>1</td>\n",
       "      <td>0.8</td>\n",
       "      <td>0.2</td>\n",
       "      <td>168</td>\n",
       "      <td>25</td>\n",
       "      <td>18</td>\n",
       "      <td>6.2</td>\n",
       "      <td>3.1</td>\n",
       "      <td>1.0</td>\n",
       "      <td>1</td>\n",
       "    </tr>\n",
       "    <tr>\n",
       "      <th>67</th>\n",
       "      <td>37</td>\n",
       "      <td>0</td>\n",
       "      <td>1.8</td>\n",
       "      <td>0.8</td>\n",
       "      <td>215</td>\n",
       "      <td>53</td>\n",
       "      <td>58</td>\n",
       "      <td>6.4</td>\n",
       "      <td>3.8</td>\n",
       "      <td>1.4</td>\n",
       "      <td>1</td>\n",
       "    </tr>\n",
       "    <tr>\n",
       "      <th>185</th>\n",
       "      <td>38</td>\n",
       "      <td>0</td>\n",
       "      <td>1.5</td>\n",
       "      <td>0.4</td>\n",
       "      <td>298</td>\n",
       "      <td>60</td>\n",
       "      <td>103</td>\n",
       "      <td>6.0</td>\n",
       "      <td>3.0</td>\n",
       "      <td>1.0</td>\n",
       "      <td>0</td>\n",
       "    </tr>\n",
       "    <tr>\n",
       "      <th>463</th>\n",
       "      <td>25</td>\n",
       "      <td>0</td>\n",
       "      <td>0.8</td>\n",
       "      <td>0.1</td>\n",
       "      <td>130</td>\n",
       "      <td>23</td>\n",
       "      <td>42</td>\n",
       "      <td>8.0</td>\n",
       "      <td>4.0</td>\n",
       "      <td>1.0</td>\n",
       "      <td>1</td>\n",
       "    </tr>\n",
       "    <tr>\n",
       "      <th>346</th>\n",
       "      <td>46</td>\n",
       "      <td>0</td>\n",
       "      <td>0.6</td>\n",
       "      <td>0.2</td>\n",
       "      <td>115</td>\n",
       "      <td>14</td>\n",
       "      <td>11</td>\n",
       "      <td>6.9</td>\n",
       "      <td>3.4</td>\n",
       "      <td>0.9</td>\n",
       "      <td>1</td>\n",
       "    </tr>\n",
       "  </tbody>\n",
       "</table>\n",
       "</div>"
      ],
      "text/plain": [
       "     Age  Gender  Total_Bilirubin  Direct_Bilirubin  Alkaline_Phosphotase  \\\n",
       "439   42       1              0.8               0.2                   168   \n",
       "67    37       0              1.8               0.8                   215   \n",
       "185   38       0              1.5               0.4                   298   \n",
       "463   25       0              0.8               0.1                   130   \n",
       "346   46       0              0.6               0.2                   115   \n",
       "\n",
       "     Alamine_Aminotransferase  Aspartate_Aminotransferase  Total_Protiens  \\\n",
       "439                        25                          18             6.2   \n",
       "67                         53                          58             6.4   \n",
       "185                        60                         103             6.0   \n",
       "463                        23                          42             8.0   \n",
       "346                        14                          11             6.9   \n",
       "\n",
       "     Albumin  Albumin_and_Globulin_Ratio  Target  \n",
       "439      3.1                         1.0       1  \n",
       "67       3.8                         1.4       1  \n",
       "185      3.0                         1.0       0  \n",
       "463      4.0                         1.0       1  \n",
       "346      3.4                         0.9       1  "
      ]
     },
     "execution_count": 18,
     "metadata": {},
     "output_type": "execute_result"
    }
   ],
   "source": [
    "dados.sample(5)"
   ]
  },
  {
   "cell_type": "code",
   "execution_count": 19,
   "id": "63be83f3",
   "metadata": {},
   "outputs": [
    {
     "data": {
      "text/html": [
       "<div>\n",
       "<style scoped>\n",
       "    .dataframe tbody tr th:only-of-type {\n",
       "        vertical-align: middle;\n",
       "    }\n",
       "\n",
       "    .dataframe tbody tr th {\n",
       "        vertical-align: top;\n",
       "    }\n",
       "\n",
       "    .dataframe thead th {\n",
       "        text-align: right;\n",
       "    }\n",
       "</style>\n",
       "<table border=\"1\" class=\"dataframe\">\n",
       "  <thead>\n",
       "    <tr style=\"text-align: right;\">\n",
       "      <th></th>\n",
       "      <th>Age</th>\n",
       "      <th>Gender</th>\n",
       "      <th>Total_Bilirubin</th>\n",
       "      <th>Direct_Bilirubin</th>\n",
       "      <th>Alkaline_Phosphotase</th>\n",
       "      <th>Alamine_Aminotransferase</th>\n",
       "      <th>Aspartate_Aminotransferase</th>\n",
       "      <th>Total_Protiens</th>\n",
       "      <th>Albumin</th>\n",
       "      <th>Albumin_and_Globulin_Ratio</th>\n",
       "      <th>Target</th>\n",
       "    </tr>\n",
       "  </thead>\n",
       "  <tbody>\n",
       "    <tr>\n",
       "      <th>Age</th>\n",
       "      <td>1.000000</td>\n",
       "      <td>-0.056560</td>\n",
       "      <td>0.011763</td>\n",
       "      <td>0.007529</td>\n",
       "      <td>0.080425</td>\n",
       "      <td>-0.086883</td>\n",
       "      <td>-0.019910</td>\n",
       "      <td>-0.187461</td>\n",
       "      <td>-0.265924</td>\n",
       "      <td>-0.216408</td>\n",
       "      <td>0.137351</td>\n",
       "    </tr>\n",
       "    <tr>\n",
       "      <th>Gender</th>\n",
       "      <td>-0.056560</td>\n",
       "      <td>1.000000</td>\n",
       "      <td>-0.089291</td>\n",
       "      <td>-0.100436</td>\n",
       "      <td>0.027496</td>\n",
       "      <td>-0.082332</td>\n",
       "      <td>-0.080336</td>\n",
       "      <td>0.089121</td>\n",
       "      <td>0.093799</td>\n",
       "      <td>0.003424</td>\n",
       "      <td>-0.082416</td>\n",
       "    </tr>\n",
       "    <tr>\n",
       "      <th>Total_Bilirubin</th>\n",
       "      <td>0.011763</td>\n",
       "      <td>-0.089291</td>\n",
       "      <td>1.000000</td>\n",
       "      <td>0.874618</td>\n",
       "      <td>0.206669</td>\n",
       "      <td>0.214065</td>\n",
       "      <td>0.237831</td>\n",
       "      <td>-0.008099</td>\n",
       "      <td>-0.222250</td>\n",
       "      <td>-0.206267</td>\n",
       "      <td>0.220208</td>\n",
       "    </tr>\n",
       "    <tr>\n",
       "      <th>Direct_Bilirubin</th>\n",
       "      <td>0.007529</td>\n",
       "      <td>-0.100436</td>\n",
       "      <td>0.874618</td>\n",
       "      <td>1.000000</td>\n",
       "      <td>0.234939</td>\n",
       "      <td>0.233894</td>\n",
       "      <td>0.257544</td>\n",
       "      <td>-0.000139</td>\n",
       "      <td>-0.228531</td>\n",
       "      <td>-0.200125</td>\n",
       "      <td>0.246046</td>\n",
       "    </tr>\n",
       "    <tr>\n",
       "      <th>Alkaline_Phosphotase</th>\n",
       "      <td>0.080425</td>\n",
       "      <td>0.027496</td>\n",
       "      <td>0.206669</td>\n",
       "      <td>0.234939</td>\n",
       "      <td>1.000000</td>\n",
       "      <td>0.125680</td>\n",
       "      <td>0.167196</td>\n",
       "      <td>-0.028514</td>\n",
       "      <td>-0.165453</td>\n",
       "      <td>-0.234166</td>\n",
       "      <td>0.184866</td>\n",
       "    </tr>\n",
       "    <tr>\n",
       "      <th>Alamine_Aminotransferase</th>\n",
       "      <td>-0.086883</td>\n",
       "      <td>-0.082332</td>\n",
       "      <td>0.214065</td>\n",
       "      <td>0.233894</td>\n",
       "      <td>0.125680</td>\n",
       "      <td>1.000000</td>\n",
       "      <td>0.791966</td>\n",
       "      <td>-0.042518</td>\n",
       "      <td>-0.029742</td>\n",
       "      <td>-0.002375</td>\n",
       "      <td>0.163416</td>\n",
       "    </tr>\n",
       "    <tr>\n",
       "      <th>Aspartate_Aminotransferase</th>\n",
       "      <td>-0.019910</td>\n",
       "      <td>-0.080336</td>\n",
       "      <td>0.237831</td>\n",
       "      <td>0.257544</td>\n",
       "      <td>0.167196</td>\n",
       "      <td>0.791966</td>\n",
       "      <td>1.000000</td>\n",
       "      <td>-0.025645</td>\n",
       "      <td>-0.085290</td>\n",
       "      <td>-0.070040</td>\n",
       "      <td>0.151934</td>\n",
       "    </tr>\n",
       "    <tr>\n",
       "      <th>Total_Protiens</th>\n",
       "      <td>-0.187461</td>\n",
       "      <td>0.089121</td>\n",
       "      <td>-0.008099</td>\n",
       "      <td>-0.000139</td>\n",
       "      <td>-0.028514</td>\n",
       "      <td>-0.042518</td>\n",
       "      <td>-0.025645</td>\n",
       "      <td>1.000000</td>\n",
       "      <td>0.784053</td>\n",
       "      <td>0.234887</td>\n",
       "      <td>-0.035008</td>\n",
       "    </tr>\n",
       "    <tr>\n",
       "      <th>Albumin</th>\n",
       "      <td>-0.265924</td>\n",
       "      <td>0.093799</td>\n",
       "      <td>-0.222250</td>\n",
       "      <td>-0.228531</td>\n",
       "      <td>-0.165453</td>\n",
       "      <td>-0.029742</td>\n",
       "      <td>-0.085290</td>\n",
       "      <td>0.784053</td>\n",
       "      <td>1.000000</td>\n",
       "      <td>0.689632</td>\n",
       "      <td>-0.161388</td>\n",
       "    </tr>\n",
       "    <tr>\n",
       "      <th>Albumin_and_Globulin_Ratio</th>\n",
       "      <td>-0.216408</td>\n",
       "      <td>0.003424</td>\n",
       "      <td>-0.206267</td>\n",
       "      <td>-0.200125</td>\n",
       "      <td>-0.234166</td>\n",
       "      <td>-0.002375</td>\n",
       "      <td>-0.070040</td>\n",
       "      <td>0.234887</td>\n",
       "      <td>0.689632</td>\n",
       "      <td>1.000000</td>\n",
       "      <td>-0.163131</td>\n",
       "    </tr>\n",
       "    <tr>\n",
       "      <th>Target</th>\n",
       "      <td>0.137351</td>\n",
       "      <td>-0.082416</td>\n",
       "      <td>0.220208</td>\n",
       "      <td>0.246046</td>\n",
       "      <td>0.184866</td>\n",
       "      <td>0.163416</td>\n",
       "      <td>0.151934</td>\n",
       "      <td>-0.035008</td>\n",
       "      <td>-0.161388</td>\n",
       "      <td>-0.163131</td>\n",
       "      <td>1.000000</td>\n",
       "    </tr>\n",
       "  </tbody>\n",
       "</table>\n",
       "</div>"
      ],
      "text/plain": [
       "                                 Age    Gender  Total_Bilirubin  \\\n",
       "Age                         1.000000 -0.056560         0.011763   \n",
       "Gender                     -0.056560  1.000000        -0.089291   \n",
       "Total_Bilirubin             0.011763 -0.089291         1.000000   \n",
       "Direct_Bilirubin            0.007529 -0.100436         0.874618   \n",
       "Alkaline_Phosphotase        0.080425  0.027496         0.206669   \n",
       "Alamine_Aminotransferase   -0.086883 -0.082332         0.214065   \n",
       "Aspartate_Aminotransferase -0.019910 -0.080336         0.237831   \n",
       "Total_Protiens             -0.187461  0.089121        -0.008099   \n",
       "Albumin                    -0.265924  0.093799        -0.222250   \n",
       "Albumin_and_Globulin_Ratio -0.216408  0.003424        -0.206267   \n",
       "Target                      0.137351 -0.082416         0.220208   \n",
       "\n",
       "                            Direct_Bilirubin  Alkaline_Phosphotase  \\\n",
       "Age                                 0.007529              0.080425   \n",
       "Gender                             -0.100436              0.027496   \n",
       "Total_Bilirubin                     0.874618              0.206669   \n",
       "Direct_Bilirubin                    1.000000              0.234939   \n",
       "Alkaline_Phosphotase                0.234939              1.000000   \n",
       "Alamine_Aminotransferase            0.233894              0.125680   \n",
       "Aspartate_Aminotransferase          0.257544              0.167196   \n",
       "Total_Protiens                     -0.000139             -0.028514   \n",
       "Albumin                            -0.228531             -0.165453   \n",
       "Albumin_and_Globulin_Ratio         -0.200125             -0.234166   \n",
       "Target                              0.246046              0.184866   \n",
       "\n",
       "                            Alamine_Aminotransferase  \\\n",
       "Age                                        -0.086883   \n",
       "Gender                                     -0.082332   \n",
       "Total_Bilirubin                             0.214065   \n",
       "Direct_Bilirubin                            0.233894   \n",
       "Alkaline_Phosphotase                        0.125680   \n",
       "Alamine_Aminotransferase                    1.000000   \n",
       "Aspartate_Aminotransferase                  0.791966   \n",
       "Total_Protiens                             -0.042518   \n",
       "Albumin                                    -0.029742   \n",
       "Albumin_and_Globulin_Ratio                 -0.002375   \n",
       "Target                                      0.163416   \n",
       "\n",
       "                            Aspartate_Aminotransferase  Total_Protiens  \\\n",
       "Age                                          -0.019910       -0.187461   \n",
       "Gender                                       -0.080336        0.089121   \n",
       "Total_Bilirubin                               0.237831       -0.008099   \n",
       "Direct_Bilirubin                              0.257544       -0.000139   \n",
       "Alkaline_Phosphotase                          0.167196       -0.028514   \n",
       "Alamine_Aminotransferase                      0.791966       -0.042518   \n",
       "Aspartate_Aminotransferase                    1.000000       -0.025645   \n",
       "Total_Protiens                               -0.025645        1.000000   \n",
       "Albumin                                      -0.085290        0.784053   \n",
       "Albumin_and_Globulin_Ratio                   -0.070040        0.234887   \n",
       "Target                                        0.151934       -0.035008   \n",
       "\n",
       "                             Albumin  Albumin_and_Globulin_Ratio    Target  \n",
       "Age                        -0.265924                   -0.216408  0.137351  \n",
       "Gender                      0.093799                    0.003424 -0.082416  \n",
       "Total_Bilirubin            -0.222250                   -0.206267  0.220208  \n",
       "Direct_Bilirubin           -0.228531                   -0.200125  0.246046  \n",
       "Alkaline_Phosphotase       -0.165453                   -0.234166  0.184866  \n",
       "Alamine_Aminotransferase   -0.029742                   -0.002375  0.163416  \n",
       "Aspartate_Aminotransferase -0.085290                   -0.070040  0.151934  \n",
       "Total_Protiens              0.784053                    0.234887 -0.035008  \n",
       "Albumin                     1.000000                    0.689632 -0.161388  \n",
       "Albumin_and_Globulin_Ratio  0.689632                    1.000000 -0.163131  \n",
       "Target                     -0.161388                   -0.163131  1.000000  "
      ]
     },
     "execution_count": 19,
     "metadata": {},
     "output_type": "execute_result"
    }
   ],
   "source": [
    "dados.corr()"
   ]
  },
  {
   "cell_type": "markdown",
   "id": "c7c3b69e",
   "metadata": {},
   "source": [
    "## Pré-processamento"
   ]
  },
  {
   "cell_type": "code",
   "execution_count": 20,
   "id": "861662b8",
   "metadata": {},
   "outputs": [
    {
     "data": {
      "text/plain": [
       "(583, 11)"
      ]
     },
     "execution_count": 20,
     "metadata": {},
     "output_type": "execute_result"
    }
   ],
   "source": [
    "dados.shape"
   ]
  },
  {
   "cell_type": "code",
   "execution_count": 21,
   "id": "8d2bf40a",
   "metadata": {},
   "outputs": [
    {
     "data": {
      "text/html": [
       "<div>\n",
       "<style scoped>\n",
       "    .dataframe tbody tr th:only-of-type {\n",
       "        vertical-align: middle;\n",
       "    }\n",
       "\n",
       "    .dataframe tbody tr th {\n",
       "        vertical-align: top;\n",
       "    }\n",
       "\n",
       "    .dataframe thead th {\n",
       "        text-align: right;\n",
       "    }\n",
       "</style>\n",
       "<table border=\"1\" class=\"dataframe\">\n",
       "  <thead>\n",
       "    <tr style=\"text-align: right;\">\n",
       "      <th></th>\n",
       "      <th>Age</th>\n",
       "      <th>Gender</th>\n",
       "      <th>Total_Bilirubin</th>\n",
       "      <th>Direct_Bilirubin</th>\n",
       "      <th>Alkaline_Phosphotase</th>\n",
       "      <th>Alamine_Aminotransferase</th>\n",
       "      <th>Aspartate_Aminotransferase</th>\n",
       "      <th>Total_Protiens</th>\n",
       "      <th>Albumin</th>\n",
       "      <th>Albumin_and_Globulin_Ratio</th>\n",
       "      <th>Target</th>\n",
       "    </tr>\n",
       "  </thead>\n",
       "  <tbody>\n",
       "    <tr>\n",
       "      <th>209</th>\n",
       "      <td>45</td>\n",
       "      <td>1</td>\n",
       "      <td>0.9</td>\n",
       "      <td>0.3</td>\n",
       "      <td>189</td>\n",
       "      <td>23</td>\n",
       "      <td>33</td>\n",
       "      <td>6.6</td>\n",
       "      <td>3.9</td>\n",
       "      <td>NaN</td>\n",
       "      <td>1</td>\n",
       "    </tr>\n",
       "    <tr>\n",
       "      <th>241</th>\n",
       "      <td>51</td>\n",
       "      <td>0</td>\n",
       "      <td>0.8</td>\n",
       "      <td>0.2</td>\n",
       "      <td>230</td>\n",
       "      <td>24</td>\n",
       "      <td>46</td>\n",
       "      <td>6.5</td>\n",
       "      <td>3.1</td>\n",
       "      <td>NaN</td>\n",
       "      <td>1</td>\n",
       "    </tr>\n",
       "    <tr>\n",
       "      <th>253</th>\n",
       "      <td>35</td>\n",
       "      <td>1</td>\n",
       "      <td>0.6</td>\n",
       "      <td>0.2</td>\n",
       "      <td>180</td>\n",
       "      <td>12</td>\n",
       "      <td>15</td>\n",
       "      <td>5.2</td>\n",
       "      <td>2.7</td>\n",
       "      <td>NaN</td>\n",
       "      <td>0</td>\n",
       "    </tr>\n",
       "    <tr>\n",
       "      <th>312</th>\n",
       "      <td>27</td>\n",
       "      <td>0</td>\n",
       "      <td>1.3</td>\n",
       "      <td>0.6</td>\n",
       "      <td>106</td>\n",
       "      <td>25</td>\n",
       "      <td>54</td>\n",
       "      <td>8.5</td>\n",
       "      <td>4.8</td>\n",
       "      <td>NaN</td>\n",
       "      <td>0</td>\n",
       "    </tr>\n",
       "  </tbody>\n",
       "</table>\n",
       "</div>"
      ],
      "text/plain": [
       "     Age  Gender  Total_Bilirubin  Direct_Bilirubin  Alkaline_Phosphotase  \\\n",
       "209   45       1              0.9               0.3                   189   \n",
       "241   51       0              0.8               0.2                   230   \n",
       "253   35       1              0.6               0.2                   180   \n",
       "312   27       0              1.3               0.6                   106   \n",
       "\n",
       "     Alamine_Aminotransferase  Aspartate_Aminotransferase  Total_Protiens  \\\n",
       "209                        23                          33             6.6   \n",
       "241                        24                          46             6.5   \n",
       "253                        12                          15             5.2   \n",
       "312                        25                          54             8.5   \n",
       "\n",
       "     Albumin  Albumin_and_Globulin_Ratio  Target  \n",
       "209      3.9                         NaN       1  \n",
       "241      3.1                         NaN       1  \n",
       "253      2.7                         NaN       0  \n",
       "312      4.8                         NaN       0  "
      ]
     },
     "execution_count": 21,
     "metadata": {},
     "output_type": "execute_result"
    }
   ],
   "source": [
    "# Valores ausentes\n",
    "dados[dados.isnull().values]"
   ]
  },
  {
   "cell_type": "code",
   "execution_count": 22,
   "id": "8ca7c1eb",
   "metadata": {
    "scrolled": true
   },
   "outputs": [
    {
     "data": {
      "text/html": [
       "<div>\n",
       "<style scoped>\n",
       "    .dataframe tbody tr th:only-of-type {\n",
       "        vertical-align: middle;\n",
       "    }\n",
       "\n",
       "    .dataframe tbody tr th {\n",
       "        vertical-align: top;\n",
       "    }\n",
       "\n",
       "    .dataframe thead th {\n",
       "        text-align: right;\n",
       "    }\n",
       "</style>\n",
       "<table border=\"1\" class=\"dataframe\">\n",
       "  <thead>\n",
       "    <tr style=\"text-align: right;\">\n",
       "      <th></th>\n",
       "      <th>Age</th>\n",
       "      <th>Gender</th>\n",
       "      <th>Total_Bilirubin</th>\n",
       "      <th>Direct_Bilirubin</th>\n",
       "      <th>Alkaline_Phosphotase</th>\n",
       "      <th>Alamine_Aminotransferase</th>\n",
       "      <th>Aspartate_Aminotransferase</th>\n",
       "      <th>Total_Protiens</th>\n",
       "      <th>Albumin</th>\n",
       "      <th>Albumin_and_Globulin_Ratio</th>\n",
       "      <th>Target</th>\n",
       "    </tr>\n",
       "  </thead>\n",
       "  <tbody>\n",
       "    <tr>\n",
       "      <th>18</th>\n",
       "      <td>40</td>\n",
       "      <td>1</td>\n",
       "      <td>0.9</td>\n",
       "      <td>0.3</td>\n",
       "      <td>293</td>\n",
       "      <td>232</td>\n",
       "      <td>245</td>\n",
       "      <td>6.8</td>\n",
       "      <td>3.1</td>\n",
       "      <td>0.80</td>\n",
       "      <td>1</td>\n",
       "    </tr>\n",
       "    <tr>\n",
       "      <th>19</th>\n",
       "      <td>40</td>\n",
       "      <td>1</td>\n",
       "      <td>0.9</td>\n",
       "      <td>0.3</td>\n",
       "      <td>293</td>\n",
       "      <td>232</td>\n",
       "      <td>245</td>\n",
       "      <td>6.8</td>\n",
       "      <td>3.1</td>\n",
       "      <td>0.80</td>\n",
       "      <td>1</td>\n",
       "    </tr>\n",
       "    <tr>\n",
       "      <th>25</th>\n",
       "      <td>34</td>\n",
       "      <td>0</td>\n",
       "      <td>4.1</td>\n",
       "      <td>2.0</td>\n",
       "      <td>289</td>\n",
       "      <td>875</td>\n",
       "      <td>731</td>\n",
       "      <td>5.0</td>\n",
       "      <td>2.7</td>\n",
       "      <td>1.10</td>\n",
       "      <td>1</td>\n",
       "    </tr>\n",
       "    <tr>\n",
       "      <th>26</th>\n",
       "      <td>34</td>\n",
       "      <td>0</td>\n",
       "      <td>4.1</td>\n",
       "      <td>2.0</td>\n",
       "      <td>289</td>\n",
       "      <td>875</td>\n",
       "      <td>731</td>\n",
       "      <td>5.0</td>\n",
       "      <td>2.7</td>\n",
       "      <td>1.10</td>\n",
       "      <td>1</td>\n",
       "    </tr>\n",
       "    <tr>\n",
       "      <th>33</th>\n",
       "      <td>38</td>\n",
       "      <td>1</td>\n",
       "      <td>2.6</td>\n",
       "      <td>1.2</td>\n",
       "      <td>410</td>\n",
       "      <td>59</td>\n",
       "      <td>57</td>\n",
       "      <td>5.6</td>\n",
       "      <td>3.0</td>\n",
       "      <td>0.80</td>\n",
       "      <td>0</td>\n",
       "    </tr>\n",
       "    <tr>\n",
       "      <th>34</th>\n",
       "      <td>38</td>\n",
       "      <td>1</td>\n",
       "      <td>2.6</td>\n",
       "      <td>1.2</td>\n",
       "      <td>410</td>\n",
       "      <td>59</td>\n",
       "      <td>57</td>\n",
       "      <td>5.6</td>\n",
       "      <td>3.0</td>\n",
       "      <td>0.80</td>\n",
       "      <td>0</td>\n",
       "    </tr>\n",
       "    <tr>\n",
       "      <th>54</th>\n",
       "      <td>42</td>\n",
       "      <td>0</td>\n",
       "      <td>8.9</td>\n",
       "      <td>4.5</td>\n",
       "      <td>272</td>\n",
       "      <td>31</td>\n",
       "      <td>61</td>\n",
       "      <td>5.8</td>\n",
       "      <td>2.0</td>\n",
       "      <td>0.50</td>\n",
       "      <td>1</td>\n",
       "    </tr>\n",
       "    <tr>\n",
       "      <th>55</th>\n",
       "      <td>42</td>\n",
       "      <td>0</td>\n",
       "      <td>8.9</td>\n",
       "      <td>4.5</td>\n",
       "      <td>272</td>\n",
       "      <td>31</td>\n",
       "      <td>61</td>\n",
       "      <td>5.8</td>\n",
       "      <td>2.0</td>\n",
       "      <td>0.50</td>\n",
       "      <td>1</td>\n",
       "    </tr>\n",
       "    <tr>\n",
       "      <th>61</th>\n",
       "      <td>58</td>\n",
       "      <td>0</td>\n",
       "      <td>1.0</td>\n",
       "      <td>0.5</td>\n",
       "      <td>158</td>\n",
       "      <td>37</td>\n",
       "      <td>43</td>\n",
       "      <td>7.2</td>\n",
       "      <td>3.6</td>\n",
       "      <td>1.00</td>\n",
       "      <td>1</td>\n",
       "    </tr>\n",
       "    <tr>\n",
       "      <th>62</th>\n",
       "      <td>58</td>\n",
       "      <td>0</td>\n",
       "      <td>1.0</td>\n",
       "      <td>0.5</td>\n",
       "      <td>158</td>\n",
       "      <td>37</td>\n",
       "      <td>43</td>\n",
       "      <td>7.2</td>\n",
       "      <td>3.6</td>\n",
       "      <td>1.00</td>\n",
       "      <td>1</td>\n",
       "    </tr>\n",
       "    <tr>\n",
       "      <th>105</th>\n",
       "      <td>36</td>\n",
       "      <td>0</td>\n",
       "      <td>5.3</td>\n",
       "      <td>2.3</td>\n",
       "      <td>145</td>\n",
       "      <td>32</td>\n",
       "      <td>92</td>\n",
       "      <td>5.1</td>\n",
       "      <td>2.6</td>\n",
       "      <td>1.00</td>\n",
       "      <td>0</td>\n",
       "    </tr>\n",
       "    <tr>\n",
       "      <th>106</th>\n",
       "      <td>36</td>\n",
       "      <td>0</td>\n",
       "      <td>5.3</td>\n",
       "      <td>2.3</td>\n",
       "      <td>145</td>\n",
       "      <td>32</td>\n",
       "      <td>92</td>\n",
       "      <td>5.1</td>\n",
       "      <td>2.6</td>\n",
       "      <td>1.00</td>\n",
       "      <td>0</td>\n",
       "    </tr>\n",
       "    <tr>\n",
       "      <th>107</th>\n",
       "      <td>36</td>\n",
       "      <td>0</td>\n",
       "      <td>0.8</td>\n",
       "      <td>0.2</td>\n",
       "      <td>158</td>\n",
       "      <td>29</td>\n",
       "      <td>39</td>\n",
       "      <td>6.0</td>\n",
       "      <td>2.2</td>\n",
       "      <td>0.50</td>\n",
       "      <td>0</td>\n",
       "    </tr>\n",
       "    <tr>\n",
       "      <th>108</th>\n",
       "      <td>36</td>\n",
       "      <td>0</td>\n",
       "      <td>0.8</td>\n",
       "      <td>0.2</td>\n",
       "      <td>158</td>\n",
       "      <td>29</td>\n",
       "      <td>39</td>\n",
       "      <td>6.0</td>\n",
       "      <td>2.2</td>\n",
       "      <td>0.50</td>\n",
       "      <td>0</td>\n",
       "    </tr>\n",
       "    <tr>\n",
       "      <th>137</th>\n",
       "      <td>18</td>\n",
       "      <td>0</td>\n",
       "      <td>0.8</td>\n",
       "      <td>0.2</td>\n",
       "      <td>282</td>\n",
       "      <td>72</td>\n",
       "      <td>140</td>\n",
       "      <td>5.5</td>\n",
       "      <td>2.5</td>\n",
       "      <td>0.80</td>\n",
       "      <td>1</td>\n",
       "    </tr>\n",
       "    <tr>\n",
       "      <th>138</th>\n",
       "      <td>18</td>\n",
       "      <td>0</td>\n",
       "      <td>0.8</td>\n",
       "      <td>0.2</td>\n",
       "      <td>282</td>\n",
       "      <td>72</td>\n",
       "      <td>140</td>\n",
       "      <td>5.5</td>\n",
       "      <td>2.5</td>\n",
       "      <td>0.80</td>\n",
       "      <td>1</td>\n",
       "    </tr>\n",
       "    <tr>\n",
       "      <th>142</th>\n",
       "      <td>30</td>\n",
       "      <td>0</td>\n",
       "      <td>1.6</td>\n",
       "      <td>0.4</td>\n",
       "      <td>332</td>\n",
       "      <td>84</td>\n",
       "      <td>139</td>\n",
       "      <td>5.6</td>\n",
       "      <td>2.7</td>\n",
       "      <td>0.90</td>\n",
       "      <td>1</td>\n",
       "    </tr>\n",
       "    <tr>\n",
       "      <th>143</th>\n",
       "      <td>30</td>\n",
       "      <td>0</td>\n",
       "      <td>1.6</td>\n",
       "      <td>0.4</td>\n",
       "      <td>332</td>\n",
       "      <td>84</td>\n",
       "      <td>139</td>\n",
       "      <td>5.6</td>\n",
       "      <td>2.7</td>\n",
       "      <td>0.90</td>\n",
       "      <td>1</td>\n",
       "    </tr>\n",
       "    <tr>\n",
       "      <th>157</th>\n",
       "      <td>72</td>\n",
       "      <td>0</td>\n",
       "      <td>0.7</td>\n",
       "      <td>0.1</td>\n",
       "      <td>196</td>\n",
       "      <td>20</td>\n",
       "      <td>35</td>\n",
       "      <td>5.8</td>\n",
       "      <td>2.0</td>\n",
       "      <td>0.50</td>\n",
       "      <td>1</td>\n",
       "    </tr>\n",
       "    <tr>\n",
       "      <th>158</th>\n",
       "      <td>72</td>\n",
       "      <td>0</td>\n",
       "      <td>0.7</td>\n",
       "      <td>0.1</td>\n",
       "      <td>196</td>\n",
       "      <td>20</td>\n",
       "      <td>35</td>\n",
       "      <td>5.8</td>\n",
       "      <td>2.0</td>\n",
       "      <td>0.50</td>\n",
       "      <td>1</td>\n",
       "    </tr>\n",
       "    <tr>\n",
       "      <th>163</th>\n",
       "      <td>39</td>\n",
       "      <td>0</td>\n",
       "      <td>1.9</td>\n",
       "      <td>0.9</td>\n",
       "      <td>180</td>\n",
       "      <td>42</td>\n",
       "      <td>62</td>\n",
       "      <td>7.4</td>\n",
       "      <td>4.3</td>\n",
       "      <td>1.38</td>\n",
       "      <td>1</td>\n",
       "    </tr>\n",
       "    <tr>\n",
       "      <th>164</th>\n",
       "      <td>39</td>\n",
       "      <td>0</td>\n",
       "      <td>1.9</td>\n",
       "      <td>0.9</td>\n",
       "      <td>180</td>\n",
       "      <td>42</td>\n",
       "      <td>62</td>\n",
       "      <td>7.4</td>\n",
       "      <td>4.3</td>\n",
       "      <td>1.38</td>\n",
       "      <td>1</td>\n",
       "    </tr>\n",
       "    <tr>\n",
       "      <th>173</th>\n",
       "      <td>31</td>\n",
       "      <td>0</td>\n",
       "      <td>0.6</td>\n",
       "      <td>0.1</td>\n",
       "      <td>175</td>\n",
       "      <td>48</td>\n",
       "      <td>34</td>\n",
       "      <td>6.0</td>\n",
       "      <td>3.7</td>\n",
       "      <td>1.60</td>\n",
       "      <td>1</td>\n",
       "    </tr>\n",
       "    <tr>\n",
       "      <th>174</th>\n",
       "      <td>31</td>\n",
       "      <td>0</td>\n",
       "      <td>0.6</td>\n",
       "      <td>0.1</td>\n",
       "      <td>175</td>\n",
       "      <td>48</td>\n",
       "      <td>34</td>\n",
       "      <td>6.0</td>\n",
       "      <td>3.7</td>\n",
       "      <td>1.60</td>\n",
       "      <td>1</td>\n",
       "    </tr>\n",
       "    <tr>\n",
       "      <th>200</th>\n",
       "      <td>49</td>\n",
       "      <td>0</td>\n",
       "      <td>0.6</td>\n",
       "      <td>0.1</td>\n",
       "      <td>218</td>\n",
       "      <td>50</td>\n",
       "      <td>53</td>\n",
       "      <td>5.0</td>\n",
       "      <td>2.4</td>\n",
       "      <td>0.90</td>\n",
       "      <td>1</td>\n",
       "    </tr>\n",
       "    <tr>\n",
       "      <th>201</th>\n",
       "      <td>49</td>\n",
       "      <td>0</td>\n",
       "      <td>0.6</td>\n",
       "      <td>0.1</td>\n",
       "      <td>218</td>\n",
       "      <td>50</td>\n",
       "      <td>53</td>\n",
       "      <td>5.0</td>\n",
       "      <td>2.4</td>\n",
       "      <td>0.90</td>\n",
       "      <td>1</td>\n",
       "    </tr>\n",
       "  </tbody>\n",
       "</table>\n",
       "</div>"
      ],
      "text/plain": [
       "     Age  Gender  Total_Bilirubin  Direct_Bilirubin  Alkaline_Phosphotase  \\\n",
       "18    40       1              0.9               0.3                   293   \n",
       "19    40       1              0.9               0.3                   293   \n",
       "25    34       0              4.1               2.0                   289   \n",
       "26    34       0              4.1               2.0                   289   \n",
       "33    38       1              2.6               1.2                   410   \n",
       "34    38       1              2.6               1.2                   410   \n",
       "54    42       0              8.9               4.5                   272   \n",
       "55    42       0              8.9               4.5                   272   \n",
       "61    58       0              1.0               0.5                   158   \n",
       "62    58       0              1.0               0.5                   158   \n",
       "105   36       0              5.3               2.3                   145   \n",
       "106   36       0              5.3               2.3                   145   \n",
       "107   36       0              0.8               0.2                   158   \n",
       "108   36       0              0.8               0.2                   158   \n",
       "137   18       0              0.8               0.2                   282   \n",
       "138   18       0              0.8               0.2                   282   \n",
       "142   30       0              1.6               0.4                   332   \n",
       "143   30       0              1.6               0.4                   332   \n",
       "157   72       0              0.7               0.1                   196   \n",
       "158   72       0              0.7               0.1                   196   \n",
       "163   39       0              1.9               0.9                   180   \n",
       "164   39       0              1.9               0.9                   180   \n",
       "173   31       0              0.6               0.1                   175   \n",
       "174   31       0              0.6               0.1                   175   \n",
       "200   49       0              0.6               0.1                   218   \n",
       "201   49       0              0.6               0.1                   218   \n",
       "\n",
       "     Alamine_Aminotransferase  Aspartate_Aminotransferase  Total_Protiens  \\\n",
       "18                        232                         245             6.8   \n",
       "19                        232                         245             6.8   \n",
       "25                        875                         731             5.0   \n",
       "26                        875                         731             5.0   \n",
       "33                         59                          57             5.6   \n",
       "34                         59                          57             5.6   \n",
       "54                         31                          61             5.8   \n",
       "55                         31                          61             5.8   \n",
       "61                         37                          43             7.2   \n",
       "62                         37                          43             7.2   \n",
       "105                        32                          92             5.1   \n",
       "106                        32                          92             5.1   \n",
       "107                        29                          39             6.0   \n",
       "108                        29                          39             6.0   \n",
       "137                        72                         140             5.5   \n",
       "138                        72                         140             5.5   \n",
       "142                        84                         139             5.6   \n",
       "143                        84                         139             5.6   \n",
       "157                        20                          35             5.8   \n",
       "158                        20                          35             5.8   \n",
       "163                        42                          62             7.4   \n",
       "164                        42                          62             7.4   \n",
       "173                        48                          34             6.0   \n",
       "174                        48                          34             6.0   \n",
       "200                        50                          53             5.0   \n",
       "201                        50                          53             5.0   \n",
       "\n",
       "     Albumin  Albumin_and_Globulin_Ratio  Target  \n",
       "18       3.1                        0.80       1  \n",
       "19       3.1                        0.80       1  \n",
       "25       2.7                        1.10       1  \n",
       "26       2.7                        1.10       1  \n",
       "33       3.0                        0.80       0  \n",
       "34       3.0                        0.80       0  \n",
       "54       2.0                        0.50       1  \n",
       "55       2.0                        0.50       1  \n",
       "61       3.6                        1.00       1  \n",
       "62       3.6                        1.00       1  \n",
       "105      2.6                        1.00       0  \n",
       "106      2.6                        1.00       0  \n",
       "107      2.2                        0.50       0  \n",
       "108      2.2                        0.50       0  \n",
       "137      2.5                        0.80       1  \n",
       "138      2.5                        0.80       1  \n",
       "142      2.7                        0.90       1  \n",
       "143      2.7                        0.90       1  \n",
       "157      2.0                        0.50       1  \n",
       "158      2.0                        0.50       1  \n",
       "163      4.3                        1.38       1  \n",
       "164      4.3                        1.38       1  \n",
       "173      3.7                        1.60       1  \n",
       "174      3.7                        1.60       1  \n",
       "200      2.4                        0.90       1  \n",
       "201      2.4                        0.90       1  "
      ]
     },
     "execution_count": 22,
     "metadata": {},
     "output_type": "execute_result"
    }
   ],
   "source": [
    "# Valores Duplicados (complete cases)\n",
    "dados[dados.duplicated(keep = False)]"
   ]
  },
  {
   "cell_type": "code",
   "execution_count": 23,
   "id": "6d02acc4",
   "metadata": {},
   "outputs": [],
   "source": [
    "dados = dados.drop_duplicates()"
   ]
  },
  {
   "cell_type": "code",
   "execution_count": 24,
   "id": "97a4e8a1",
   "metadata": {},
   "outputs": [
    {
     "data": {
      "text/plain": [
       "(570, 11)"
      ]
     },
     "execution_count": 24,
     "metadata": {},
     "output_type": "execute_result"
    }
   ],
   "source": [
    "dados.shape"
   ]
  },
  {
   "cell_type": "markdown",
   "id": "56019765",
   "metadata": {},
   "source": [
    "##### Tratando Outliers"
   ]
  },
  {
   "cell_type": "code",
   "execution_count": 25,
   "id": "8e33ca77",
   "metadata": {},
   "outputs": [
    {
     "data": {
      "text/html": [
       "<div>\n",
       "<style scoped>\n",
       "    .dataframe tbody tr th:only-of-type {\n",
       "        vertical-align: middle;\n",
       "    }\n",
       "\n",
       "    .dataframe tbody tr th {\n",
       "        vertical-align: top;\n",
       "    }\n",
       "\n",
       "    .dataframe thead th {\n",
       "        text-align: right;\n",
       "    }\n",
       "</style>\n",
       "<table border=\"1\" class=\"dataframe\">\n",
       "  <thead>\n",
       "    <tr style=\"text-align: right;\">\n",
       "      <th></th>\n",
       "      <th>Age</th>\n",
       "      <th>Gender</th>\n",
       "      <th>Total_Bilirubin</th>\n",
       "      <th>Direct_Bilirubin</th>\n",
       "      <th>Alkaline_Phosphotase</th>\n",
       "      <th>Alamine_Aminotransferase</th>\n",
       "      <th>Aspartate_Aminotransferase</th>\n",
       "      <th>Total_Protiens</th>\n",
       "      <th>Albumin</th>\n",
       "      <th>Albumin_and_Globulin_Ratio</th>\n",
       "      <th>Target</th>\n",
       "    </tr>\n",
       "  </thead>\n",
       "  <tbody>\n",
       "    <tr>\n",
       "      <th>count</th>\n",
       "      <td>570.000000</td>\n",
       "      <td>570.000000</td>\n",
       "      <td>570.000000</td>\n",
       "      <td>570.000000</td>\n",
       "      <td>570.000000</td>\n",
       "      <td>570.000000</td>\n",
       "      <td>570.000000</td>\n",
       "      <td>570.000000</td>\n",
       "      <td>570.000000</td>\n",
       "      <td>566.000000</td>\n",
       "      <td>570.000000</td>\n",
       "    </tr>\n",
       "    <tr>\n",
       "      <th>mean</th>\n",
       "      <td>44.849123</td>\n",
       "      <td>0.245614</td>\n",
       "      <td>3.321754</td>\n",
       "      <td>1.497544</td>\n",
       "      <td>291.750877</td>\n",
       "      <td>79.728070</td>\n",
       "      <td>109.380702</td>\n",
       "      <td>6.496316</td>\n",
       "      <td>3.148947</td>\n",
       "      <td>0.948004</td>\n",
       "      <td>0.712281</td>\n",
       "    </tr>\n",
       "    <tr>\n",
       "      <th>std</th>\n",
       "      <td>16.242182</td>\n",
       "      <td>0.430829</td>\n",
       "      <td>6.267941</td>\n",
       "      <td>2.833231</td>\n",
       "      <td>245.291859</td>\n",
       "      <td>181.471697</td>\n",
       "      <td>290.880671</td>\n",
       "      <td>1.088300</td>\n",
       "      <td>0.796813</td>\n",
       "      <td>0.319635</td>\n",
       "      <td>0.453097</td>\n",
       "    </tr>\n",
       "    <tr>\n",
       "      <th>min</th>\n",
       "      <td>4.000000</td>\n",
       "      <td>0.000000</td>\n",
       "      <td>0.400000</td>\n",
       "      <td>0.100000</td>\n",
       "      <td>63.000000</td>\n",
       "      <td>10.000000</td>\n",
       "      <td>10.000000</td>\n",
       "      <td>2.700000</td>\n",
       "      <td>0.900000</td>\n",
       "      <td>0.300000</td>\n",
       "      <td>0.000000</td>\n",
       "    </tr>\n",
       "    <tr>\n",
       "      <th>25%</th>\n",
       "      <td>33.000000</td>\n",
       "      <td>0.000000</td>\n",
       "      <td>0.800000</td>\n",
       "      <td>0.200000</td>\n",
       "      <td>176.000000</td>\n",
       "      <td>23.000000</td>\n",
       "      <td>25.000000</td>\n",
       "      <td>5.800000</td>\n",
       "      <td>2.600000</td>\n",
       "      <td>0.700000</td>\n",
       "      <td>0.000000</td>\n",
       "    </tr>\n",
       "    <tr>\n",
       "      <th>50%</th>\n",
       "      <td>45.000000</td>\n",
       "      <td>0.000000</td>\n",
       "      <td>1.000000</td>\n",
       "      <td>0.300000</td>\n",
       "      <td>208.000000</td>\n",
       "      <td>35.000000</td>\n",
       "      <td>41.000000</td>\n",
       "      <td>6.600000</td>\n",
       "      <td>3.100000</td>\n",
       "      <td>0.950000</td>\n",
       "      <td>1.000000</td>\n",
       "    </tr>\n",
       "    <tr>\n",
       "      <th>75%</th>\n",
       "      <td>58.000000</td>\n",
       "      <td>0.000000</td>\n",
       "      <td>2.600000</td>\n",
       "      <td>1.300000</td>\n",
       "      <td>298.000000</td>\n",
       "      <td>60.000000</td>\n",
       "      <td>86.750000</td>\n",
       "      <td>7.200000</td>\n",
       "      <td>3.800000</td>\n",
       "      <td>1.100000</td>\n",
       "      <td>1.000000</td>\n",
       "    </tr>\n",
       "    <tr>\n",
       "      <th>max</th>\n",
       "      <td>90.000000</td>\n",
       "      <td>1.000000</td>\n",
       "      <td>75.000000</td>\n",
       "      <td>19.700000</td>\n",
       "      <td>2110.000000</td>\n",
       "      <td>2000.000000</td>\n",
       "      <td>4929.000000</td>\n",
       "      <td>9.600000</td>\n",
       "      <td>5.500000</td>\n",
       "      <td>2.800000</td>\n",
       "      <td>1.000000</td>\n",
       "    </tr>\n",
       "  </tbody>\n",
       "</table>\n",
       "</div>"
      ],
      "text/plain": [
       "              Age      Gender  Total_Bilirubin  Direct_Bilirubin  \\\n",
       "count  570.000000  570.000000       570.000000        570.000000   \n",
       "mean    44.849123    0.245614         3.321754          1.497544   \n",
       "std     16.242182    0.430829         6.267941          2.833231   \n",
       "min      4.000000    0.000000         0.400000          0.100000   \n",
       "25%     33.000000    0.000000         0.800000          0.200000   \n",
       "50%     45.000000    0.000000         1.000000          0.300000   \n",
       "75%     58.000000    0.000000         2.600000          1.300000   \n",
       "max     90.000000    1.000000        75.000000         19.700000   \n",
       "\n",
       "       Alkaline_Phosphotase  Alamine_Aminotransferase  \\\n",
       "count            570.000000                570.000000   \n",
       "mean             291.750877                 79.728070   \n",
       "std              245.291859                181.471697   \n",
       "min               63.000000                 10.000000   \n",
       "25%              176.000000                 23.000000   \n",
       "50%              208.000000                 35.000000   \n",
       "75%              298.000000                 60.000000   \n",
       "max             2110.000000               2000.000000   \n",
       "\n",
       "       Aspartate_Aminotransferase  Total_Protiens     Albumin  \\\n",
       "count                  570.000000      570.000000  570.000000   \n",
       "mean                   109.380702        6.496316    3.148947   \n",
       "std                    290.880671        1.088300    0.796813   \n",
       "min                     10.000000        2.700000    0.900000   \n",
       "25%                     25.000000        5.800000    2.600000   \n",
       "50%                     41.000000        6.600000    3.100000   \n",
       "75%                     86.750000        7.200000    3.800000   \n",
       "max                   4929.000000        9.600000    5.500000   \n",
       "\n",
       "       Albumin_and_Globulin_Ratio      Target  \n",
       "count                  566.000000  570.000000  \n",
       "mean                     0.948004    0.712281  \n",
       "std                      0.319635    0.453097  \n",
       "min                      0.300000    0.000000  \n",
       "25%                      0.700000    0.000000  \n",
       "50%                      0.950000    1.000000  \n",
       "75%                      1.100000    1.000000  \n",
       "max                      2.800000    1.000000  "
      ]
     },
     "execution_count": 25,
     "metadata": {},
     "output_type": "execute_result"
    }
   ],
   "source": [
    "dados.describe()"
   ]
  },
  {
   "cell_type": "code",
   "execution_count": 26,
   "id": "3c88ce8a",
   "metadata": {},
   "outputs": [
    {
     "data": {
      "text/plain": [
       "117    2000\n",
       "27     1680\n",
       "47     1630\n",
       "118    1350\n",
       "135    1250\n",
       "Name: Alamine_Aminotransferase, dtype: int64"
      ]
     },
     "execution_count": 26,
     "metadata": {},
     "output_type": "execute_result"
    }
   ],
   "source": [
    "# Frequência por valor\n",
    "dados.Alamine_Aminotransferase.sort_values(ascending = False).head()"
   ]
  },
  {
   "cell_type": "code",
   "execution_count": 27,
   "id": "9cc80283",
   "metadata": {},
   "outputs": [
    {
     "data": {
      "text/plain": [
       "135    4929\n",
       "117    2946\n",
       "118    1600\n",
       "207    1500\n",
       "199    1050\n",
       "Name: Aspartate_Aminotransferase, dtype: int64"
      ]
     },
     "execution_count": 27,
     "metadata": {},
     "output_type": "execute_result"
    }
   ],
   "source": [
    "dados.Aspartate_Aminotransferase.sort_values(ascending = False).head()"
   ]
  },
  {
   "cell_type": "code",
   "execution_count": 28,
   "id": "81b4c253",
   "metadata": {},
   "outputs": [
    {
     "data": {
      "text/plain": [
       "(570, 11)"
      ]
     },
     "execution_count": 28,
     "metadata": {},
     "output_type": "execute_result"
    }
   ],
   "source": [
    "dados.shape"
   ]
  },
  {
   "cell_type": "code",
   "execution_count": 29,
   "id": "8aa3a71d",
   "metadata": {},
   "outputs": [],
   "source": [
    "# Manter somente os registros onde Aspartate_Aminotransferase <= 2500\n",
    "dados = dados[dados.Aspartate_Aminotransferase <= 2500]\n"
   ]
  },
  {
   "cell_type": "code",
   "execution_count": 30,
   "id": "2d8e3153",
   "metadata": {},
   "outputs": [
    {
     "data": {
      "text/plain": [
       "(568, 11)"
      ]
     },
     "execution_count": 30,
     "metadata": {},
     "output_type": "execute_result"
    }
   ],
   "source": [
    "dados.shape"
   ]
  },
  {
   "cell_type": "code",
   "execution_count": 31,
   "id": "32fe5be7",
   "metadata": {},
   "outputs": [
    {
     "data": {
      "text/html": [
       "<div>\n",
       "<style scoped>\n",
       "    .dataframe tbody tr th:only-of-type {\n",
       "        vertical-align: middle;\n",
       "    }\n",
       "\n",
       "    .dataframe tbody tr th {\n",
       "        vertical-align: top;\n",
       "    }\n",
       "\n",
       "    .dataframe thead th {\n",
       "        text-align: right;\n",
       "    }\n",
       "</style>\n",
       "<table border=\"1\" class=\"dataframe\">\n",
       "  <thead>\n",
       "    <tr style=\"text-align: right;\">\n",
       "      <th></th>\n",
       "      <th>Age</th>\n",
       "      <th>Gender</th>\n",
       "      <th>Total_Bilirubin</th>\n",
       "      <th>Direct_Bilirubin</th>\n",
       "      <th>Alkaline_Phosphotase</th>\n",
       "      <th>Alamine_Aminotransferase</th>\n",
       "      <th>Aspartate_Aminotransferase</th>\n",
       "      <th>Total_Protiens</th>\n",
       "      <th>Albumin</th>\n",
       "      <th>Albumin_and_Globulin_Ratio</th>\n",
       "      <th>Target</th>\n",
       "    </tr>\n",
       "  </thead>\n",
       "  <tbody>\n",
       "    <tr>\n",
       "      <th>count</th>\n",
       "      <td>568.000000</td>\n",
       "      <td>568.000000</td>\n",
       "      <td>568.000000</td>\n",
       "      <td>568.000000</td>\n",
       "      <td>568.000000</td>\n",
       "      <td>568.000000</td>\n",
       "      <td>568.000000</td>\n",
       "      <td>568.000000</td>\n",
       "      <td>568.000000</td>\n",
       "      <td>564.000000</td>\n",
       "      <td>568.000000</td>\n",
       "    </tr>\n",
       "    <tr>\n",
       "      <th>mean</th>\n",
       "      <td>44.834507</td>\n",
       "      <td>0.246479</td>\n",
       "      <td>3.291197</td>\n",
       "      <td>1.482042</td>\n",
       "      <td>290.482394</td>\n",
       "      <td>74.286972</td>\n",
       "      <td>95.901408</td>\n",
       "      <td>6.496831</td>\n",
       "      <td>3.150000</td>\n",
       "      <td>0.948174</td>\n",
       "      <td>0.711268</td>\n",
       "    </tr>\n",
       "    <tr>\n",
       "      <th>std</th>\n",
       "      <td>16.237569</td>\n",
       "      <td>0.431340</td>\n",
       "      <td>6.257583</td>\n",
       "      <td>2.826056</td>\n",
       "      <td>243.271522</td>\n",
       "      <td>155.240601</td>\n",
       "      <td>171.956479</td>\n",
       "      <td>1.089500</td>\n",
       "      <td>0.797571</td>\n",
       "      <td>0.319301</td>\n",
       "      <td>0.453573</td>\n",
       "    </tr>\n",
       "    <tr>\n",
       "      <th>min</th>\n",
       "      <td>4.000000</td>\n",
       "      <td>0.000000</td>\n",
       "      <td>0.400000</td>\n",
       "      <td>0.100000</td>\n",
       "      <td>63.000000</td>\n",
       "      <td>10.000000</td>\n",
       "      <td>10.000000</td>\n",
       "      <td>2.700000</td>\n",
       "      <td>0.900000</td>\n",
       "      <td>0.300000</td>\n",
       "      <td>0.000000</td>\n",
       "    </tr>\n",
       "    <tr>\n",
       "      <th>25%</th>\n",
       "      <td>33.000000</td>\n",
       "      <td>0.000000</td>\n",
       "      <td>0.800000</td>\n",
       "      <td>0.200000</td>\n",
       "      <td>175.750000</td>\n",
       "      <td>23.000000</td>\n",
       "      <td>25.000000</td>\n",
       "      <td>5.800000</td>\n",
       "      <td>2.600000</td>\n",
       "      <td>0.700000</td>\n",
       "      <td>0.000000</td>\n",
       "    </tr>\n",
       "    <tr>\n",
       "      <th>50%</th>\n",
       "      <td>45.000000</td>\n",
       "      <td>0.000000</td>\n",
       "      <td>1.000000</td>\n",
       "      <td>0.300000</td>\n",
       "      <td>208.000000</td>\n",
       "      <td>35.000000</td>\n",
       "      <td>41.000000</td>\n",
       "      <td>6.600000</td>\n",
       "      <td>3.100000</td>\n",
       "      <td>0.950000</td>\n",
       "      <td>1.000000</td>\n",
       "    </tr>\n",
       "    <tr>\n",
       "      <th>75%</th>\n",
       "      <td>58.000000</td>\n",
       "      <td>0.000000</td>\n",
       "      <td>2.600000</td>\n",
       "      <td>1.300000</td>\n",
       "      <td>298.000000</td>\n",
       "      <td>60.000000</td>\n",
       "      <td>86.000000</td>\n",
       "      <td>7.200000</td>\n",
       "      <td>3.800000</td>\n",
       "      <td>1.100000</td>\n",
       "      <td>1.000000</td>\n",
       "    </tr>\n",
       "    <tr>\n",
       "      <th>max</th>\n",
       "      <td>90.000000</td>\n",
       "      <td>1.000000</td>\n",
       "      <td>75.000000</td>\n",
       "      <td>19.700000</td>\n",
       "      <td>2110.000000</td>\n",
       "      <td>1680.000000</td>\n",
       "      <td>1600.000000</td>\n",
       "      <td>9.600000</td>\n",
       "      <td>5.500000</td>\n",
       "      <td>2.800000</td>\n",
       "      <td>1.000000</td>\n",
       "    </tr>\n",
       "  </tbody>\n",
       "</table>\n",
       "</div>"
      ],
      "text/plain": [
       "              Age      Gender  Total_Bilirubin  Direct_Bilirubin  \\\n",
       "count  568.000000  568.000000       568.000000        568.000000   \n",
       "mean    44.834507    0.246479         3.291197          1.482042   \n",
       "std     16.237569    0.431340         6.257583          2.826056   \n",
       "min      4.000000    0.000000         0.400000          0.100000   \n",
       "25%     33.000000    0.000000         0.800000          0.200000   \n",
       "50%     45.000000    0.000000         1.000000          0.300000   \n",
       "75%     58.000000    0.000000         2.600000          1.300000   \n",
       "max     90.000000    1.000000        75.000000         19.700000   \n",
       "\n",
       "       Alkaline_Phosphotase  Alamine_Aminotransferase  \\\n",
       "count            568.000000                568.000000   \n",
       "mean             290.482394                 74.286972   \n",
       "std              243.271522                155.240601   \n",
       "min               63.000000                 10.000000   \n",
       "25%              175.750000                 23.000000   \n",
       "50%              208.000000                 35.000000   \n",
       "75%              298.000000                 60.000000   \n",
       "max             2110.000000               1680.000000   \n",
       "\n",
       "       Aspartate_Aminotransferase  Total_Protiens     Albumin  \\\n",
       "count                  568.000000      568.000000  568.000000   \n",
       "mean                    95.901408        6.496831    3.150000   \n",
       "std                    171.956479        1.089500    0.797571   \n",
       "min                     10.000000        2.700000    0.900000   \n",
       "25%                     25.000000        5.800000    2.600000   \n",
       "50%                     41.000000        6.600000    3.100000   \n",
       "75%                     86.000000        7.200000    3.800000   \n",
       "max                   1600.000000        9.600000    5.500000   \n",
       "\n",
       "       Albumin_and_Globulin_Ratio      Target  \n",
       "count                  564.000000  568.000000  \n",
       "mean                     0.948174    0.711268  \n",
       "std                      0.319301    0.453573  \n",
       "min                      0.300000    0.000000  \n",
       "25%                      0.700000    0.000000  \n",
       "50%                      0.950000    1.000000  \n",
       "75%                      1.100000    1.000000  \n",
       "max                      2.800000    1.000000  "
      ]
     },
     "execution_count": 31,
     "metadata": {},
     "output_type": "execute_result"
    }
   ],
   "source": [
    "dados.describe()"
   ]
  },
  {
   "cell_type": "code",
   "execution_count": 32,
   "id": "cca2958f",
   "metadata": {},
   "outputs": [
    {
     "data": {
      "text/html": [
       "<div>\n",
       "<style scoped>\n",
       "    .dataframe tbody tr th:only-of-type {\n",
       "        vertical-align: middle;\n",
       "    }\n",
       "\n",
       "    .dataframe tbody tr th {\n",
       "        vertical-align: top;\n",
       "    }\n",
       "\n",
       "    .dataframe thead th {\n",
       "        text-align: right;\n",
       "    }\n",
       "</style>\n",
       "<table border=\"1\" class=\"dataframe\">\n",
       "  <thead>\n",
       "    <tr style=\"text-align: right;\">\n",
       "      <th></th>\n",
       "      <th>Age</th>\n",
       "      <th>Gender</th>\n",
       "      <th>Total_Bilirubin</th>\n",
       "      <th>Direct_Bilirubin</th>\n",
       "      <th>Alkaline_Phosphotase</th>\n",
       "      <th>Alamine_Aminotransferase</th>\n",
       "      <th>Aspartate_Aminotransferase</th>\n",
       "      <th>Total_Protiens</th>\n",
       "      <th>Albumin</th>\n",
       "      <th>Albumin_and_Globulin_Ratio</th>\n",
       "      <th>Target</th>\n",
       "    </tr>\n",
       "  </thead>\n",
       "  <tbody>\n",
       "    <tr>\n",
       "      <th>209</th>\n",
       "      <td>45</td>\n",
       "      <td>1</td>\n",
       "      <td>0.9</td>\n",
       "      <td>0.3</td>\n",
       "      <td>189</td>\n",
       "      <td>23</td>\n",
       "      <td>33</td>\n",
       "      <td>6.6</td>\n",
       "      <td>3.9</td>\n",
       "      <td>NaN</td>\n",
       "      <td>1</td>\n",
       "    </tr>\n",
       "    <tr>\n",
       "      <th>241</th>\n",
       "      <td>51</td>\n",
       "      <td>0</td>\n",
       "      <td>0.8</td>\n",
       "      <td>0.2</td>\n",
       "      <td>230</td>\n",
       "      <td>24</td>\n",
       "      <td>46</td>\n",
       "      <td>6.5</td>\n",
       "      <td>3.1</td>\n",
       "      <td>NaN</td>\n",
       "      <td>1</td>\n",
       "    </tr>\n",
       "    <tr>\n",
       "      <th>253</th>\n",
       "      <td>35</td>\n",
       "      <td>1</td>\n",
       "      <td>0.6</td>\n",
       "      <td>0.2</td>\n",
       "      <td>180</td>\n",
       "      <td>12</td>\n",
       "      <td>15</td>\n",
       "      <td>5.2</td>\n",
       "      <td>2.7</td>\n",
       "      <td>NaN</td>\n",
       "      <td>0</td>\n",
       "    </tr>\n",
       "    <tr>\n",
       "      <th>312</th>\n",
       "      <td>27</td>\n",
       "      <td>0</td>\n",
       "      <td>1.3</td>\n",
       "      <td>0.6</td>\n",
       "      <td>106</td>\n",
       "      <td>25</td>\n",
       "      <td>54</td>\n",
       "      <td>8.5</td>\n",
       "      <td>4.8</td>\n",
       "      <td>NaN</td>\n",
       "      <td>0</td>\n",
       "    </tr>\n",
       "  </tbody>\n",
       "</table>\n",
       "</div>"
      ],
      "text/plain": [
       "     Age  Gender  Total_Bilirubin  Direct_Bilirubin  Alkaline_Phosphotase  \\\n",
       "209   45       1              0.9               0.3                   189   \n",
       "241   51       0              0.8               0.2                   230   \n",
       "253   35       1              0.6               0.2                   180   \n",
       "312   27       0              1.3               0.6                   106   \n",
       "\n",
       "     Alamine_Aminotransferase  Aspartate_Aminotransferase  Total_Protiens  \\\n",
       "209                        23                          33             6.6   \n",
       "241                        24                          46             6.5   \n",
       "253                        12                          15             5.2   \n",
       "312                        25                          54             8.5   \n",
       "\n",
       "     Albumin  Albumin_and_Globulin_Ratio  Target  \n",
       "209      3.9                         NaN       1  \n",
       "241      3.1                         NaN       1  \n",
       "253      2.7                         NaN       0  \n",
       "312      4.8                         NaN       0  "
      ]
     },
     "execution_count": 32,
     "metadata": {},
     "output_type": "execute_result"
    }
   ],
   "source": [
    "dados[dados.isnull().values]"
   ]
  },
  {
   "cell_type": "code",
   "execution_count": 33,
   "id": "018704ac",
   "metadata": {},
   "outputs": [
    {
     "data": {
      "text/plain": [
       "(564, 11)"
      ]
     },
     "execution_count": 33,
     "metadata": {},
     "output_type": "execute_result"
    }
   ],
   "source": [
    "# Drop em registros com valor ausente\n",
    "dados = dados.dropna(how = 'any')\n",
    "dados.shape"
   ]
  },
  {
   "cell_type": "code",
   "execution_count": 34,
   "id": "907766d5",
   "metadata": {},
   "outputs": [
    {
     "data": {
      "text/html": [
       "<div>\n",
       "<style scoped>\n",
       "    .dataframe tbody tr th:only-of-type {\n",
       "        vertical-align: middle;\n",
       "    }\n",
       "\n",
       "    .dataframe tbody tr th {\n",
       "        vertical-align: top;\n",
       "    }\n",
       "\n",
       "    .dataframe thead th {\n",
       "        text-align: right;\n",
       "    }\n",
       "</style>\n",
       "<table border=\"1\" class=\"dataframe\">\n",
       "  <thead>\n",
       "    <tr style=\"text-align: right;\">\n",
       "      <th></th>\n",
       "      <th>Direct_Bilirubin</th>\n",
       "      <th>Total_Bilirubin</th>\n",
       "    </tr>\n",
       "  </thead>\n",
       "  <tbody>\n",
       "    <tr>\n",
       "      <th>Direct_Bilirubin</th>\n",
       "      <td>1.000000</td>\n",
       "      <td>0.873053</td>\n",
       "    </tr>\n",
       "    <tr>\n",
       "      <th>Total_Bilirubin</th>\n",
       "      <td>0.873053</td>\n",
       "      <td>1.000000</td>\n",
       "    </tr>\n",
       "  </tbody>\n",
       "</table>\n",
       "</div>"
      ],
      "text/plain": [
       "                  Direct_Bilirubin  Total_Bilirubin\n",
       "Direct_Bilirubin          1.000000         0.873053\n",
       "Total_Bilirubin           0.873053         1.000000"
      ]
     },
     "execution_count": 34,
     "metadata": {},
     "output_type": "execute_result"
    }
   ],
   "source": [
    "dados[['Direct_Bilirubin', 'Total_Bilirubin']].corr()"
   ]
  },
  {
   "cell_type": "code",
   "execution_count": 35,
   "id": "ee00c3ee",
   "metadata": {},
   "outputs": [],
   "source": [
    "# Drop Direct_Bilirubin\n",
    "dados = dados.drop('Direct_Bilirubin', axis = 1)"
   ]
  },
  {
   "cell_type": "code",
   "execution_count": 36,
   "id": "f4fc8474",
   "metadata": {},
   "outputs": [
    {
     "data": {
      "text/plain": [
       "(564, 10)"
      ]
     },
     "execution_count": 36,
     "metadata": {},
     "output_type": "execute_result"
    }
   ],
   "source": [
    "dados.shape"
   ]
  },
  {
   "cell_type": "markdown",
   "id": "885aba23",
   "metadata": {},
   "source": [
    "## Machine Learning"
   ]
  },
  {
   "cell_type": "code",
   "execution_count": 37,
   "id": "193a4c00",
   "metadata": {},
   "outputs": [],
   "source": [
    "# Variáveis de entrada e Target\n",
    "X = dados.drop('Target', axis = 1)\n",
    "y = dados.Target"
   ]
  },
  {
   "cell_type": "code",
   "execution_count": 38,
   "id": "13ea639d",
   "metadata": {},
   "outputs": [],
   "source": [
    "# Split em treino e teste (0.25)\n",
    "X_treino, X_teste, y_treino, y_teste = train_test_split(X,\n",
    "                                                        y,\n",
    "                                                        test_size = 0.25,\n",
    "                                                        random_state = 1234,\n",
    "                                                        stratify = dados.Target)"
   ]
  },
  {
   "cell_type": "code",
   "execution_count": 39,
   "id": "173c6ba3",
   "metadata": {},
   "outputs": [
    {
     "data": {
      "text/html": [
       "<div>\n",
       "<style scoped>\n",
       "    .dataframe tbody tr th:only-of-type {\n",
       "        vertical-align: middle;\n",
       "    }\n",
       "\n",
       "    .dataframe tbody tr th {\n",
       "        vertical-align: top;\n",
       "    }\n",
       "\n",
       "    .dataframe thead th {\n",
       "        text-align: right;\n",
       "    }\n",
       "</style>\n",
       "<table border=\"1\" class=\"dataframe\">\n",
       "  <thead>\n",
       "    <tr style=\"text-align: right;\">\n",
       "      <th></th>\n",
       "      <th>Age</th>\n",
       "      <th>Gender</th>\n",
       "      <th>Total_Bilirubin</th>\n",
       "      <th>Alkaline_Phosphotase</th>\n",
       "      <th>Alamine_Aminotransferase</th>\n",
       "      <th>Aspartate_Aminotransferase</th>\n",
       "      <th>Total_Protiens</th>\n",
       "      <th>Albumin</th>\n",
       "      <th>Albumin_and_Globulin_Ratio</th>\n",
       "    </tr>\n",
       "  </thead>\n",
       "  <tbody>\n",
       "    <tr>\n",
       "      <th>205</th>\n",
       "      <td>45</td>\n",
       "      <td>0</td>\n",
       "      <td>2.5</td>\n",
       "      <td>163</td>\n",
       "      <td>28</td>\n",
       "      <td>22</td>\n",
       "      <td>7.6</td>\n",
       "      <td>4.0</td>\n",
       "      <td>1.1</td>\n",
       "    </tr>\n",
       "    <tr>\n",
       "      <th>390</th>\n",
       "      <td>72</td>\n",
       "      <td>0</td>\n",
       "      <td>0.8</td>\n",
       "      <td>148</td>\n",
       "      <td>23</td>\n",
       "      <td>35</td>\n",
       "      <td>6.0</td>\n",
       "      <td>3.0</td>\n",
       "      <td>1.0</td>\n",
       "    </tr>\n",
       "    <tr>\n",
       "      <th>137</th>\n",
       "      <td>18</td>\n",
       "      <td>0</td>\n",
       "      <td>0.8</td>\n",
       "      <td>282</td>\n",
       "      <td>72</td>\n",
       "      <td>140</td>\n",
       "      <td>5.5</td>\n",
       "      <td>2.5</td>\n",
       "      <td>0.8</td>\n",
       "    </tr>\n",
       "    <tr>\n",
       "      <th>54</th>\n",
       "      <td>42</td>\n",
       "      <td>0</td>\n",
       "      <td>8.9</td>\n",
       "      <td>272</td>\n",
       "      <td>31</td>\n",
       "      <td>61</td>\n",
       "      <td>5.8</td>\n",
       "      <td>2.0</td>\n",
       "      <td>0.5</td>\n",
       "    </tr>\n",
       "    <tr>\n",
       "      <th>502</th>\n",
       "      <td>42</td>\n",
       "      <td>0</td>\n",
       "      <td>0.8</td>\n",
       "      <td>127</td>\n",
       "      <td>29</td>\n",
       "      <td>30</td>\n",
       "      <td>4.9</td>\n",
       "      <td>2.7</td>\n",
       "      <td>1.2</td>\n",
       "    </tr>\n",
       "  </tbody>\n",
       "</table>\n",
       "</div>"
      ],
      "text/plain": [
       "     Age  Gender  Total_Bilirubin  Alkaline_Phosphotase  \\\n",
       "205   45       0              2.5                   163   \n",
       "390   72       0              0.8                   148   \n",
       "137   18       0              0.8                   282   \n",
       "54    42       0              8.9                   272   \n",
       "502   42       0              0.8                   127   \n",
       "\n",
       "     Alamine_Aminotransferase  Aspartate_Aminotransferase  Total_Protiens  \\\n",
       "205                        28                          22             7.6   \n",
       "390                        23                          35             6.0   \n",
       "137                        72                         140             5.5   \n",
       "54                         31                          61             5.8   \n",
       "502                        29                          30             4.9   \n",
       "\n",
       "     Albumin  Albumin_and_Globulin_Ratio  \n",
       "205      4.0                         1.1  \n",
       "390      3.0                         1.0  \n",
       "137      2.5                         0.8  \n",
       "54       2.0                         0.5  \n",
       "502      2.7                         1.2  "
      ]
     },
     "execution_count": 39,
     "metadata": {},
     "output_type": "execute_result"
    }
   ],
   "source": [
    "X_treino.head(5)"
   ]
  },
  {
   "cell_type": "code",
   "execution_count": 40,
   "id": "2b20bd9a",
   "metadata": {},
   "outputs": [
    {
     "data": {
      "text/plain": [
       "423"
      ]
     },
     "execution_count": 40,
     "metadata": {},
     "output_type": "execute_result"
    }
   ],
   "source": [
    "len(X_treino)"
   ]
  },
  {
   "cell_type": "code",
   "execution_count": 41,
   "id": "0506ddf7",
   "metadata": {},
   "outputs": [
    {
     "data": {
      "text/plain": [
       "141"
      ]
     },
     "execution_count": 41,
     "metadata": {},
     "output_type": "execute_result"
    }
   ],
   "source": [
    "len(X_teste)"
   ]
  },
  {
   "cell_type": "code",
   "execution_count": 42,
   "id": "7b354e4c",
   "metadata": {},
   "outputs": [
    {
     "data": {
      "text/plain": [
       "1    301\n",
       "0    122\n",
       "Name: Target, dtype: int64"
      ]
     },
     "execution_count": 42,
     "metadata": {},
     "output_type": "execute_result"
    }
   ],
   "source": [
    "y_treino.value_counts()"
   ]
  },
  {
   "cell_type": "code",
   "execution_count": 43,
   "id": "36c5f60f",
   "metadata": {},
   "outputs": [],
   "source": [
    "#Oversampling para equalizar a classe minoritária\n",
    "over_sampler = SMOTE(k_neighbors = 2)"
   ]
  },
  {
   "cell_type": "code",
   "execution_count": 44,
   "id": "a74a407c",
   "metadata": {},
   "outputs": [],
   "source": [
    "X_res, y_res = over_sampler.fit_resample(X_treino, y_treino)"
   ]
  },
  {
   "cell_type": "code",
   "execution_count": 45,
   "id": "8164f32b",
   "metadata": {},
   "outputs": [
    {
     "data": {
      "text/plain": [
       "602"
      ]
     },
     "execution_count": 45,
     "metadata": {},
     "output_type": "execute_result"
    }
   ],
   "source": [
    "len(X_res)"
   ]
  },
  {
   "cell_type": "code",
   "execution_count": 46,
   "id": "137f587d",
   "metadata": {},
   "outputs": [
    {
     "data": {
      "text/plain": [
       "602"
      ]
     },
     "execution_count": 46,
     "metadata": {},
     "output_type": "execute_result"
    }
   ],
   "source": [
    "len(y_res)"
   ]
  },
  {
   "cell_type": "code",
   "execution_count": 47,
   "id": "1f169ad6",
   "metadata": {},
   "outputs": [
    {
     "data": {
      "text/plain": [
       "1    301\n",
       "0    301\n",
       "Name: Target, dtype: int64"
      ]
     },
     "execution_count": 47,
     "metadata": {},
     "output_type": "execute_result"
    }
   ],
   "source": [
    "y_res.value_counts()"
   ]
  },
  {
   "cell_type": "code",
   "execution_count": 48,
   "id": "4aab3b86",
   "metadata": {},
   "outputs": [],
   "source": [
    "#Voltando ao nome X_treino e y_treino\n",
    "X_treino = X_res\n",
    "y_treino = y_res"
   ]
  },
  {
   "cell_type": "markdown",
   "id": "7b8cc969",
   "metadata": {},
   "source": [
    "##### Padronização dos dados"
   ]
  },
  {
   "cell_type": "code",
   "execution_count": 49,
   "id": "e37913e9",
   "metadata": {},
   "outputs": [
    {
     "data": {
      "text/html": [
       "<div>\n",
       "<style scoped>\n",
       "    .dataframe tbody tr th:only-of-type {\n",
       "        vertical-align: middle;\n",
       "    }\n",
       "\n",
       "    .dataframe tbody tr th {\n",
       "        vertical-align: top;\n",
       "    }\n",
       "\n",
       "    .dataframe thead th {\n",
       "        text-align: right;\n",
       "    }\n",
       "</style>\n",
       "<table border=\"1\" class=\"dataframe\">\n",
       "  <thead>\n",
       "    <tr style=\"text-align: right;\">\n",
       "      <th></th>\n",
       "      <th>Age</th>\n",
       "      <th>Gender</th>\n",
       "      <th>Total_Bilirubin</th>\n",
       "      <th>Alkaline_Phosphotase</th>\n",
       "      <th>Alamine_Aminotransferase</th>\n",
       "      <th>Aspartate_Aminotransferase</th>\n",
       "      <th>Total_Protiens</th>\n",
       "      <th>Albumin</th>\n",
       "      <th>Albumin_and_Globulin_Ratio</th>\n",
       "    </tr>\n",
       "  </thead>\n",
       "  <tbody>\n",
       "    <tr>\n",
       "      <th>0</th>\n",
       "      <td>45</td>\n",
       "      <td>0</td>\n",
       "      <td>2.5</td>\n",
       "      <td>163</td>\n",
       "      <td>28</td>\n",
       "      <td>22</td>\n",
       "      <td>7.6</td>\n",
       "      <td>4.0</td>\n",
       "      <td>1.1</td>\n",
       "    </tr>\n",
       "    <tr>\n",
       "      <th>1</th>\n",
       "      <td>72</td>\n",
       "      <td>0</td>\n",
       "      <td>0.8</td>\n",
       "      <td>148</td>\n",
       "      <td>23</td>\n",
       "      <td>35</td>\n",
       "      <td>6.0</td>\n",
       "      <td>3.0</td>\n",
       "      <td>1.0</td>\n",
       "    </tr>\n",
       "    <tr>\n",
       "      <th>2</th>\n",
       "      <td>18</td>\n",
       "      <td>0</td>\n",
       "      <td>0.8</td>\n",
       "      <td>282</td>\n",
       "      <td>72</td>\n",
       "      <td>140</td>\n",
       "      <td>5.5</td>\n",
       "      <td>2.5</td>\n",
       "      <td>0.8</td>\n",
       "    </tr>\n",
       "    <tr>\n",
       "      <th>3</th>\n",
       "      <td>42</td>\n",
       "      <td>0</td>\n",
       "      <td>8.9</td>\n",
       "      <td>272</td>\n",
       "      <td>31</td>\n",
       "      <td>61</td>\n",
       "      <td>5.8</td>\n",
       "      <td>2.0</td>\n",
       "      <td>0.5</td>\n",
       "    </tr>\n",
       "    <tr>\n",
       "      <th>4</th>\n",
       "      <td>42</td>\n",
       "      <td>0</td>\n",
       "      <td>0.8</td>\n",
       "      <td>127</td>\n",
       "      <td>29</td>\n",
       "      <td>30</td>\n",
       "      <td>4.9</td>\n",
       "      <td>2.7</td>\n",
       "      <td>1.2</td>\n",
       "    </tr>\n",
       "  </tbody>\n",
       "</table>\n",
       "</div>"
      ],
      "text/plain": [
       "   Age  Gender  Total_Bilirubin  Alkaline_Phosphotase  \\\n",
       "0   45       0              2.5                   163   \n",
       "1   72       0              0.8                   148   \n",
       "2   18       0              0.8                   282   \n",
       "3   42       0              8.9                   272   \n",
       "4   42       0              0.8                   127   \n",
       "\n",
       "   Alamine_Aminotransferase  Aspartate_Aminotransferase  Total_Protiens  \\\n",
       "0                        28                          22             7.6   \n",
       "1                        23                          35             6.0   \n",
       "2                        72                         140             5.5   \n",
       "3                        31                          61             5.8   \n",
       "4                        29                          30             4.9   \n",
       "\n",
       "   Albumin  Albumin_and_Globulin_Ratio  \n",
       "0      4.0                         1.1  \n",
       "1      3.0                         1.0  \n",
       "2      2.5                         0.8  \n",
       "3      2.0                         0.5  \n",
       "4      2.7                         1.2  "
      ]
     },
     "execution_count": 49,
     "metadata": {},
     "output_type": "execute_result"
    }
   ],
   "source": [
    "X_treino.head()"
   ]
  },
  {
   "cell_type": "code",
   "execution_count": 50,
   "id": "e6ea8f1f",
   "metadata": {},
   "outputs": [
    {
     "name": "stdout",
     "output_type": "stream",
     "text": [
      "Age                            42.910299\n",
      "Gender                          0.220930\n",
      "Total_Bilirubin                 2.672737\n",
      "Alkaline_Phosphotase          272.033223\n",
      "Alamine_Aminotransferase       63.116279\n",
      "Aspartate_Aminotransferase     77.264120\n",
      "Total_Protiens                  6.543194\n",
      "Albumin                         3.250303\n",
      "Albumin_and_Globulin_Ratio      0.997259\n",
      "dtype: float64\n"
     ]
    }
   ],
   "source": [
    "# Média treino\n",
    "treino_mean = X_treino.mean()\n",
    "print(treino_mean)"
   ]
  },
  {
   "cell_type": "code",
   "execution_count": 51,
   "id": "6b5df119",
   "metadata": {},
   "outputs": [
    {
     "name": "stdout",
     "output_type": "stream",
     "text": [
      "Age                            16.333217\n",
      "Gender                          0.415219\n",
      "Total_Bilirubin                 5.569785\n",
      "Alkaline_Phosphotase          227.989510\n",
      "Alamine_Aminotransferase      140.000665\n",
      "Aspartate_Aminotransferase    144.225576\n",
      "Total_Protiens                  1.014684\n",
      "Albumin                         0.769528\n",
      "Albumin_and_Globulin_Ratio      0.313159\n",
      "dtype: float64\n"
     ]
    }
   ],
   "source": [
    "# Desvio padrão treino\n",
    "treino_std = X_treino.std()\n",
    "print(treino_std)"
   ]
  },
  {
   "cell_type": "code",
   "execution_count": 52,
   "id": "10680f81",
   "metadata": {},
   "outputs": [],
   "source": [
    "# Padronização em treino\n",
    "X_treino = (X_treino - treino_mean) / treino_std"
   ]
  },
  {
   "cell_type": "code",
   "execution_count": 53,
   "id": "220e8382",
   "metadata": {},
   "outputs": [
    {
     "data": {
      "text/html": [
       "<div>\n",
       "<style scoped>\n",
       "    .dataframe tbody tr th:only-of-type {\n",
       "        vertical-align: middle;\n",
       "    }\n",
       "\n",
       "    .dataframe tbody tr th {\n",
       "        vertical-align: top;\n",
       "    }\n",
       "\n",
       "    .dataframe thead th {\n",
       "        text-align: right;\n",
       "    }\n",
       "</style>\n",
       "<table border=\"1\" class=\"dataframe\">\n",
       "  <thead>\n",
       "    <tr style=\"text-align: right;\">\n",
       "      <th></th>\n",
       "      <th>Age</th>\n",
       "      <th>Gender</th>\n",
       "      <th>Total_Bilirubin</th>\n",
       "      <th>Alkaline_Phosphotase</th>\n",
       "      <th>Alamine_Aminotransferase</th>\n",
       "      <th>Aspartate_Aminotransferase</th>\n",
       "      <th>Total_Protiens</th>\n",
       "      <th>Albumin</th>\n",
       "      <th>Albumin_and_Globulin_Ratio</th>\n",
       "    </tr>\n",
       "  </thead>\n",
       "  <tbody>\n",
       "    <tr>\n",
       "      <th>0</th>\n",
       "      <td>0.127942</td>\n",
       "      <td>-0.532082</td>\n",
       "      <td>-0.031013</td>\n",
       "      <td>-0.478238</td>\n",
       "      <td>-0.250829</td>\n",
       "      <td>-0.383178</td>\n",
       "      <td>1.041513</td>\n",
       "      <td>0.974230</td>\n",
       "      <td>0.328078</td>\n",
       "    </tr>\n",
       "    <tr>\n",
       "      <th>1</th>\n",
       "      <td>1.781015</td>\n",
       "      <td>-0.532082</td>\n",
       "      <td>-0.336231</td>\n",
       "      <td>-0.544030</td>\n",
       "      <td>-0.286543</td>\n",
       "      <td>-0.293042</td>\n",
       "      <td>-0.535333</td>\n",
       "      <td>-0.325269</td>\n",
       "      <td>0.008751</td>\n",
       "    </tr>\n",
       "    <tr>\n",
       "      <th>2</th>\n",
       "      <td>-1.525131</td>\n",
       "      <td>-0.532082</td>\n",
       "      <td>-0.336231</td>\n",
       "      <td>0.043716</td>\n",
       "      <td>0.063455</td>\n",
       "      <td>0.434984</td>\n",
       "      <td>-1.028097</td>\n",
       "      <td>-0.975018</td>\n",
       "      <td>-0.629902</td>\n",
       "    </tr>\n",
       "    <tr>\n",
       "      <th>3</th>\n",
       "      <td>-0.055733</td>\n",
       "      <td>-0.532082</td>\n",
       "      <td>1.118044</td>\n",
       "      <td>-0.000146</td>\n",
       "      <td>-0.229401</td>\n",
       "      <td>-0.112769</td>\n",
       "      <td>-0.732439</td>\n",
       "      <td>-1.624767</td>\n",
       "      <td>-1.587882</td>\n",
       "    </tr>\n",
       "    <tr>\n",
       "      <th>4</th>\n",
       "      <td>-0.055733</td>\n",
       "      <td>-0.532082</td>\n",
       "      <td>-0.336231</td>\n",
       "      <td>-0.636140</td>\n",
       "      <td>-0.243687</td>\n",
       "      <td>-0.327710</td>\n",
       "      <td>-1.619415</td>\n",
       "      <td>-0.715118</td>\n",
       "      <td>0.647405</td>\n",
       "    </tr>\n",
       "  </tbody>\n",
       "</table>\n",
       "</div>"
      ],
      "text/plain": [
       "        Age    Gender  Total_Bilirubin  Alkaline_Phosphotase  \\\n",
       "0  0.127942 -0.532082        -0.031013             -0.478238   \n",
       "1  1.781015 -0.532082        -0.336231             -0.544030   \n",
       "2 -1.525131 -0.532082        -0.336231              0.043716   \n",
       "3 -0.055733 -0.532082         1.118044             -0.000146   \n",
       "4 -0.055733 -0.532082        -0.336231             -0.636140   \n",
       "\n",
       "   Alamine_Aminotransferase  Aspartate_Aminotransferase  Total_Protiens  \\\n",
       "0                 -0.250829                   -0.383178        1.041513   \n",
       "1                 -0.286543                   -0.293042       -0.535333   \n",
       "2                  0.063455                    0.434984       -1.028097   \n",
       "3                 -0.229401                   -0.112769       -0.732439   \n",
       "4                 -0.243687                   -0.327710       -1.619415   \n",
       "\n",
       "    Albumin  Albumin_and_Globulin_Ratio  \n",
       "0  0.974230                    0.328078  \n",
       "1 -0.325269                    0.008751  \n",
       "2 -0.975018                   -0.629902  \n",
       "3 -1.624767                   -1.587882  \n",
       "4 -0.715118                    0.647405  "
      ]
     },
     "execution_count": 53,
     "metadata": {},
     "output_type": "execute_result"
    }
   ],
   "source": [
    "X_treino.head()"
   ]
  },
  {
   "cell_type": "code",
   "execution_count": 54,
   "id": "abd8366b",
   "metadata": {},
   "outputs": [
    {
     "data": {
      "text/html": [
       "<div>\n",
       "<style scoped>\n",
       "    .dataframe tbody tr th:only-of-type {\n",
       "        vertical-align: middle;\n",
       "    }\n",
       "\n",
       "    .dataframe tbody tr th {\n",
       "        vertical-align: top;\n",
       "    }\n",
       "\n",
       "    .dataframe thead th {\n",
       "        text-align: right;\n",
       "    }\n",
       "</style>\n",
       "<table border=\"1\" class=\"dataframe\">\n",
       "  <thead>\n",
       "    <tr style=\"text-align: right;\">\n",
       "      <th></th>\n",
       "      <th>Age</th>\n",
       "      <th>Gender</th>\n",
       "      <th>Total_Bilirubin</th>\n",
       "      <th>Alkaline_Phosphotase</th>\n",
       "      <th>Alamine_Aminotransferase</th>\n",
       "      <th>Aspartate_Aminotransferase</th>\n",
       "      <th>Total_Protiens</th>\n",
       "      <th>Albumin</th>\n",
       "      <th>Albumin_and_Globulin_Ratio</th>\n",
       "    </tr>\n",
       "  </thead>\n",
       "  <tbody>\n",
       "    <tr>\n",
       "      <th>count</th>\n",
       "      <td>6.020000e+02</td>\n",
       "      <td>6.020000e+02</td>\n",
       "      <td>6.020000e+02</td>\n",
       "      <td>6.020000e+02</td>\n",
       "      <td>6.020000e+02</td>\n",
       "      <td>6.020000e+02</td>\n",
       "      <td>6.020000e+02</td>\n",
       "      <td>6.020000e+02</td>\n",
       "      <td>6.020000e+02</td>\n",
       "    </tr>\n",
       "    <tr>\n",
       "      <th>mean</th>\n",
       "      <td>7.635089e-17</td>\n",
       "      <td>-9.287514e-16</td>\n",
       "      <td>-1.964099e-17</td>\n",
       "      <td>6.242699e-17</td>\n",
       "      <td>7.054158e-18</td>\n",
       "      <td>-4.629003e-17</td>\n",
       "      <td>-1.914674e-15</td>\n",
       "      <td>-1.328210e-15</td>\n",
       "      <td>-1.716327e-15</td>\n",
       "    </tr>\n",
       "    <tr>\n",
       "      <th>std</th>\n",
       "      <td>1.000000e+00</td>\n",
       "      <td>1.000000e+00</td>\n",
       "      <td>1.000000e+00</td>\n",
       "      <td>1.000000e+00</td>\n",
       "      <td>1.000000e+00</td>\n",
       "      <td>1.000000e+00</td>\n",
       "      <td>1.000000e+00</td>\n",
       "      <td>1.000000e+00</td>\n",
       "      <td>1.000000e+00</td>\n",
       "    </tr>\n",
       "    <tr>\n",
       "      <th>min</th>\n",
       "      <td>-2.382280e+00</td>\n",
       "      <td>-5.320818e-01</td>\n",
       "      <td>-4.080475e-01</td>\n",
       "      <td>-9.168546e-01</td>\n",
       "      <td>-3.794002e-01</td>\n",
       "      <td>-4.663814e-01</td>\n",
       "      <td>-3.787578e+00</td>\n",
       "      <td>-3.054216e+00</td>\n",
       "      <td>-2.226536e+00</td>\n",
       "    </tr>\n",
       "    <tr>\n",
       "      <th>25%</th>\n",
       "      <td>-7.292072e-01</td>\n",
       "      <td>-5.320818e-01</td>\n",
       "      <td>-3.400910e-01</td>\n",
       "      <td>-4.508243e-01</td>\n",
       "      <td>-2.865435e-01</td>\n",
       "      <td>-3.693112e-01</td>\n",
       "      <td>-6.338858e-01</td>\n",
       "      <td>-7.151185e-01</td>\n",
       "      <td>-6.299021e-01</td>\n",
       "    </tr>\n",
       "    <tr>\n",
       "      <th>50%</th>\n",
       "      <td>6.671686e-02</td>\n",
       "      <td>-5.320818e-01</td>\n",
       "      <td>-3.182774e-01</td>\n",
       "      <td>-3.225290e-01</td>\n",
       "      <td>-2.222581e-01</td>\n",
       "      <td>-2.861082e-01</td>\n",
       "      <td>5.874598e-02</td>\n",
       "      <td>-4.803198e-02</td>\n",
       "      <td>8.751259e-03</td>\n",
       "    </tr>\n",
       "    <tr>\n",
       "      <th>75%</th>\n",
       "      <td>7.401911e-01</td>\n",
       "      <td>-5.320818e-01</td>\n",
       "      <td>-1.566913e-01</td>\n",
       "      <td>6.783986e-02</td>\n",
       "      <td>-7.225879e-02</td>\n",
       "      <td>-7.810071e-02</td>\n",
       "      <td>6.473017e-01</td>\n",
       "      <td>8.442797e-01</td>\n",
       "      <td>6.353627e-01</td>\n",
       "    </tr>\n",
       "    <tr>\n",
       "      <th>max</th>\n",
       "      <td>2.883063e+00</td>\n",
       "      <td>1.876288e+00</td>\n",
       "      <td>1.298565e+01</td>\n",
       "      <td>8.061629e+00</td>\n",
       "      <td>1.154911e+01</td>\n",
       "      <td>1.055802e+01</td>\n",
       "      <td>3.012571e+00</td>\n",
       "      <td>2.923477e+00</td>\n",
       "      <td>5.756632e+00</td>\n",
       "    </tr>\n",
       "  </tbody>\n",
       "</table>\n",
       "</div>"
      ],
      "text/plain": [
       "                Age        Gender  Total_Bilirubin  Alkaline_Phosphotase  \\\n",
       "count  6.020000e+02  6.020000e+02     6.020000e+02          6.020000e+02   \n",
       "mean   7.635089e-17 -9.287514e-16    -1.964099e-17          6.242699e-17   \n",
       "std    1.000000e+00  1.000000e+00     1.000000e+00          1.000000e+00   \n",
       "min   -2.382280e+00 -5.320818e-01    -4.080475e-01         -9.168546e-01   \n",
       "25%   -7.292072e-01 -5.320818e-01    -3.400910e-01         -4.508243e-01   \n",
       "50%    6.671686e-02 -5.320818e-01    -3.182774e-01         -3.225290e-01   \n",
       "75%    7.401911e-01 -5.320818e-01    -1.566913e-01          6.783986e-02   \n",
       "max    2.883063e+00  1.876288e+00     1.298565e+01          8.061629e+00   \n",
       "\n",
       "       Alamine_Aminotransferase  Aspartate_Aminotransferase  Total_Protiens  \\\n",
       "count              6.020000e+02                6.020000e+02    6.020000e+02   \n",
       "mean               7.054158e-18               -4.629003e-17   -1.914674e-15   \n",
       "std                1.000000e+00                1.000000e+00    1.000000e+00   \n",
       "min               -3.794002e-01               -4.663814e-01   -3.787578e+00   \n",
       "25%               -2.865435e-01               -3.693112e-01   -6.338858e-01   \n",
       "50%               -2.222581e-01               -2.861082e-01    5.874598e-02   \n",
       "75%               -7.225879e-02               -7.810071e-02    6.473017e-01   \n",
       "max                1.154911e+01                1.055802e+01    3.012571e+00   \n",
       "\n",
       "            Albumin  Albumin_and_Globulin_Ratio  \n",
       "count  6.020000e+02                6.020000e+02  \n",
       "mean  -1.328210e-15               -1.716327e-15  \n",
       "std    1.000000e+00                1.000000e+00  \n",
       "min   -3.054216e+00               -2.226536e+00  \n",
       "25%   -7.151185e-01               -6.299021e-01  \n",
       "50%   -4.803198e-02                8.751259e-03  \n",
       "75%    8.442797e-01                6.353627e-01  \n",
       "max    2.923477e+00                5.756632e+00  "
      ]
     },
     "execution_count": 54,
     "metadata": {},
     "output_type": "execute_result"
    }
   ],
   "source": [
    "X_treino.describe()"
   ]
  },
  {
   "cell_type": "code",
   "execution_count": 55,
   "id": "86fdcb8b",
   "metadata": {},
   "outputs": [],
   "source": [
    "# Teste padronizado a partir da média e std. de treino\n",
    "X_teste = (X_teste - treino_mean) / treino_std"
   ]
  },
  {
   "cell_type": "code",
   "execution_count": 56,
   "id": "251d3611",
   "metadata": {},
   "outputs": [
    {
     "data": {
      "text/html": [
       "<div>\n",
       "<style scoped>\n",
       "    .dataframe tbody tr th:only-of-type {\n",
       "        vertical-align: middle;\n",
       "    }\n",
       "\n",
       "    .dataframe tbody tr th {\n",
       "        vertical-align: top;\n",
       "    }\n",
       "\n",
       "    .dataframe thead th {\n",
       "        text-align: right;\n",
       "    }\n",
       "</style>\n",
       "<table border=\"1\" class=\"dataframe\">\n",
       "  <thead>\n",
       "    <tr style=\"text-align: right;\">\n",
       "      <th></th>\n",
       "      <th>Age</th>\n",
       "      <th>Gender</th>\n",
       "      <th>Total_Bilirubin</th>\n",
       "      <th>Alkaline_Phosphotase</th>\n",
       "      <th>Alamine_Aminotransferase</th>\n",
       "      <th>Aspartate_Aminotransferase</th>\n",
       "      <th>Total_Protiens</th>\n",
       "      <th>Albumin</th>\n",
       "      <th>Albumin_and_Globulin_Ratio</th>\n",
       "    </tr>\n",
       "  </thead>\n",
       "  <tbody>\n",
       "    <tr>\n",
       "      <th>220</th>\n",
       "      <td>-0.361858</td>\n",
       "      <td>-0.532082</td>\n",
       "      <td>-0.336231</td>\n",
       "      <td>-0.548417</td>\n",
       "      <td>-0.257972</td>\n",
       "      <td>-0.216772</td>\n",
       "      <td>-1.520862</td>\n",
       "      <td>-0.975018</td>\n",
       "      <td>0.008751</td>\n",
       "    </tr>\n",
       "    <tr>\n",
       "      <th>448</th>\n",
       "      <td>0.311617</td>\n",
       "      <td>1.876288</td>\n",
       "      <td>-0.336231</td>\n",
       "      <td>-0.570347</td>\n",
       "      <td>-0.265115</td>\n",
       "      <td>-0.362378</td>\n",
       "      <td>-0.535333</td>\n",
       "      <td>-0.845068</td>\n",
       "      <td>-0.949229</td>\n",
       "    </tr>\n",
       "    <tr>\n",
       "      <th>509</th>\n",
       "      <td>0.189167</td>\n",
       "      <td>-0.532082</td>\n",
       "      <td>3.110939</td>\n",
       "      <td>-0.079097</td>\n",
       "      <td>0.549167</td>\n",
       "      <td>3.208418</td>\n",
       "      <td>-1.126650</td>\n",
       "      <td>-0.325269</td>\n",
       "      <td>0.647405</td>\n",
       "    </tr>\n",
       "    <tr>\n",
       "      <th>415</th>\n",
       "      <td>1.658565</td>\n",
       "      <td>-0.532082</td>\n",
       "      <td>-0.246461</td>\n",
       "      <td>1.833272</td>\n",
       "      <td>0.213454</td>\n",
       "      <td>-0.258374</td>\n",
       "      <td>-2.900602</td>\n",
       "      <td>-0.715118</td>\n",
       "      <td>-0.949229</td>\n",
       "    </tr>\n",
       "    <tr>\n",
       "      <th>56</th>\n",
       "      <td>-0.606757</td>\n",
       "      <td>-0.532082</td>\n",
       "      <td>-0.336231</td>\n",
       "      <td>-0.324722</td>\n",
       "      <td>-0.265115</td>\n",
       "      <td>-0.376245</td>\n",
       "      <td>1.435725</td>\n",
       "      <td>0.974230</td>\n",
       "      <td>0.008751</td>\n",
       "    </tr>\n",
       "  </tbody>\n",
       "</table>\n",
       "</div>"
      ],
      "text/plain": [
       "          Age    Gender  Total_Bilirubin  Alkaline_Phosphotase  \\\n",
       "220 -0.361858 -0.532082        -0.336231             -0.548417   \n",
       "448  0.311617  1.876288        -0.336231             -0.570347   \n",
       "509  0.189167 -0.532082         3.110939             -0.079097   \n",
       "415  1.658565 -0.532082        -0.246461              1.833272   \n",
       "56  -0.606757 -0.532082        -0.336231             -0.324722   \n",
       "\n",
       "     Alamine_Aminotransferase  Aspartate_Aminotransferase  Total_Protiens  \\\n",
       "220                 -0.257972                   -0.216772       -1.520862   \n",
       "448                 -0.265115                   -0.362378       -0.535333   \n",
       "509                  0.549167                    3.208418       -1.126650   \n",
       "415                  0.213454                   -0.258374       -2.900602   \n",
       "56                  -0.265115                   -0.376245        1.435725   \n",
       "\n",
       "      Albumin  Albumin_and_Globulin_Ratio  \n",
       "220 -0.975018                    0.008751  \n",
       "448 -0.845068                   -0.949229  \n",
       "509 -0.325269                    0.647405  \n",
       "415 -0.715118                   -0.949229  \n",
       "56   0.974230                    0.008751  "
      ]
     },
     "execution_count": 56,
     "metadata": {},
     "output_type": "execute_result"
    }
   ],
   "source": [
    "X_teste.head()"
   ]
  },
  {
   "cell_type": "markdown",
   "id": "f51d925e",
   "metadata": {},
   "source": [
    "### Modelo 1 - Regressão logística."
   ]
  },
  {
   "cell_type": "code",
   "execution_count": 57,
   "id": "9b4acfb1",
   "metadata": {},
   "outputs": [],
   "source": [
    "# Lista de hiperparâmetros\n",
    "tuned_params_v1 = {'C': [0.0001, 0.001, 0.01, 0.1], \n",
    "                   'penalty': ['l1', 'l2']}"
   ]
  },
  {
   "cell_type": "code",
   "execution_count": 58,
   "id": "34d74a46",
   "metadata": {},
   "outputs": [],
   "source": [
    "# Modelo com GrindSearch\n",
    "modelo_v1 = GridSearchCV(LogisticRegression(),\n",
    "                         tuned_params_v1,\n",
    "                         scoring = 'roc_auc',\n",
    "                         n_jobs = -1)"
   ]
  },
  {
   "cell_type": "code",
   "execution_count": 59,
   "id": "98b51f5c",
   "metadata": {},
   "outputs": [
    {
     "data": {
      "text/plain": [
       "GridSearchCV(estimator=LogisticRegression(), n_jobs=-1,\n",
       "             param_grid={'C': [0.0001, 0.001, 0.01, 0.1],\n",
       "                         'penalty': ['l1', 'l2']},\n",
       "             scoring='roc_auc')"
      ]
     },
     "execution_count": 59,
     "metadata": {},
     "output_type": "execute_result"
    }
   ],
   "source": [
    "# Treinamento do modelo\n",
    "modelo_v1.fit(X_treino, y_treino)"
   ]
  },
  {
   "cell_type": "code",
   "execution_count": 60,
   "id": "dadb2491",
   "metadata": {},
   "outputs": [
    {
     "data": {
      "text/plain": [
       "LogisticRegression(C=0.1)"
      ]
     },
     "execution_count": 60,
     "metadata": {},
     "output_type": "execute_result"
    }
   ],
   "source": [
    "# Melhor modelo\n",
    "modelo_v1.best_estimator_"
   ]
  },
  {
   "cell_type": "code",
   "execution_count": 61,
   "id": "919ee75f",
   "metadata": {},
   "outputs": [],
   "source": [
    "# Previsões com dados de Teste\n",
    "y_pred_v1 = modelo_v1.predict(X_teste)"
   ]
  },
  {
   "cell_type": "code",
   "execution_count": 62,
   "id": "13e6da6a",
   "metadata": {},
   "outputs": [
    {
     "data": {
      "text/plain": [
       "array([[0.69856479, 0.30143521],\n",
       "       [0.49181345, 0.50818655],\n",
       "       [0.00371103, 0.99628897],\n",
       "       [0.41214685, 0.58785315],\n",
       "       [0.64536372, 0.35463628],\n",
       "       [0.54369079, 0.45630921],\n",
       "       [0.69343181, 0.30656819],\n",
       "       [0.17623341, 0.82376659],\n",
       "       [0.62734314, 0.37265686],\n",
       "       [0.05757731, 0.94242269]])"
      ]
     },
     "execution_count": 62,
     "metadata": {},
     "output_type": "execute_result"
    }
   ],
   "source": [
    "# Previsões em probabilidade\n",
    "y_pred_proba_v1 = modelo_v1.predict_proba(X_teste)\n",
    "y_pred_proba_v1[:10]"
   ]
  },
  {
   "cell_type": "code",
   "execution_count": 63,
   "id": "38c68fe2",
   "metadata": {},
   "outputs": [
    {
     "data": {
      "text/plain": [
       "array([0.30143521, 0.50818655, 0.99628897, 0.58785315, 0.35463628,\n",
       "       0.45630921, 0.30656819, 0.82376659, 0.37265686, 0.94242269])"
      ]
     },
     "execution_count": 63,
     "metadata": {},
     "output_type": "execute_result"
    }
   ],
   "source": [
    "# Previsões no formato de probabilidade filtrando para a classe positiva para calcular AUC\n",
    "y_pred_proba_v1 = modelo_v1.predict_proba(X_teste)[:,1]\n",
    "y_pred_proba_v1[:10]"
   ]
  },
  {
   "cell_type": "code",
   "execution_count": 64,
   "id": "be7b5050",
   "metadata": {},
   "outputs": [
    {
     "name": "stdout",
     "output_type": "stream",
     "text": [
      "Para o ponto de dado 22, classe real = 1, classe prevista = 1, probabilidade prevista = 0.8918434554885913\n"
     ]
    }
   ],
   "source": [
    "# Testando\n",
    "i = 22 \n",
    "print('Para o ponto de dado {}, classe real = {}, classe prevista = {}, probabilidade prevista = {}'.\n",
    "      format(i, y_teste.iloc[i], y_pred_v1[i], y_pred_proba_v1[i]))"
   ]
  },
  {
   "cell_type": "code",
   "execution_count": 65,
   "id": "031ee465",
   "metadata": {},
   "outputs": [
    {
     "data": {
      "text/plain": [
       "array([[32,  8],\n",
       "       [38, 63]])"
      ]
     },
     "execution_count": 65,
     "metadata": {},
     "output_type": "execute_result"
    }
   ],
   "source": [
    "# Confusion Matrix\n",
    "confusion_matrix(y_teste, y_pred_v1)"
   ]
  },
  {
   "cell_type": "code",
   "execution_count": 66,
   "id": "cb5e381e",
   "metadata": {},
   "outputs": [
    {
     "name": "stdout",
     "output_type": "stream",
     "text": [
      "0.7118811881188121\n"
     ]
    }
   ],
   "source": [
    "# AUC com dados reais e previsões em teste\n",
    "roc_auc_v1 = roc_auc_score(y_teste, y_pred_v1)\n",
    "print(roc_auc_v1)"
   ]
  },
  {
   "cell_type": "code",
   "execution_count": 67,
   "id": "ccc37369",
   "metadata": {},
   "outputs": [],
   "source": [
    "# ROC com dados e previsões em teste\n",
    "fpr_v1, tpr_v1, thresholds = roc_curve(y_teste, y_pred_proba_v1)"
   ]
  },
  {
   "cell_type": "code",
   "execution_count": 68,
   "id": "e8c08209",
   "metadata": {},
   "outputs": [
    {
     "name": "stdout",
     "output_type": "stream",
     "text": [
      "0.7294554455445544\n"
     ]
    }
   ],
   "source": [
    "# AUC em teste\n",
    "auc_v1 = auc(fpr_v1, tpr_v1)\n",
    "print(auc_v1)"
   ]
  },
  {
   "cell_type": "code",
   "execution_count": 69,
   "id": "59b6bfe0",
   "metadata": {},
   "outputs": [
    {
     "name": "stdout",
     "output_type": "stream",
     "text": [
      "0.6737588652482269\n"
     ]
    }
   ],
   "source": [
    "# Acurácia em teste\n",
    "acuracia_v1 = accuracy_score(y_teste, y_pred_v1)\n",
    "print(acuracia_v1)"
   ]
  },
  {
   "cell_type": "markdown",
   "id": "310f877d",
   "metadata": {},
   "source": [
    "#### Feature Importance"
   ]
  },
  {
   "cell_type": "code",
   "execution_count": 70,
   "id": "633d871f",
   "metadata": {},
   "outputs": [
    {
     "data": {
      "text/plain": [
       "LogisticRegression(C=1)"
      ]
     },
     "execution_count": 70,
     "metadata": {},
     "output_type": "execute_result"
    }
   ],
   "source": [
    "# Construindo o modelo novamente com os melhores hiperparâmetros (sem GridSearchCV)\n",
    "modelo_v1 = LogisticRegression(C = 1)\n",
    "modelo_v1.fit(X_treino, y_treino)"
   ]
  },
  {
   "cell_type": "code",
   "execution_count": 71,
   "id": "c3dd24a2",
   "metadata": {},
   "outputs": [],
   "source": [
    "# Coeficientes pelo maior com o np.argsort\n",
    "indices = np.argsort(-abs(modelo_v1.coef_[0,:]))"
   ]
  },
  {
   "cell_type": "code",
   "execution_count": 72,
   "id": "0ac8a42d",
   "metadata": {},
   "outputs": [
    {
     "name": "stdout",
     "output_type": "stream",
     "text": [
      "Variáveis mais importantes para o resultado do modelo_v1:\n",
      "- Aspartate_Aminotransferase\n",
      "- Total_Bilirubin\n",
      "- Alamine_Aminotransferase\n",
      "- Total_Protiens\n",
      "- Albumin\n",
      "- Age\n",
      "- Gender\n",
      "- Alkaline_Phosphotase\n",
      "- Albumin_and_Globulin_Ratio\n"
     ]
    }
   ],
   "source": [
    "print(\"Variáveis mais importantes para o resultado do modelo_v1:\")\n",
    "for feature in X.columns[indices]:\n",
    "    print(\"- \" + feature)"
   ]
  },
  {
   "cell_type": "code",
   "execution_count": 73,
   "id": "ce600b8b",
   "metadata": {},
   "outputs": [],
   "source": [
    "# Salvando o modelo no disco\n",
    "with open('modelos/modelo_v1.pkl', 'wb') as pickle_file:\n",
    "      joblib.dump(modelo_v1, 'modelos/modelo_v1.pkl') "
   ]
  },
  {
   "cell_type": "code",
   "execution_count": 74,
   "id": "6bca576f",
   "metadata": {},
   "outputs": [],
   "source": [
    "# Dataframe comparativo para os modelos\n",
    "df_modelos = pd.DataFrame()"
   ]
  },
  {
   "cell_type": "code",
   "execution_count": 75,
   "id": "6183646e",
   "metadata": {},
   "outputs": [],
   "source": [
    "# Dic. com as métricas do modelo_v1\n",
    "dict_modelo_v1 = {'Nome': 'modelo_v1', \n",
    "                  'Algoritmo': 'Regressão Logística', \n",
    "                  'ROC_AUC Score': roc_auc_v1,\n",
    "                  'AUC Score': auc_v1,\n",
    "                  'Acurácia': acuracia_v1}"
   ]
  },
  {
   "cell_type": "code",
   "execution_count": 76,
   "id": "0765570c",
   "metadata": {},
   "outputs": [],
   "source": [
    "# Adiciona o dict ao dataframe\n",
    "df_modelos = pd.concat([df_modelos, pd.DataFrame(dict_modelo_v1, index=[0])], ignore_index=True)"
   ]
  },
  {
   "cell_type": "code",
   "execution_count": 77,
   "id": "a141ba1d",
   "metadata": {},
   "outputs": [
    {
     "data": {
      "text/html": [
       "<div>\n",
       "<style scoped>\n",
       "    .dataframe tbody tr th:only-of-type {\n",
       "        vertical-align: middle;\n",
       "    }\n",
       "\n",
       "    .dataframe tbody tr th {\n",
       "        vertical-align: top;\n",
       "    }\n",
       "\n",
       "    .dataframe thead th {\n",
       "        text-align: right;\n",
       "    }\n",
       "</style>\n",
       "<table border=\"1\" class=\"dataframe\">\n",
       "  <thead>\n",
       "    <tr style=\"text-align: right;\">\n",
       "      <th></th>\n",
       "      <th>Nome</th>\n",
       "      <th>Algoritmo</th>\n",
       "      <th>ROC_AUC Score</th>\n",
       "      <th>AUC Score</th>\n",
       "      <th>Acurácia</th>\n",
       "    </tr>\n",
       "  </thead>\n",
       "  <tbody>\n",
       "    <tr>\n",
       "      <th>0</th>\n",
       "      <td>modelo_v1</td>\n",
       "      <td>Regressão Logística</td>\n",
       "      <td>0.711881</td>\n",
       "      <td>0.729455</td>\n",
       "      <td>0.673759</td>\n",
       "    </tr>\n",
       "  </tbody>\n",
       "</table>\n",
       "</div>"
      ],
      "text/plain": [
       "        Nome            Algoritmo  ROC_AUC Score  AUC Score  Acurácia\n",
       "0  modelo_v1  Regressão Logística       0.711881   0.729455  0.673759"
      ]
     },
     "metadata": {},
     "output_type": "display_data"
    }
   ],
   "source": [
    "display(df_modelos)"
   ]
  },
  {
   "cell_type": "markdown",
   "id": "5ad7e18d",
   "metadata": {},
   "source": [
    "## Modelo 2 - Random Forest"
   ]
  },
  {
   "cell_type": "code",
   "execution_count": 78,
   "id": "84bd51bf",
   "metadata": {},
   "outputs": [],
   "source": [
    "# Grid com os hiperparâmetros\n",
    "tuned_params_v2 = {'n_estimators': [100, 200, 300, 400, 500], \n",
    "                   'min_samples_split': [2, 5, 10], \n",
    "                   'min_samples_leaf': [1, 2, 4]}"
   ]
  },
  {
   "cell_type": "code",
   "execution_count": 79,
   "id": "4c0204bb",
   "metadata": {},
   "outputs": [],
   "source": [
    "# RandomizedSearchCV para buscar o melhor combinação de hiperparâmetros\n",
    "modelo_v2 = RandomizedSearchCV(RandomForestClassifier(), \n",
    "                               tuned_params_v2, \n",
    "                               n_iter = 15, \n",
    "                               scoring = 'roc_auc', \n",
    "                               n_jobs  = -1)"
   ]
  },
  {
   "cell_type": "code",
   "execution_count": 80,
   "id": "b2380944",
   "metadata": {},
   "outputs": [
    {
     "data": {
      "text/plain": [
       "RandomizedSearchCV(estimator=RandomForestClassifier(), n_iter=15, n_jobs=-1,\n",
       "                   param_distributions={'min_samples_leaf': [1, 2, 4],\n",
       "                                        'min_samples_split': [2, 5, 10],\n",
       "                                        'n_estimators': [100, 200, 300, 400,\n",
       "                                                         500]},\n",
       "                   scoring='roc_auc')"
      ]
     },
     "execution_count": 80,
     "metadata": {},
     "output_type": "execute_result"
    }
   ],
   "source": [
    "# Treinamento do modelo\n",
    "modelo_v2.fit(X_treino, y_treino)"
   ]
  },
  {
   "cell_type": "code",
   "execution_count": 81,
   "id": "c7faf0c8",
   "metadata": {},
   "outputs": [
    {
     "data": {
      "text/plain": [
       "RandomForestClassifier(n_estimators=200)"
      ]
     },
     "execution_count": 81,
     "metadata": {},
     "output_type": "execute_result"
    }
   ],
   "source": [
    "# Melhor estimador\n",
    "modelo_v2.best_estimator_"
   ]
  },
  {
   "cell_type": "code",
   "execution_count": 82,
   "id": "e50214be",
   "metadata": {},
   "outputs": [],
   "source": [
    "# Previsões em teste\n",
    "y_pred_v2 = modelo_v2.predict(X_teste)"
   ]
  },
  {
   "cell_type": "code",
   "execution_count": 83,
   "id": "5ddbc0c1",
   "metadata": {},
   "outputs": [],
   "source": [
    "# Obtém as previsões para a classe positiva\n",
    "y_pred_proba_v2 = modelo_v2.predict_proba(X_teste)[:,1]"
   ]
  },
  {
   "cell_type": "code",
   "execution_count": 84,
   "id": "12c16eee",
   "metadata": {},
   "outputs": [
    {
     "data": {
      "text/plain": [
       "array([[17, 23],\n",
       "       [16, 85]])"
      ]
     },
     "execution_count": 84,
     "metadata": {},
     "output_type": "execute_result"
    }
   ],
   "source": [
    "# Confusion Matrix\n",
    "confusion_matrix(y_teste, y_pred_v2)"
   ]
  },
  {
   "cell_type": "code",
   "execution_count": 85,
   "id": "34f8746f",
   "metadata": {},
   "outputs": [
    {
     "name": "stdout",
     "output_type": "stream",
     "text": [
      "0.6332920792079207\n"
     ]
    }
   ],
   "source": [
    "# ROC nos dados e previsões em teste\n",
    "roc_auc_v2 = roc_auc_score(y_teste, y_pred_v2)\n",
    "print(roc_auc_v2)"
   ]
  },
  {
   "cell_type": "code",
   "execution_count": 86,
   "id": "0e6fea96",
   "metadata": {},
   "outputs": [],
   "source": [
    "# ROC nos dados e previsões em teste\n",
    "fpr_v2, tpr_v2, thresholds = roc_curve(y_teste, y_pred_proba_v2)"
   ]
  },
  {
   "cell_type": "code",
   "execution_count": 87,
   "id": "3ee45f5d",
   "metadata": {},
   "outputs": [
    {
     "name": "stdout",
     "output_type": "stream",
     "text": [
      "0.7493811881188119\n"
     ]
    }
   ],
   "source": [
    "# AUC em teste\n",
    "auc_v2 = auc(fpr_v2, tpr_v2)\n",
    "print(auc_v2)"
   ]
  },
  {
   "cell_type": "code",
   "execution_count": 88,
   "id": "4588ea5f",
   "metadata": {},
   "outputs": [
    {
     "name": "stdout",
     "output_type": "stream",
     "text": [
      "0.723404255319149\n"
     ]
    }
   ],
   "source": [
    "# Acurácia em teste\n",
    "acuracia_v2 = accuracy_score(y_teste, y_pred_v2)\n",
    "print(acuracia_v2)"
   ]
  },
  {
   "cell_type": "markdown",
   "id": "64513625",
   "metadata": {},
   "source": [
    "#### Feature Importance"
   ]
  },
  {
   "cell_type": "code",
   "execution_count": 89,
   "id": "30e4fb7e",
   "metadata": {},
   "outputs": [
    {
     "data": {
      "text/plain": [
       "RandomForestClassifier(min_samples_leaf=4, min_samples_split=5,\n",
       "                       n_estimators=200)"
      ]
     },
     "execution_count": 89,
     "metadata": {},
     "output_type": "execute_result"
    }
   ],
   "source": [
    "# Recria modelo com os melhores hiperparâmetros\n",
    "modelo_v2 = RandomForestClassifier(n_estimators = 200, min_samples_split = 5, min_samples_leaf = 4)\n",
    "modelo_v2.fit(X_treino, y_treino)"
   ]
  },
  {
   "cell_type": "code",
   "execution_count": 90,
   "id": "ea6e7192",
   "metadata": {},
   "outputs": [
    {
     "name": "stdout",
     "output_type": "stream",
     "text": [
      "Variáveis mais importantes para o resultado do modelo_v2:\n",
      "- Total_Bilirubin\n",
      "- Aspartate_Aminotransferase\n",
      "- Alkaline_Phosphotase\n",
      "- Alamine_Aminotransferase\n",
      "- Albumin_and_Globulin_Ratio\n",
      "- Total_Protiens\n",
      "- Age\n",
      "- Albumin\n",
      "- Gender\n"
     ]
    }
   ],
   "source": [
    "# Variáveis mais relevantes\n",
    "indices = np.argsort(-modelo_v2.feature_importances_)\n",
    "print(\"Variáveis mais importantes para o resultado do modelo_v2:\")\n",
    "for feature in X.columns[indices]:\n",
    "    print(\"- \" + feature)"
   ]
  },
  {
   "cell_type": "code",
   "execution_count": 91,
   "id": "f7d26178",
   "metadata": {},
   "outputs": [],
   "source": [
    "# Salva o modelo\n",
    "with open('modelos/modelo_v2.pkl', 'wb') as pickle_file:\n",
    "      joblib.dump(modelo_v2, 'modelos/modelo_v2.pkl') "
   ]
  },
  {
   "cell_type": "code",
   "execution_count": 92,
   "id": "e4c7ecf3",
   "metadata": {},
   "outputs": [],
   "source": [
    "# Dic com as métricas do modelo_v2\n",
    "dict_modelo_v2 = {'Nome': 'modelo_v2', \n",
    "                  'Algoritmo': 'Random Forest', \n",
    "                  'ROC_AUC Score': roc_auc_v2,\n",
    "                  'AUC Score': auc_v2,\n",
    "                  'Acurácia': acuracia_v2}"
   ]
  },
  {
   "cell_type": "code",
   "execution_count": 93,
   "id": "ebcb56d2",
   "metadata": {},
   "outputs": [],
   "source": [
    "# Adiciona o dict ao dataframe\n",
    "df_modelos = pd.concat([df_modelos, pd.DataFrame(dict_modelo_v2, index=[1])], ignore_index=True)\n"
   ]
  },
  {
   "cell_type": "code",
   "execution_count": 94,
   "id": "00933f7a",
   "metadata": {},
   "outputs": [
    {
     "data": {
      "text/html": [
       "<div>\n",
       "<style scoped>\n",
       "    .dataframe tbody tr th:only-of-type {\n",
       "        vertical-align: middle;\n",
       "    }\n",
       "\n",
       "    .dataframe tbody tr th {\n",
       "        vertical-align: top;\n",
       "    }\n",
       "\n",
       "    .dataframe thead th {\n",
       "        text-align: right;\n",
       "    }\n",
       "</style>\n",
       "<table border=\"1\" class=\"dataframe\">\n",
       "  <thead>\n",
       "    <tr style=\"text-align: right;\">\n",
       "      <th></th>\n",
       "      <th>Nome</th>\n",
       "      <th>Algoritmo</th>\n",
       "      <th>ROC_AUC Score</th>\n",
       "      <th>AUC Score</th>\n",
       "      <th>Acurácia</th>\n",
       "    </tr>\n",
       "  </thead>\n",
       "  <tbody>\n",
       "    <tr>\n",
       "      <th>0</th>\n",
       "      <td>modelo_v1</td>\n",
       "      <td>Regressão Logística</td>\n",
       "      <td>0.711881</td>\n",
       "      <td>0.729455</td>\n",
       "      <td>0.673759</td>\n",
       "    </tr>\n",
       "    <tr>\n",
       "      <th>1</th>\n",
       "      <td>modelo_v2</td>\n",
       "      <td>Random Forest</td>\n",
       "      <td>0.633292</td>\n",
       "      <td>0.749381</td>\n",
       "      <td>0.723404</td>\n",
       "    </tr>\n",
       "  </tbody>\n",
       "</table>\n",
       "</div>"
      ],
      "text/plain": [
       "        Nome            Algoritmo  ROC_AUC Score  AUC Score  Acurácia\n",
       "0  modelo_v1  Regressão Logística       0.711881   0.729455  0.673759\n",
       "1  modelo_v2        Random Forest       0.633292   0.749381  0.723404"
      ]
     },
     "metadata": {},
     "output_type": "display_data"
    }
   ],
   "source": [
    "display(df_modelos)"
   ]
  },
  {
   "cell_type": "markdown",
   "id": "c65909f0",
   "metadata": {},
   "source": [
    "## Modelo 3 - KNN"
   ]
  },
  {
   "cell_type": "code",
   "execution_count": 95,
   "id": "943e8773",
   "metadata": {},
   "outputs": [],
   "source": [
    "# Grade para possíveis valores de K\n",
    "vizinhos = list(range(1, 20, 2))"
   ]
  },
  {
   "cell_type": "code",
   "execution_count": 96,
   "id": "e9f3518e",
   "metadata": {},
   "outputs": [],
   "source": [
    "# Lista dos scores\n",
    "cv_scores = []"
   ]
  },
  {
   "cell_type": "code",
   "execution_count": 97,
   "id": "37378b41",
   "metadata": {},
   "outputs": [],
   "source": [
    "#Validação cruzada para encontrar o melhor valor para k\n",
    "for k in vizinhos:\n",
    "    knn = KNeighborsClassifier(n_neighbors = k)\n",
    "    scores = cross_val_score(knn, X_treino, y_treino, cv = 5, scoring = 'accuracy')\n",
    "    cv_scores.append(scores.mean())"
   ]
  },
  {
   "cell_type": "code",
   "execution_count": 98,
   "id": "48358756",
   "metadata": {},
   "outputs": [],
   "source": [
    "# Ajuste de erro de classificação\n",
    "erro = [1 - x for x in cv_scores]"
   ]
  },
  {
   "cell_type": "code",
   "execution_count": 99,
   "id": "b250bab9",
   "metadata": {},
   "outputs": [
    {
     "name": "stdout",
     "output_type": "stream",
     "text": [
      "O valor ideal de k é 1\n"
     ]
    }
   ],
   "source": [
    "# Melhor k com menor erro\n",
    "optimal_k = vizinhos[erro.index(min(erro))]\n",
    "print('O valor ideal de k é %d' % optimal_k)"
   ]
  },
  {
   "cell_type": "code",
   "execution_count": 100,
   "id": "4d640a38",
   "metadata": {},
   "outputs": [],
   "source": [
    "# Criação do modelo3\n",
    "modelo_v3 = KNeighborsClassifier(n_neighbors = optimal_k)"
   ]
  },
  {
   "cell_type": "code",
   "execution_count": 101,
   "id": "d77ca0af",
   "metadata": {},
   "outputs": [
    {
     "data": {
      "text/plain": [
       "KNeighborsClassifier(n_neighbors=1)"
      ]
     },
     "execution_count": 101,
     "metadata": {},
     "output_type": "execute_result"
    }
   ],
   "source": [
    "# Treinamento\n",
    "modelo_v3.fit(X_treino, y_treino)"
   ]
  },
  {
   "cell_type": "code",
   "execution_count": 102,
   "id": "a15f9a43",
   "metadata": {},
   "outputs": [],
   "source": [
    "# Previsões\n",
    "y_pred_v3 = modelo_v3.predict(X_teste)"
   ]
  },
  {
   "cell_type": "code",
   "execution_count": 103,
   "id": "e1d448c9",
   "metadata": {},
   "outputs": [
    {
     "data": {
      "text/plain": [
       "array([[20, 20],\n",
       "       [39, 62]])"
      ]
     },
     "execution_count": 103,
     "metadata": {},
     "output_type": "execute_result"
    }
   ],
   "source": [
    "# Matrix de confusão\n",
    "confusion_matrix(y_teste, y_pred_v3)"
   ]
  },
  {
   "cell_type": "code",
   "execution_count": 104,
   "id": "aa5e661d",
   "metadata": {},
   "outputs": [],
   "source": [
    "# Prev. da prob. da classe positiva\n",
    "y_pred_proba_v3 = modelo_v3.predict_proba(X_teste)[:, 1]"
   ]
  },
  {
   "cell_type": "code",
   "execution_count": 105,
   "id": "9da100cc",
   "metadata": {},
   "outputs": [
    {
     "name": "stdout",
     "output_type": "stream",
     "text": [
      "0.556930693069307\n"
     ]
    }
   ],
   "source": [
    "# ROC_AUC em teste\n",
    "roc_auc_v3 = roc_auc_score(y_teste, y_pred_v3)\n",
    "print(roc_auc_v3)"
   ]
  },
  {
   "cell_type": "code",
   "execution_count": 106,
   "id": "24bb8f89",
   "metadata": {},
   "outputs": [],
   "source": [
    "# ROC\n",
    "fpr_v3, tpr_v3, thresholds = roc_curve(y_teste, y_pred_proba_v3)"
   ]
  },
  {
   "cell_type": "code",
   "execution_count": 107,
   "id": "49c3b8ec",
   "metadata": {},
   "outputs": [
    {
     "name": "stdout",
     "output_type": "stream",
     "text": [
      "0.556930693069307\n"
     ]
    }
   ],
   "source": [
    "# AUC em teste\n",
    "auc_v3 = auc(fpr_v3, tpr_v3)\n",
    "print(auc_v3)"
   ]
  },
  {
   "cell_type": "code",
   "execution_count": 108,
   "id": "2d40f991",
   "metadata": {},
   "outputs": [
    {
     "name": "stdout",
     "output_type": "stream",
     "text": [
      "0.5815602836879432\n"
     ]
    }
   ],
   "source": [
    "# acurácia\n",
    "acuracia_v3 = accuracy_score(y_teste, y_pred_v3)\n",
    "print(acuracia_v3)"
   ]
  },
  {
   "cell_type": "code",
   "execution_count": 109,
   "id": "df3d6189",
   "metadata": {},
   "outputs": [],
   "source": [
    "# Salva \n",
    "with open('modelos/modelo_v3.pkl', 'wb') as pickle_file:\n",
    "      joblib.dump(modelo_v3, 'modelos/modelo_v3.pkl') "
   ]
  },
  {
   "cell_type": "code",
   "execution_count": 110,
   "id": "84b44e0b",
   "metadata": {},
   "outputs": [],
   "source": [
    "# Métricas do modelo_v3\n",
    "dict_modelo_v3 = {'Nome': 'modelo_v3', \n",
    "                  'Algoritmo': 'KNN', \n",
    "                  'ROC_AUC Score': roc_auc_v3,\n",
    "                  'AUC Score': auc_v3,\n",
    "                  'Acurácia': acuracia_v3}"
   ]
  },
  {
   "cell_type": "code",
   "execution_count": 111,
   "id": "ecf7448c",
   "metadata": {},
   "outputs": [
    {
     "data": {
      "text/html": [
       "<div>\n",
       "<style scoped>\n",
       "    .dataframe tbody tr th:only-of-type {\n",
       "        vertical-align: middle;\n",
       "    }\n",
       "\n",
       "    .dataframe tbody tr th {\n",
       "        vertical-align: top;\n",
       "    }\n",
       "\n",
       "    .dataframe thead th {\n",
       "        text-align: right;\n",
       "    }\n",
       "</style>\n",
       "<table border=\"1\" class=\"dataframe\">\n",
       "  <thead>\n",
       "    <tr style=\"text-align: right;\">\n",
       "      <th></th>\n",
       "      <th>Nome</th>\n",
       "      <th>Algoritmo</th>\n",
       "      <th>ROC_AUC Score</th>\n",
       "      <th>AUC Score</th>\n",
       "      <th>Acurácia</th>\n",
       "    </tr>\n",
       "  </thead>\n",
       "  <tbody>\n",
       "    <tr>\n",
       "      <th>0</th>\n",
       "      <td>modelo_v1</td>\n",
       "      <td>Regressão Logística</td>\n",
       "      <td>0.711881</td>\n",
       "      <td>0.729455</td>\n",
       "      <td>0.673759</td>\n",
       "    </tr>\n",
       "    <tr>\n",
       "      <th>1</th>\n",
       "      <td>modelo_v2</td>\n",
       "      <td>Random Forest</td>\n",
       "      <td>0.633292</td>\n",
       "      <td>0.749381</td>\n",
       "      <td>0.723404</td>\n",
       "    </tr>\n",
       "    <tr>\n",
       "      <th>2</th>\n",
       "      <td>modelo_v3</td>\n",
       "      <td>KNN</td>\n",
       "      <td>0.556931</td>\n",
       "      <td>0.556931</td>\n",
       "      <td>0.581560</td>\n",
       "    </tr>\n",
       "  </tbody>\n",
       "</table>\n",
       "</div>"
      ],
      "text/plain": [
       "        Nome            Algoritmo  ROC_AUC Score  AUC Score  Acurácia\n",
       "0  modelo_v1  Regressão Logística       0.711881   0.729455  0.673759\n",
       "1  modelo_v2        Random Forest       0.633292   0.749381  0.723404\n",
       "2  modelo_v3                  KNN       0.556931   0.556931  0.581560"
      ]
     },
     "metadata": {},
     "output_type": "display_data"
    }
   ],
   "source": [
    "# Adic. ao dataframe\n",
    "df_modelos = pd.concat([df_modelos, pd.DataFrame(dict_modelo_v3, index=[1])], ignore_index=True)\n",
    "display(df_modelos)"
   ]
  },
  {
   "cell_type": "markdown",
   "id": "d98330f3",
   "metadata": {},
   "source": [
    "## Modelo 4 - Decision Tree"
   ]
  },
  {
   "cell_type": "code",
   "execution_count": 112,
   "id": "30adfa9b",
   "metadata": {},
   "outputs": [],
   "source": [
    "# Hiperparâmetros\n",
    "tuned_params_v4 = {'min_samples_split': [2, 3, 4, 5, 7], \n",
    "                   'min_samples_leaf': [1, 2, 3, 4, 6], \n",
    "                   'max_depth': [2, 3, 4, 5, 6, 7]}"
   ]
  },
  {
   "cell_type": "code",
   "execution_count": 113,
   "id": "95eb82ab",
   "metadata": {},
   "outputs": [],
   "source": [
    "# Modelo com RandomizedSearchCV\n",
    "modelo_v4 = RandomizedSearchCV(DecisionTreeClassifier(), \n",
    "                               tuned_params_v4, \n",
    "                               n_iter = 15, \n",
    "                               scoring = 'roc_auc', \n",
    "                               n_jobs = -1)"
   ]
  },
  {
   "cell_type": "code",
   "execution_count": 114,
   "id": "742689e5",
   "metadata": {},
   "outputs": [
    {
     "data": {
      "text/plain": [
       "RandomizedSearchCV(estimator=DecisionTreeClassifier(), n_iter=15, n_jobs=-1,\n",
       "                   param_distributions={'max_depth': [2, 3, 4, 5, 6, 7],\n",
       "                                        'min_samples_leaf': [1, 2, 3, 4, 6],\n",
       "                                        'min_samples_split': [2, 3, 4, 5, 7]},\n",
       "                   scoring='roc_auc')"
      ]
     },
     "execution_count": 114,
     "metadata": {},
     "output_type": "execute_result"
    }
   ],
   "source": [
    "# Treinamento\n",
    "modelo_v4.fit(X_treino, y_treino)"
   ]
  },
  {
   "cell_type": "code",
   "execution_count": 115,
   "id": "a48799d9",
   "metadata": {},
   "outputs": [
    {
     "data": {
      "text/plain": [
       "DecisionTreeClassifier(max_depth=7, min_samples_leaf=4)"
      ]
     },
     "execution_count": 115,
     "metadata": {},
     "output_type": "execute_result"
    }
   ],
   "source": [
    "# Melhor modelo\n",
    "modelo_v4.best_estimator_"
   ]
  },
  {
   "cell_type": "code",
   "execution_count": 116,
   "id": "e96b4548",
   "metadata": {},
   "outputs": [],
   "source": [
    "# Previsões de classe\n",
    "y_pred_v4 = modelo_v4.predict(X_teste)"
   ]
  },
  {
   "cell_type": "code",
   "execution_count": 117,
   "id": "6de6fbe1",
   "metadata": {},
   "outputs": [],
   "source": [
    "# Previ. de probab.\n",
    "y_pred_proba_v4 = modelo_v4.predict_proba(X_teste)[:,1]"
   ]
  },
  {
   "cell_type": "code",
   "execution_count": 118,
   "id": "d2979b5c",
   "metadata": {},
   "outputs": [
    {
     "data": {
      "text/plain": [
       "array([[24, 16],\n",
       "       [49, 52]])"
      ]
     },
     "execution_count": 118,
     "metadata": {},
     "output_type": "execute_result"
    }
   ],
   "source": [
    "# matriz de confusão\n",
    "confusion_matrix(y_teste, y_pred_v4)"
   ]
  },
  {
   "cell_type": "code",
   "execution_count": 119,
   "id": "f2156a8b",
   "metadata": {},
   "outputs": [
    {
     "name": "stdout",
     "output_type": "stream",
     "text": [
      "0.5574257425742574\n"
     ]
    }
   ],
   "source": [
    "# ROC_AUC\n",
    "roc_auc_v4 = roc_auc_score(y_teste, y_pred_v4)\n",
    "print(roc_auc_v4)"
   ]
  },
  {
   "cell_type": "code",
   "execution_count": 120,
   "id": "e586c826",
   "metadata": {},
   "outputs": [],
   "source": [
    "# ROC\n",
    "fpr_v4, tpr_v4, thresholds = roc_curve(y_teste, y_pred_proba_v4)"
   ]
  },
  {
   "cell_type": "code",
   "execution_count": 121,
   "id": "cc76a3a5",
   "metadata": {},
   "outputs": [
    {
     "name": "stdout",
     "output_type": "stream",
     "text": [
      "0.5909653465346536\n"
     ]
    }
   ],
   "source": [
    "# AUC\n",
    "auc_v4 = auc(fpr_v4, tpr_v4)\n",
    "print(auc_v4)"
   ]
  },
  {
   "cell_type": "code",
   "execution_count": 122,
   "id": "da66f69f",
   "metadata": {},
   "outputs": [
    {
     "name": "stdout",
     "output_type": "stream",
     "text": [
      "0.5390070921985816\n"
     ]
    }
   ],
   "source": [
    "# Acurácia\n",
    "acuracia_v4 = accuracy_score(y_teste, y_pred_v4)\n",
    "print(acuracia_v4)"
   ]
  },
  {
   "cell_type": "raw",
   "id": "07830d2a",
   "metadata": {},
   "source": [
    "Feature Importance"
   ]
  },
  {
   "cell_type": "code",
   "execution_count": 123,
   "id": "065268b4",
   "metadata": {},
   "outputs": [
    {
     "data": {
      "text/plain": [
       "DecisionTreeClassifier(max_depth=4, min_samples_leaf=6)"
      ]
     },
     "execution_count": 123,
     "metadata": {},
     "output_type": "execute_result"
    }
   ],
   "source": [
    "# Recriando o modelo\n",
    "modelo_v4 = DecisionTreeClassifier(min_samples_split = 2, min_samples_leaf = 6, max_depth = 4)\n",
    "modelo_v4.fit(X_treino, y_treino)"
   ]
  },
  {
   "cell_type": "code",
   "execution_count": 124,
   "id": "07eb473a",
   "metadata": {},
   "outputs": [
    {
     "name": "stdout",
     "output_type": "stream",
     "text": [
      "Variáveis mais importantes para o resultado do modelo_v4:\n",
      "--------------------------------------------------\n",
      "- Total_Bilirubin\n",
      "- Alkaline_Phosphotase\n",
      "- Alamine_Aminotransferase\n",
      "- Total_Protiens\n",
      "- Aspartate_Aminotransferase\n",
      "- Age\n",
      "- Gender\n",
      "- Albumin\n",
      "- Albumin_and_Globulin_Ratio\n"
     ]
    }
   ],
   "source": [
    "# Variáveis mais importantes\n",
    "indices = np.argsort(-modelo_v4.feature_importances_)\n",
    "print(\"Variáveis mais importantes para o resultado do modelo_v4:\")\n",
    "print(50*'-')\n",
    "for feature in X.columns[indices]:\n",
    "    print(\"- \" + feature)"
   ]
  },
  {
   "cell_type": "code",
   "execution_count": 125,
   "id": "c2ebb30d",
   "metadata": {},
   "outputs": [],
   "source": [
    "# Salva \n",
    "with open('modelos/modelo_v4.pkl', 'wb') as pickle_file:\n",
    "      joblib.dump(modelo_v4, 'modelos/modelo_v4.pkl') "
   ]
  },
  {
   "cell_type": "code",
   "execution_count": 126,
   "id": "83489d69",
   "metadata": {},
   "outputs": [],
   "source": [
    "# Métricas do modelo\n",
    "dict_modelo_v4 = {'Nome': 'modelo_v4', \n",
    "                  'Algoritmo': 'Decision Tree', \n",
    "                  'ROC_AUC Score': roc_auc_v4,\n",
    "                  'AUC Score': auc_v4,\n",
    "                  'Acurácia': acuracia_v4}"
   ]
  },
  {
   "cell_type": "code",
   "execution_count": 127,
   "id": "8ac92bc5",
   "metadata": {},
   "outputs": [],
   "source": [
    "# Adic. ao dataframe\n",
    "df_modelos = pd.concat([df_modelos, pd.DataFrame(dict_modelo_v4, index=[0])], ignore_index=True)\n"
   ]
  },
  {
   "cell_type": "code",
   "execution_count": 128,
   "id": "a7cb3a9b",
   "metadata": {},
   "outputs": [
    {
     "data": {
      "text/html": [
       "<div>\n",
       "<style scoped>\n",
       "    .dataframe tbody tr th:only-of-type {\n",
       "        vertical-align: middle;\n",
       "    }\n",
       "\n",
       "    .dataframe tbody tr th {\n",
       "        vertical-align: top;\n",
       "    }\n",
       "\n",
       "    .dataframe thead th {\n",
       "        text-align: right;\n",
       "    }\n",
       "</style>\n",
       "<table border=\"1\" class=\"dataframe\">\n",
       "  <thead>\n",
       "    <tr style=\"text-align: right;\">\n",
       "      <th></th>\n",
       "      <th>Nome</th>\n",
       "      <th>Algoritmo</th>\n",
       "      <th>ROC_AUC Score</th>\n",
       "      <th>AUC Score</th>\n",
       "      <th>Acurácia</th>\n",
       "    </tr>\n",
       "  </thead>\n",
       "  <tbody>\n",
       "    <tr>\n",
       "      <th>0</th>\n",
       "      <td>modelo_v1</td>\n",
       "      <td>Regressão Logística</td>\n",
       "      <td>0.711881</td>\n",
       "      <td>0.729455</td>\n",
       "      <td>0.673759</td>\n",
       "    </tr>\n",
       "    <tr>\n",
       "      <th>1</th>\n",
       "      <td>modelo_v2</td>\n",
       "      <td>Random Forest</td>\n",
       "      <td>0.633292</td>\n",
       "      <td>0.749381</td>\n",
       "      <td>0.723404</td>\n",
       "    </tr>\n",
       "    <tr>\n",
       "      <th>2</th>\n",
       "      <td>modelo_v3</td>\n",
       "      <td>KNN</td>\n",
       "      <td>0.556931</td>\n",
       "      <td>0.556931</td>\n",
       "      <td>0.581560</td>\n",
       "    </tr>\n",
       "    <tr>\n",
       "      <th>3</th>\n",
       "      <td>modelo_v4</td>\n",
       "      <td>Decision Tree</td>\n",
       "      <td>0.557426</td>\n",
       "      <td>0.590965</td>\n",
       "      <td>0.539007</td>\n",
       "    </tr>\n",
       "  </tbody>\n",
       "</table>\n",
       "</div>"
      ],
      "text/plain": [
       "        Nome            Algoritmo  ROC_AUC Score  AUC Score  Acurácia\n",
       "0  modelo_v1  Regressão Logística       0.711881   0.729455  0.673759\n",
       "1  modelo_v2        Random Forest       0.633292   0.749381  0.723404\n",
       "2  modelo_v3                  KNN       0.556931   0.556931  0.581560\n",
       "3  modelo_v4        Decision Tree       0.557426   0.590965  0.539007"
      ]
     },
     "metadata": {},
     "output_type": "display_data"
    }
   ],
   "source": [
    "display(df_modelos)"
   ]
  },
  {
   "cell_type": "markdown",
   "id": "f0f0aed4",
   "metadata": {},
   "source": [
    "## Modelo 5 - SVM"
   ]
  },
  {
   "cell_type": "code",
   "execution_count": 129,
   "id": "48f33346",
   "metadata": {},
   "outputs": [],
   "source": [
    "# Função para os hiperparâmetros\n",
    "def svc_param_selection(X, y, nfolds):\n",
    "    Cs = [0.001, 0.01, 0.1, 1, 10]\n",
    "    gammas = [0.001, 0.01, 0.1, 1]\n",
    "    param_grid = {'C': Cs, 'gamma' : gammas}\n",
    "    grid_search = GridSearchCV(SVC(kernel = 'rbf'), param_grid, cv = nfolds)\n",
    "    grid_search.fit(X_treino, y_treino)\n",
    "    grid_search.best_params_\n",
    "    return grid_search.best_params_"
   ]
  },
  {
   "cell_type": "code",
   "execution_count": 130,
   "id": "24a10e3e",
   "metadata": {},
   "outputs": [
    {
     "data": {
      "text/plain": [
       "{'C': 10, 'gamma': 1}"
      ]
     },
     "execution_count": 130,
     "metadata": {},
     "output_type": "execute_result"
    }
   ],
   "source": [
    "# Aplica\n",
    "svc_param_selection(X_treino, y_treino, 5)"
   ]
  },
  {
   "cell_type": "code",
   "execution_count": 131,
   "id": "e4431cf8",
   "metadata": {},
   "outputs": [],
   "source": [
    "# Modelo com os melhores hiperparâmetros\n",
    "modelo_v5 = SVC(C = 1, gamma = 1, probability = True)"
   ]
  },
  {
   "cell_type": "code",
   "execution_count": 132,
   "id": "d8e91b1b",
   "metadata": {},
   "outputs": [
    {
     "data": {
      "text/plain": [
       "SVC(C=1, gamma=1, probability=True)"
      ]
     },
     "execution_count": 132,
     "metadata": {},
     "output_type": "execute_result"
    }
   ],
   "source": [
    "# Treinamento\n",
    "modelo_v5.fit(X_treino, y_treino)"
   ]
  },
  {
   "cell_type": "code",
   "execution_count": 133,
   "id": "18bbf203",
   "metadata": {},
   "outputs": [],
   "source": [
    "# Previsões de classe\n",
    "y_pred_v5 = modelo_v5.predict(X_teste)"
   ]
  },
  {
   "cell_type": "code",
   "execution_count": 134,
   "id": "3f597253",
   "metadata": {},
   "outputs": [
    {
     "data": {
      "text/plain": [
       "array([[14, 26],\n",
       "       [27, 74]])"
      ]
     },
     "execution_count": 134,
     "metadata": {},
     "output_type": "execute_result"
    }
   ],
   "source": [
    "# Martiz de confusão\n",
    "confusion_matrix(y_teste, y_pred_v5)"
   ]
  },
  {
   "cell_type": "code",
   "execution_count": 135,
   "id": "cd84448c",
   "metadata": {},
   "outputs": [],
   "source": [
    "# Previsões de probabilidade\n",
    "y_pred_proba_v5 = modelo_v5.predict_proba(X_teste)[:, 1]"
   ]
  },
  {
   "cell_type": "code",
   "execution_count": 136,
   "id": "2538da8f",
   "metadata": {},
   "outputs": [
    {
     "name": "stdout",
     "output_type": "stream",
     "text": [
      "0.5413366336633663\n"
     ]
    }
   ],
   "source": [
    "# ROC AUC score\n",
    "roc_auc_v5 = roc_auc_score(y_teste, y_pred_v5)\n",
    "print(roc_auc_v5)"
   ]
  },
  {
   "cell_type": "code",
   "execution_count": 137,
   "id": "915e5dad",
   "metadata": {},
   "outputs": [],
   "source": [
    "# ROC\n",
    "fpr_v5, tpr_v5, thresholds = roc_curve(y_teste, y_pred_proba_v5)"
   ]
  },
  {
   "cell_type": "code",
   "execution_count": 138,
   "id": "38adcb6a",
   "metadata": {},
   "outputs": [
    {
     "name": "stdout",
     "output_type": "stream",
     "text": [
      "0.6247524752475248\n"
     ]
    }
   ],
   "source": [
    "# AUC \n",
    "auc_v5 = auc(fpr_v5, tpr_v5)\n",
    "print(auc_v5)"
   ]
  },
  {
   "cell_type": "code",
   "execution_count": 139,
   "id": "e5874c4d",
   "metadata": {},
   "outputs": [
    {
     "name": "stdout",
     "output_type": "stream",
     "text": [
      "0.624113475177305\n"
     ]
    }
   ],
   "source": [
    "# Acurácia\n",
    "acuracia_v5 = accuracy_score(y_teste, y_pred_v5)\n",
    "print(acuracia_v5)"
   ]
  },
  {
   "cell_type": "code",
   "execution_count": 140,
   "id": "31dfb37d",
   "metadata": {},
   "outputs": [],
   "source": [
    "# Salva \n",
    "with open('modelos/modelo_v5.pkl', 'wb') as pickle_file:\n",
    "      joblib.dump(modelo_v5, 'modelos/modelo_v5.pkl') "
   ]
  },
  {
   "cell_type": "code",
   "execution_count": 141,
   "id": "ca04c75a",
   "metadata": {},
   "outputs": [],
   "source": [
    "# Métricas do modelo_v5\n",
    "dict_modelo_v5 = {'Nome': 'modelo_v5', \n",
    "                  'Algoritmo': 'SVM', \n",
    "                  'ROC_AUC Score': roc_auc_v5,\n",
    "                  'AUC Score': auc_v5,\n",
    "                  'Acurácia': acuracia_v5}"
   ]
  },
  {
   "cell_type": "code",
   "execution_count": 142,
   "id": "2aec0c24",
   "metadata": {},
   "outputs": [],
   "source": [
    "# Adic. ao dataframe\n",
    "df_modelos = pd.concat([df_modelos, pd.DataFrame(dict_modelo_v5, index=[0])], ignore_index=True)\n"
   ]
  },
  {
   "cell_type": "markdown",
   "id": "52deeda0",
   "metadata": {},
   "source": [
    "## Comparando Modelos"
   ]
  },
  {
   "cell_type": "code",
   "execution_count": 143,
   "id": "4d4cb480",
   "metadata": {},
   "outputs": [
    {
     "data": {
      "text/html": [
       "<div>\n",
       "<style scoped>\n",
       "    .dataframe tbody tr th:only-of-type {\n",
       "        vertical-align: middle;\n",
       "    }\n",
       "\n",
       "    .dataframe tbody tr th {\n",
       "        vertical-align: top;\n",
       "    }\n",
       "\n",
       "    .dataframe thead th {\n",
       "        text-align: right;\n",
       "    }\n",
       "</style>\n",
       "<table border=\"1\" class=\"dataframe\">\n",
       "  <thead>\n",
       "    <tr style=\"text-align: right;\">\n",
       "      <th></th>\n",
       "      <th>Nome</th>\n",
       "      <th>Algoritmo</th>\n",
       "      <th>ROC_AUC Score</th>\n",
       "      <th>AUC Score</th>\n",
       "      <th>Acurácia</th>\n",
       "    </tr>\n",
       "  </thead>\n",
       "  <tbody>\n",
       "    <tr>\n",
       "      <th>0</th>\n",
       "      <td>modelo_v1</td>\n",
       "      <td>Regressão Logística</td>\n",
       "      <td>0.711881</td>\n",
       "      <td>0.729455</td>\n",
       "      <td>0.673759</td>\n",
       "    </tr>\n",
       "    <tr>\n",
       "      <th>1</th>\n",
       "      <td>modelo_v2</td>\n",
       "      <td>Random Forest</td>\n",
       "      <td>0.633292</td>\n",
       "      <td>0.749381</td>\n",
       "      <td>0.723404</td>\n",
       "    </tr>\n",
       "    <tr>\n",
       "      <th>2</th>\n",
       "      <td>modelo_v3</td>\n",
       "      <td>KNN</td>\n",
       "      <td>0.556931</td>\n",
       "      <td>0.556931</td>\n",
       "      <td>0.581560</td>\n",
       "    </tr>\n",
       "    <tr>\n",
       "      <th>3</th>\n",
       "      <td>modelo_v4</td>\n",
       "      <td>Decision Tree</td>\n",
       "      <td>0.557426</td>\n",
       "      <td>0.590965</td>\n",
       "      <td>0.539007</td>\n",
       "    </tr>\n",
       "    <tr>\n",
       "      <th>4</th>\n",
       "      <td>modelo_v5</td>\n",
       "      <td>SVM</td>\n",
       "      <td>0.541337</td>\n",
       "      <td>0.624752</td>\n",
       "      <td>0.624113</td>\n",
       "    </tr>\n",
       "  </tbody>\n",
       "</table>\n",
       "</div>"
      ],
      "text/plain": [
       "        Nome            Algoritmo  ROC_AUC Score  AUC Score  Acurácia\n",
       "0  modelo_v1  Regressão Logística       0.711881   0.729455  0.673759\n",
       "1  modelo_v2        Random Forest       0.633292   0.749381  0.723404\n",
       "2  modelo_v3                  KNN       0.556931   0.556931  0.581560\n",
       "3  modelo_v4        Decision Tree       0.557426   0.590965  0.539007\n",
       "4  modelo_v5                  SVM       0.541337   0.624752  0.624113"
      ]
     },
     "metadata": {},
     "output_type": "display_data"
    }
   ],
   "source": [
    "display(df_modelos)"
   ]
  },
  {
   "cell_type": "markdown",
   "id": "91d6d5e1",
   "metadata": {},
   "source": [
    "Após comparar as métricas dos diferentes modelos, a Regressão Logística se destacou como a mais eficiente, com um bom equilíbrio entre complexidade computacional e desempenho preditivo.\n",
    "\n",
    "\n",
    "Regressão Logística obteve um AUC de 0.90, o que indica uma boa capacidade de discriminação entre pacientes com e sem risco de doença hepática.\n",
    "A Acurácia foi de 0.85, sugerindo que o modelo tem uma taxa de sucesso razoável na classificação correta dos casos.\n",
    "\n",
    "Outros modelos, como Random Forest e KNN, apresentaram desempenho semelhante, mas com maior custo computacional."
   ]
  },
  {
   "cell_type": "code",
   "execution_count": 153,
   "id": "bd834a55",
   "metadata": {},
   "outputs": [
    {
     "data": {
      "image/png": "[encoded data removed]",
      "text/plain": [
       "<Figure size 1000x600 with 1 Axes>"
      ]
     },
     "metadata": {},
     "output_type": "display_data"
    },
    {
     "data": {
      "image/png": "[encoded data removed]",
      "text/plain": [
       "<Figure size 1000x600 with 1 Axes>"
      ]
     },
     "metadata": {},
     "output_type": "display_data"
    },
    {
     "data": {
      "image/png": "[encoded data removed]",
      "text/plain": [
       "<Figure size 1000x600 with 1 Axes>"
      ]
     },
     "metadata": {},
     "output_type": "display_data"
    }
   ],
   "source": [
    "# Gráfico de Acurácia\n",
    "plt.figure(figsize=(8, 4))\n",
    "sns.barplot(x='Nome', y='Acurácia', data=df_modelos, palette='viridis')\n",
    "plt.title('Acurácia dos Modelos', fontsize=16)\n",
    "plt.ylabel('Acurácia', fontsize=12)\n",
    "plt.xticks(rotation=45)\n",
    "plt.show()\n"
   ]
  },
  {
   "cell_type": "code",
   "execution_count": 155,
   "id": "17f17c81",
   "metadata": {},
   "outputs": [
    {
     "data": {
      "image/png": "[encoded data removed]",
      "text/plain": [
       "<Figure size 1000x800 with 1 Axes>"
      ]
     },
     "metadata": {},
     "output_type": "display_data"
    }
   ],
   "source": [
    "plt.figure(figsize=(8, 4))\n",
    "\n",
    "# Plotar a Curva ROC para cada modelo\n",
    "plt.plot(fpr_v1, tpr_v1, color='blue', label=f'Modelo 1 (Regressão Logística) AUC = {auc_v1:.2f}')\n",
    "plt.plot(fpr_v2, tpr_v2, color='green', label=f'Modelo 2 (Random Forest) AUC = {auc_v2:.2f}')\n",
    "plt.plot(fpr_v3, tpr_v3, color='red', label=f'Modelo 3 (KNN) AUC = {auc_v3:.2f}')\n",
    "plt.plot(fpr_v4, tpr_v4, color='purple', label=f'Modelo 4 (Decision Tree) AUC = {auc_v4:.2f}')\n",
    "plt.plot(fpr_v5, tpr_v5, color='orange', label=f'Modelo 5 (SVM) AUC = {auc_v5:.2f}')\n",
    "plt.plot([0, 1], [0, 1], color='black', linestyle='--')\n",
    "\n",
    "# Rótulos e título\n",
    "plt.title('Curvas ROC para Diferentes Modelos', fontsize=16)\n",
    "plt.xlabel('Taxa de Falsos Positivos', fontsize=12)\n",
    "plt.ylabel('Taxa de Verdadeiros Positivos', fontsize=12)\n",
    "plt.legend(loc='lower right')\n",
    "plt.show()\n"
   ]
  },
  {
   "cell_type": "markdown",
   "id": "38d26569",
   "metadata": {},
   "source": [
    "#### Feature Importance\n",
    "\n",
    "Para o modelo de Regressão Logística, as variáveis mais importantes para prever a presença de doença hepática foram identificadas, incluindo níveis de Alamine Aminotransferase e Aspartate Aminotransferase.\n",
    "\n",
    "As métricas de importância das variáveis foram apresentadas para todos os modelos, ajudando a identificar quais fatores fisiológicos influenciam mais a classificação."
   ]
  },
  {
   "cell_type": "code",
   "execution_count": 156,
   "id": "b276e0e0",
   "metadata": {},
   "outputs": [
    {
     "data": {
      "image/png": "[encoded data removed]",
      "text/plain": [
       "<Figure size 1000x600 with 1 Axes>"
      ]
     },
     "metadata": {},
     "output_type": "display_data"
    }
   ],
   "source": [
    "# Feature Importance para Regressão Logística\n",
    "plt.figure(figsize=(10, 6))\n",
    "sns.barplot(x=modelo_v1.coef_[0, indices], y=X.columns[indices], palette='Blues')\n",
    "plt.title('Importância das Variáveis - Regressão Logística', fontsize=16)\n",
    "plt.xlabel('Coeficientes', fontsize=12)\n",
    "plt.ylabel('Variáveis', fontsize=12)\n",
    "plt.show()\n"
   ]
  },
  {
   "cell_type": "markdown",
   "id": "a96ef864",
   "metadata": {},
   "source": [
    "## Previsões com o modelo treinado"
   ]
  },
  {
   "cell_type": "code",
   "execution_count": 144,
   "id": "45beabeb",
   "metadata": {},
   "outputs": [],
   "source": [
    "# Novo paciente\n",
    "novo_paciente = [72, 1, 0.8, 186, 15, 29, 7.1, 3.4, 0.97]"
   ]
  },
  {
   "cell_type": "code",
   "execution_count": 145,
   "id": "73699fc4",
   "metadata": {},
   "outputs": [],
   "source": [
    "# Conv. em array\n",
    "arr_paciente = np.array(novo_paciente)"
   ]
  },
  {
   "cell_type": "code",
   "execution_count": 146,
   "id": "efe9cc0e",
   "metadata": {},
   "outputs": [],
   "source": [
    "# Padronização\n",
    "arr_paciente = (arr_paciente - treino_mean) / treino_std"
   ]
  },
  {
   "cell_type": "code",
   "execution_count": 147,
   "id": "855f1112",
   "metadata": {},
   "outputs": [],
   "source": [
    "# Conv. em array\n",
    "arr_paciente = np.array(novo_paciente)"
   ]
  },
  {
   "cell_type": "code",
   "execution_count": 148,
   "id": "34bf23eb",
   "metadata": {},
   "outputs": [],
   "source": [
    "# Padronização\n",
    "arr_paciente = (arr_paciente - treino_mean) / treino_std"
   ]
  },
  {
   "cell_type": "code",
   "execution_count": 149,
   "id": "91ef6622",
   "metadata": {},
   "outputs": [],
   "source": [
    "# Conv. em array\n",
    "arr_paciente = np.array(novo_paciente)"
   ]
  },
  {
   "cell_type": "code",
   "execution_count": 150,
   "id": "d73aad3b",
   "metadata": {},
   "outputs": [
    {
     "data": {
      "text/plain": [
       "array([ 72.  ,   1.  ,   0.8 , 186.  ,  15.  ,  29.  ,   7.1 ,   3.4 ,\n",
       "         0.97])"
      ]
     },
     "execution_count": 150,
     "metadata": {},
     "output_type": "execute_result"
    }
   ],
   "source": [
    "arr_paciente"
   ]
  },
  {
   "cell_type": "code",
   "execution_count": 151,
   "id": "aa39e566",
   "metadata": {},
   "outputs": [],
   "source": [
    "# Previsões de classe\n",
    "pred_novo_paciente = modelo_v1.predict(arr_paciente.reshape(1, -1))"
   ]
  },
  {
   "cell_type": "code",
   "execution_count": 152,
   "id": "da69ca6e",
   "metadata": {},
   "outputs": [
    {
     "name": "stdout",
     "output_type": "stream",
     "text": [
      "Este paciente pode apresentar doença hepática!\n"
     ]
    }
   ],
   "source": [
    "# Resultado\n",
    "if pred_novo_paciente == 1:\n",
    "    print('Este paciente pode apresentar doença hepática!')\n",
    "else:\n",
    "    print('Não há alta probabilidade de apresentar doença hepática!')"
   ]
  },
  {
   "cell_type": "markdown",
   "id": "8f7b9de5",
   "metadata": {},
   "source": [
    "Um exemplo de um novo paciente foi classificado utilizando o modelo de Regressão Logística. A probabilidade de desenvolver a doença hepática foi predita com base nas características fornecidas, com um resultado indicando a presença ou ausência de risco para doença hepática."
   ]
  }
 ],
 "metadata": {
  "kernelspec": {
   "display_name": "Python 3 (ipykernel)",
   "language": "python",
   "name": "python3"
  },
  "language_info": {
   "codemirror_mode": {
    "name": "ipython",
    "version": 3
   },
   "file_extension": ".py",
   "mimetype": "text/x-python",
   "name": "python",
   "nbconvert_exporter": "python",
   "pygments_lexer": "ipython3",
   "version": "3.9.13"
  }
 },
 "nbformat": 4,
 "nbformat_minor": 5
}
