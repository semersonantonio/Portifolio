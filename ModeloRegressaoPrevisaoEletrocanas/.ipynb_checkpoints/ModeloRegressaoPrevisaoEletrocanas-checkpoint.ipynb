{
 "cells": [
  {
   "cell_type": "markdown",
   "id": "41a64611",
   "metadata": {},
   "source": [
    "### Verificar qual seria o impacto de retorno financeiro maior a empresa, investir no site ou app? Para que o investimento desejado, traga o maior retorno possível, onde tais resultados irão auxiliar na tomada de decisão dos líderes da equipe."
   ]
  },
  {
   "cell_type": "code",
   "execution_count": 1,
   "id": "106de110",
   "metadata": {},
   "outputs": [],
   "source": [
    "# Imports\n",
    "import numpy as np\n",
    "import pandas as pd\n",
    "import matplotlib.pyplot as plt\n",
    "import seaborn as sns\n",
    "import sklearn\n",
    "from sklearn.model_selection import train_test_split\n",
    "from sklearn.preprocessing import StandardScaler\n",
    "from sklearn.linear_model import LinearRegression\n",
    "from sklearn.linear_model import Ridge\n",
    "from sklearn.linear_model import Lasso\n",
    "from sklearn.metrics import mean_absolute_error, mean_squared_error, r2_score, explained_variance_score\n",
    "sns.set_style('whitegrid')\n",
    "%matplotlib inline\n",
    "import warnings\n",
    "warnings.filterwarnings(\"ignore\", category=FutureWarning)"
   ]
  },
  {
   "cell_type": "markdown",
   "id": "18695883",
   "metadata": {},
   "source": [
    "#### Carga de dados"
   ]
  },
  {
   "cell_type": "code",
   "execution_count": 2,
   "id": "e6e0dacb",
   "metadata": {},
   "outputs": [
    {
     "data": {
      "text/plain": [
       "(500, 5)"
      ]
     },
     "execution_count": 2,
     "metadata": {},
     "output_type": "execute_result"
    }
   ],
   "source": [
    "# Carrega o dataset\n",
    "dados = pd.read_csv('dados/dataset.csv')\n",
    "dados.shape"
   ]
  },
  {
   "cell_type": "code",
   "execution_count": 3,
   "id": "786fb672",
   "metadata": {},
   "outputs": [
    {
     "name": "stdout",
     "output_type": "stream",
     "text": [
      "<class 'pandas.core.frame.DataFrame'>\n",
      "RangeIndex: 500 entries, 0 to 499\n",
      "Data columns (total 5 columns):\n",
      " #   Column                           Non-Null Count  Dtype  \n",
      "---  ------                           --------------  -----  \n",
      " 0   tempo_cadastro_cliente           500 non-null    float64\n",
      " 1   numero_medio_cliques_por_sessao  500 non-null    float64\n",
      " 2   tempo_total_logado_app           500 non-null    float64\n",
      " 3   tempo_total_logado_website       500 non-null    float64\n",
      " 4   valor_total_gasto                500 non-null    float64\n",
      "dtypes: float64(5)\n",
      "memory usage: 19.7 KB\n"
     ]
    }
   ],
   "source": [
    "dados.info()"
   ]
  },
  {
   "cell_type": "code",
   "execution_count": 4,
   "id": "4f563357",
   "metadata": {},
   "outputs": [
    {
     "data": {
      "text/html": [
       "<div>\n",
       "<style scoped>\n",
       "    .dataframe tbody tr th:only-of-type {\n",
       "        vertical-align: middle;\n",
       "    }\n",
       "\n",
       "    .dataframe tbody tr th {\n",
       "        vertical-align: top;\n",
       "    }\n",
       "\n",
       "    .dataframe thead th {\n",
       "        text-align: right;\n",
       "    }\n",
       "</style>\n",
       "<table border=\"1\" class=\"dataframe\">\n",
       "  <thead>\n",
       "    <tr style=\"text-align: right;\">\n",
       "      <th></th>\n",
       "      <th>tempo_cadastro_cliente</th>\n",
       "      <th>numero_medio_cliques_por_sessao</th>\n",
       "      <th>tempo_total_logado_app</th>\n",
       "      <th>tempo_total_logado_website</th>\n",
       "      <th>valor_total_gasto</th>\n",
       "    </tr>\n",
       "  </thead>\n",
       "  <tbody>\n",
       "    <tr>\n",
       "      <th>399</th>\n",
       "      <td>2.966559</td>\n",
       "      <td>32.404295</td>\n",
       "      <td>11.608998</td>\n",
       "      <td>38.110457</td>\n",
       "      <td>447.369027</td>\n",
       "    </tr>\n",
       "    <tr>\n",
       "      <th>454</th>\n",
       "      <td>4.022103</td>\n",
       "      <td>31.425227</td>\n",
       "      <td>13.271475</td>\n",
       "      <td>37.239847</td>\n",
       "      <td>530.766719</td>\n",
       "    </tr>\n",
       "    <tr>\n",
       "      <th>90</th>\n",
       "      <td>2.618165</td>\n",
       "      <td>32.018074</td>\n",
       "      <td>10.079463</td>\n",
       "      <td>38.070664</td>\n",
       "      <td>357.783111</td>\n",
       "    </tr>\n",
       "    <tr>\n",
       "      <th>254</th>\n",
       "      <td>3.843849</td>\n",
       "      <td>33.304431</td>\n",
       "      <td>12.378490</td>\n",
       "      <td>38.764297</td>\n",
       "      <td>536.130897</td>\n",
       "    </tr>\n",
       "    <tr>\n",
       "      <th>385</th>\n",
       "      <td>2.761862</td>\n",
       "      <td>34.002071</td>\n",
       "      <td>11.854682</td>\n",
       "      <td>37.491892</td>\n",
       "      <td>461.628278</td>\n",
       "    </tr>\n",
       "    <tr>\n",
       "      <th>453</th>\n",
       "      <td>4.652854</td>\n",
       "      <td>34.080260</td>\n",
       "      <td>11.591440</td>\n",
       "      <td>36.456898</td>\n",
       "      <td>574.415690</td>\n",
       "    </tr>\n",
       "    <tr>\n",
       "      <th>146</th>\n",
       "      <td>3.428860</td>\n",
       "      <td>31.389585</td>\n",
       "      <td>10.994224</td>\n",
       "      <td>38.074452</td>\n",
       "      <td>410.069611</td>\n",
       "    </tr>\n",
       "  </tbody>\n",
       "</table>\n",
       "</div>"
      ],
      "text/plain": [
       "     tempo_cadastro_cliente  numero_medio_cliques_por_sessao  \\\n",
       "399                2.966559                        32.404295   \n",
       "454                4.022103                        31.425227   \n",
       "90                 2.618165                        32.018074   \n",
       "254                3.843849                        33.304431   \n",
       "385                2.761862                        34.002071   \n",
       "453                4.652854                        34.080260   \n",
       "146                3.428860                        31.389585   \n",
       "\n",
       "     tempo_total_logado_app  tempo_total_logado_website  valor_total_gasto  \n",
       "399               11.608998                   38.110457         447.369027  \n",
       "454               13.271475                   37.239847         530.766719  \n",
       "90                10.079463                   38.070664         357.783111  \n",
       "254               12.378490                   38.764297         536.130897  \n",
       "385               11.854682                   37.491892         461.628278  \n",
       "453               11.591440                   36.456898         574.415690  \n",
       "146               10.994224                   38.074452         410.069611  "
      ]
     },
     "execution_count": 4,
     "metadata": {},
     "output_type": "execute_result"
    }
   ],
   "source": [
    "dados.sample(7)"
   ]
  },
  {
   "cell_type": "markdown",
   "id": "ccb47c36",
   "metadata": {},
   "source": [
    "#### Análise Exploratória"
   ]
  },
  {
   "cell_type": "code",
   "execution_count": 5,
   "id": "8d1971be",
   "metadata": {},
   "outputs": [
    {
     "data": {
      "text/plain": [
       "Index(['tempo_cadastro_cliente', 'numero_medio_cliques_por_sessao',\n",
       "       'tempo_total_logado_app', 'tempo_total_logado_website',\n",
       "       'valor_total_gasto'],\n",
       "      dtype='object')"
      ]
     },
     "execution_count": 5,
     "metadata": {},
     "output_type": "execute_result"
    }
   ],
   "source": [
    "dados.columns"
   ]
  },
  {
   "cell_type": "code",
   "execution_count": 6,
   "id": "71670909",
   "metadata": {},
   "outputs": [
    {
     "data": {
      "text/html": [
       "<div>\n",
       "<style scoped>\n",
       "    .dataframe tbody tr th:only-of-type {\n",
       "        vertical-align: middle;\n",
       "    }\n",
       "\n",
       "    .dataframe tbody tr th {\n",
       "        vertical-align: top;\n",
       "    }\n",
       "\n",
       "    .dataframe thead th {\n",
       "        text-align: right;\n",
       "    }\n",
       "</style>\n",
       "<table border=\"1\" class=\"dataframe\">\n",
       "  <thead>\n",
       "    <tr style=\"text-align: right;\">\n",
       "      <th></th>\n",
       "      <th>tempo_cadastro_cliente</th>\n",
       "      <th>numero_medio_cliques_por_sessao</th>\n",
       "      <th>tempo_total_logado_app</th>\n",
       "      <th>tempo_total_logado_website</th>\n",
       "      <th>valor_total_gasto</th>\n",
       "    </tr>\n",
       "  </thead>\n",
       "  <tbody>\n",
       "    <tr>\n",
       "      <th>tempo_cadastro_cliente</th>\n",
       "      <td>1.000000</td>\n",
       "      <td>0.060247</td>\n",
       "      <td>0.029143</td>\n",
       "      <td>-0.047582</td>\n",
       "      <td>0.809084</td>\n",
       "    </tr>\n",
       "    <tr>\n",
       "      <th>numero_medio_cliques_por_sessao</th>\n",
       "      <td>0.060247</td>\n",
       "      <td>1.000000</td>\n",
       "      <td>-0.027826</td>\n",
       "      <td>-0.034987</td>\n",
       "      <td>0.355088</td>\n",
       "    </tr>\n",
       "    <tr>\n",
       "      <th>tempo_total_logado_app</th>\n",
       "      <td>0.029143</td>\n",
       "      <td>-0.027826</td>\n",
       "      <td>1.000000</td>\n",
       "      <td>0.082388</td>\n",
       "      <td>0.499328</td>\n",
       "    </tr>\n",
       "    <tr>\n",
       "      <th>tempo_total_logado_website</th>\n",
       "      <td>-0.047582</td>\n",
       "      <td>-0.034987</td>\n",
       "      <td>0.082388</td>\n",
       "      <td>1.000000</td>\n",
       "      <td>-0.002641</td>\n",
       "    </tr>\n",
       "    <tr>\n",
       "      <th>valor_total_gasto</th>\n",
       "      <td>0.809084</td>\n",
       "      <td>0.355088</td>\n",
       "      <td>0.499328</td>\n",
       "      <td>-0.002641</td>\n",
       "      <td>1.000000</td>\n",
       "    </tr>\n",
       "  </tbody>\n",
       "</table>\n",
       "</div>"
      ],
      "text/plain": [
       "                                 tempo_cadastro_cliente  \\\n",
       "tempo_cadastro_cliente                         1.000000   \n",
       "numero_medio_cliques_por_sessao                0.060247   \n",
       "tempo_total_logado_app                         0.029143   \n",
       "tempo_total_logado_website                    -0.047582   \n",
       "valor_total_gasto                              0.809084   \n",
       "\n",
       "                                 numero_medio_cliques_por_sessao  \\\n",
       "tempo_cadastro_cliente                                  0.060247   \n",
       "numero_medio_cliques_por_sessao                         1.000000   \n",
       "tempo_total_logado_app                                 -0.027826   \n",
       "tempo_total_logado_website                             -0.034987   \n",
       "valor_total_gasto                                       0.355088   \n",
       "\n",
       "                                 tempo_total_logado_app  \\\n",
       "tempo_cadastro_cliente                         0.029143   \n",
       "numero_medio_cliques_por_sessao               -0.027826   \n",
       "tempo_total_logado_app                         1.000000   \n",
       "tempo_total_logado_website                     0.082388   \n",
       "valor_total_gasto                              0.499328   \n",
       "\n",
       "                                 tempo_total_logado_website  valor_total_gasto  \n",
       "tempo_cadastro_cliente                            -0.047582           0.809084  \n",
       "numero_medio_cliques_por_sessao                   -0.034987           0.355088  \n",
       "tempo_total_logado_app                             0.082388           0.499328  \n",
       "tempo_total_logado_website                         1.000000          -0.002641  \n",
       "valor_total_gasto                                 -0.002641           1.000000  "
      ]
     },
     "execution_count": 6,
     "metadata": {},
     "output_type": "execute_result"
    }
   ],
   "source": [
    "# Correlação \n",
    "dados.corr()"
   ]
  },
  {
   "cell_type": "code",
   "execution_count": null,
   "id": "9896e790",
   "metadata": {},
   "outputs": [
    {
     "name": "stderr",
     "output_type": "stream",
     "text": [
      "/Users/emerson/anaconda3/lib/python3.11/site-packages/seaborn/axisgrid.py:118: UserWarning: The figure layout has changed to tight\n",
      "  self._figure.tight_layout(*args, **kwargs)\n"
     ]
    },
    {
     "data": {
      "text/plain": [
       "<seaborn.axisgrid.PairGrid at 0x12b94db50>"
      ]
     },
     "execution_count": 7,
     "metadata": {},
     "output_type": "execute_result"
    }
   ],
   "source": [
    "sns.pairplot(dados)"
   ]
  },
  {
   "cell_type": "markdown",
   "id": "78a29512",
   "metadata": {},
   "source": [
    "##### Relação entre o tempo no web site e valor gasto"
   ]
  },
  {
   "cell_type": "code",
   "execution_count": null,
   "id": "9e035963",
   "metadata": {},
   "outputs": [],
   "source": [
    "# Correlação\n",
    "dados[['tempo_total_logado_website', 'valor_total_gasto']].corr()"
   ]
  },
  {
   "cell_type": "markdown",
   "id": "3352a5c7",
   "metadata": {},
   "source": [
    "Correlação muito baixa entre as variáveis, aparentando não haver alguma relação entre o tempo logado no website e o valor total gasto."
   ]
  },
  {
   "cell_type": "markdown",
   "id": "3f7fa524",
   "metadata": {},
   "source": [
    "##### Relação entre o tempo na App e o valor total gasto"
   ]
  },
  {
   "cell_type": "code",
   "execution_count": null,
   "id": "8cd71890",
   "metadata": {},
   "outputs": [],
   "source": [
    "dados[['tempo_total_logado_app', 'valor_total_gasto']].corr()"
   ]
  },
  {
   "cell_type": "code",
   "execution_count": null,
   "id": "5f1dbdd1",
   "metadata": {},
   "outputs": [],
   "source": [
    "plt.figure(figsize = (18, 12))\n",
    "sns.set(font_scale = 1.2)\n",
    "sns.jointplot(data = dados, \n",
    "              x = 'tempo_total_logado_app', \n",
    "              y = 'valor_total_gasto', \n",
    "              color = 'black')"
   ]
  },
  {
   "cell_type": "raw",
   "id": "3631d0d2",
   "metadata": {},
   "source": [
    "Os dados apresentam uma possível correlação positiva entre o tempo logado no App e o valor total gasto, ou seja, a medida que aumenta o tempo logado no App, aumenta valor total gasto."
   ]
  },
  {
   "cell_type": "markdown",
   "id": "ff5234ae",
   "metadata": {},
   "source": [
    "##### Relação entre o Tempo de Cadastro e o Valor Total Gasto"
   ]
  },
  {
   "cell_type": "code",
   "execution_count": null,
   "id": "849d1665",
   "metadata": {},
   "outputs": [],
   "source": [
    "dados[['tempo_cadastro_cliente', 'valor_total_gasto']].corr()"
   ]
  },
  {
   "cell_type": "code",
   "execution_count": null,
   "id": "7d5a1a11",
   "metadata": {},
   "outputs": [],
   "source": [
    "sns.set(font_scale = 1.1)\n",
    "sns.set_style('whitegrid')\n",
    "sns.lmplot(y = \"valor_total_gasto\", x = \"tempo_cadastro_cliente\", data = dados)"
   ]
  },
  {
   "cell_type": "raw",
   "id": "84ef6b94",
   "metadata": {},
   "source": [
    "Os dados sugerem que, quanto mais tempo de cadastro tem o cliente, maior é o valor total gasto pelo cliente, ou seja, clientes com mais tempo de fidelização tendem a gastar mais."
   ]
  },
  {
   "cell_type": "markdown",
   "id": "481b4091",
   "metadata": {},
   "source": [
    "#### Pré-processamento dos dados "
   ]
  },
  {
   "cell_type": "code",
   "execution_count": null,
   "id": "5cf069cd",
   "metadata": {},
   "outputs": [],
   "source": [
    "dados.columns"
   ]
  },
  {
   "cell_type": "code",
   "execution_count": null,
   "id": "1723fc83",
   "metadata": {},
   "outputs": [],
   "source": [
    "# Var. de entrada \n",
    "X = dados[['tempo_cadastro_cliente', \n",
    "           'numero_medio_cliques_por_sessao',\n",
    "           'tempo_total_logado_app', \n",
    "           'tempo_total_logado_website']]"
   ]
  },
  {
   "cell_type": "code",
   "execution_count": null,
   "id": "e023b3a3",
   "metadata": {},
   "outputs": [],
   "source": [
    "# Var. de saída \n",
    "y = dados['valor_total_gasto']"
   ]
  },
  {
   "cell_type": "code",
   "execution_count": null,
   "id": "52e66bf9",
   "metadata": {},
   "outputs": [],
   "source": [
    "# Divisão em dados de treino e teste\n",
    "X_treino, X_teste, y_treino, y_teste = train_test_split(X, y, test_size = 0.3, random_state = 101)"
   ]
  },
  {
   "cell_type": "code",
   "execution_count": null,
   "id": "a8a5b817",
   "metadata": {},
   "outputs": [],
   "source": [
    "len(X_treino)"
   ]
  },
  {
   "cell_type": "code",
   "execution_count": null,
   "id": "7826f4df",
   "metadata": {},
   "outputs": [],
   "source": [
    "len(X_teste)"
   ]
  },
  {
   "cell_type": "markdown",
   "id": "897fa2be",
   "metadata": {},
   "source": [
    "##### Padronização"
   ]
  },
  {
   "cell_type": "code",
   "execution_count": null,
   "id": "69adb9b8",
   "metadata": {},
   "outputs": [],
   "source": [
    "scaler = StandardScaler()"
   ]
  },
  {
   "cell_type": "code",
   "execution_count": null,
   "id": "8e371aea",
   "metadata": {},
   "outputs": [],
   "source": [
    "scaler.fit(X_treino)"
   ]
  },
  {
   "cell_type": "code",
   "execution_count": null,
   "id": "0aa137d6",
   "metadata": {},
   "outputs": [],
   "source": [
    "X_treino = scaler.transform(X_treino)"
   ]
  },
  {
   "cell_type": "code",
   "execution_count": null,
   "id": "baca7db5",
   "metadata": {},
   "outputs": [],
   "source": [
    "X_teste = scaler.transform(X_teste)"
   ]
  },
  {
   "cell_type": "code",
   "execution_count": null,
   "id": "4a4aa4a0",
   "metadata": {},
   "outputs": [],
   "source": [
    "X_treino[:5]"
   ]
  },
  {
   "cell_type": "code",
   "execution_count": null,
   "id": "64239a32",
   "metadata": {},
   "outputs": [],
   "source": [
    "X_teste[:5]"
   ]
  },
  {
   "cell_type": "markdown",
   "id": "49d21cd9",
   "metadata": {},
   "source": [
    "#### Modelo 1 - Regressão Linear"
   ]
  },
  {
   "cell_type": "code",
   "execution_count": null,
   "id": "d8260221",
   "metadata": {},
   "outputs": [],
   "source": [
    "# Modelo\n",
    "modelo_v1 = LinearRegression()"
   ]
  },
  {
   "cell_type": "code",
   "execution_count": null,
   "id": "4e6b2587",
   "metadata": {},
   "outputs": [],
   "source": [
    "# Treinamento\n",
    "modelo_v1.fit(X_treino, y_treino)"
   ]
  },
  {
   "cell_type": "code",
   "execution_count": null,
   "id": "d605fa3d",
   "metadata": {},
   "outputs": [],
   "source": [
    "print('Coeficientes: \\n', modelo_v1.coef_)"
   ]
  },
  {
   "cell_type": "code",
   "execution_count": null,
   "id": "8114a085",
   "metadata": {},
   "outputs": [],
   "source": [
    "# Coeficientes das variáveis preditoras\n",
    "df_coef = pd.DataFrame(modelo_v1.coef_, X.columns, columns = ['Coeficiente'])\n",
    "df_coef"
   ]
  },
  {
   "cell_type": "markdown",
   "id": "edeb57e0",
   "metadata": {},
   "source": [
    "##### Avaliação do Modelo"
   ]
  },
  {
   "cell_type": "code",
   "execution_count": null,
   "id": "0261eca7",
   "metadata": {},
   "outputs": [],
   "source": [
    "# Previsões com dados de teste\n",
    "pred_v1 = modelo_v1.predict(X_teste)"
   ]
  },
  {
   "cell_type": "code",
   "execution_count": null,
   "id": "3d1fa19a",
   "metadata": {},
   "outputs": [],
   "source": [
    "# 10 primeiras prev.\n",
    "pred_v1[:10]"
   ]
  },
  {
   "cell_type": "code",
   "execution_count": null,
   "id": "479c4f4b",
   "metadata": {},
   "outputs": [],
   "source": [
    "# Valor médio gasto pelos clientes\n",
    "print('Valor máximo gasto pelos clientes é de:', dados['valor_total_gasto'].max())\n",
    "print('Valor médio gasto pelos clientes é de:', dados['valor_total_gasto'].mean())\n",
    "print('Valor mínimo gasto pelos clientes é de:', dados['valor_total_gasto'].min())\n",
    "print('O MAE - Erro Médio Absoluto é de:', mean_absolute_error(y_teste, pred_v1))"
   ]
  },
  {
   "cell_type": "raw",
   "id": "18ea9618",
   "metadata": {},
   "source": [
    "A partir do MAE podemos ver que nosso modelo preve em média 7.76 reais de erro, o que é um valor muito baixo se compararmos a média de 499,31."
   ]
  },
  {
   "cell_type": "code",
   "execution_count": null,
   "id": "4919c6f6",
   "metadata": {},
   "outputs": [],
   "source": [
    "# MSE - Erro quadrático médio\n",
    "mean_squared_error(y_teste, pred_v1)"
   ]
  },
  {
   "cell_type": "code",
   "execution_count": null,
   "id": "ee959648",
   "metadata": {},
   "outputs": [],
   "source": [
    "# RMSE - Raiz quadrada do erro quadrático médio\n",
    "np.sqrt(mean_squared_error(y_teste, pred_v1))"
   ]
  },
  {
   "cell_type": "raw",
   "id": "2bd0492a",
   "metadata": {},
   "source": [
    "A partir do RMSE  podemos ver que nosso modelo preve em média 9.74 reais de erro, o que também é um valor muito baixo se compararmos com o valor médio gasto por cliente de 499,31."
   ]
  },
  {
   "cell_type": "code",
   "execution_count": null,
   "id": "f279af81",
   "metadata": {},
   "outputs": [],
   "source": [
    "# Coeficiente R2\n",
    "r2_score(y_teste, pred_v1)"
   ]
  },
  {
   "cell_type": "code",
   "execution_count": null,
   "id": "ec627235",
   "metadata": {},
   "outputs": [],
   "source": [
    "# Variância Explicada\n",
    "explained_variance_score(y_teste, pred_v1)"
   ]
  },
  {
   "cell_type": "raw",
   "id": "1a2e1fff",
   "metadata": {},
   "source": [
    "O R2 de 98% e RMSE de 9.74 demonstram uma alta eficiência do modelo, pois obteve uma alta precisão, além de conseguir explicar 98% da variância dos dados."
   ]
  },
  {
   "cell_type": "code",
   "execution_count": null,
   "id": "009295a6",
   "metadata": {},
   "outputs": [],
   "source": [
    "# Residuos\n",
    "plt.figure(figsize = (8,4))\n",
    "ax = sns.distplot((y_teste - pred_v1), \n",
    "                  bins = 40, \n",
    "                  color = 'red', \n",
    "                  hist_kws = dict(edgecolor = 'black', linewidth = 0.3))\n",
    "ax.set(xlim = (-40, 40))\n",
    "ax.set(ylim = (0, 0.055));"
   ]
  },
  {
   "cell_type": "markdown",
   "id": "cddd7ed5",
   "metadata": {},
   "source": [
    "#### Modelo 2 com Regressão Ridge"
   ]
  },
  {
   "cell_type": "code",
   "execution_count": 1,
   "id": "9429882b",
   "metadata": {},
   "outputs": [
    {
     "ename": "NameError",
     "evalue": "name 'Ridge' is not defined",
     "output_type": "error",
     "traceback": [
      "\u001b[0;31m---------------------------------------------------------------------------\u001b[0m",
      "\u001b[0;31mNameError\u001b[0m                                 Traceback (most recent call last)",
      "Cell \u001b[0;32mIn[1], line 2\u001b[0m\n\u001b[1;32m      1\u001b[0m \u001b[38;5;66;03m# Modelo\u001b[39;00m\n\u001b[0;32m----> 2\u001b[0m modelo_v2 \u001b[38;5;241m=\u001b[39m Ridge(alpha \u001b[38;5;241m=\u001b[39m \u001b[38;5;241m1.0\u001b[39m)\n",
      "\u001b[0;31mNameError\u001b[0m: name 'Ridge' is not defined"
     ]
    }
   ],
   "source": [
    "# Modelo\n",
    "modelo_v2 = Ridge(alpha = 1.0)"
   ]
  },
  {
   "cell_type": "code",
   "execution_count": null,
   "id": "c3b99555",
   "metadata": {},
   "outputs": [],
   "source": [
    "# Treinamento\n",
    "modelo_v2.fit(X_treino, y_treino)"
   ]
  },
  {
   "cell_type": "code",
   "execution_count": null,
   "id": "4c333cb6",
   "metadata": {},
   "outputs": [],
   "source": [
    "print('Coeficientes: \\n', modelo_v2.coef_)"
   ]
  },
  {
   "cell_type": "code",
   "execution_count": null,
   "id": "e209f187",
   "metadata": {},
   "outputs": [],
   "source": [
    "# Coeficientes das variáveis preditoras\n",
    "df_coef = pd.DataFrame(modelo_v2.coef_, X.columns, columns = ['Coeficiente'])\n",
    "df_coef"
   ]
  },
  {
   "cell_type": "code",
   "execution_count": null,
   "id": "db370dcb",
   "metadata": {},
   "outputs": [],
   "source": [
    "# Previsões com dados de teste\n",
    "pred_v2 = modelo_v2.predict(X_teste)\n",
    "pred_v2[:10]"
   ]
  },
  {
   "cell_type": "code",
   "execution_count": null,
   "id": "7860cfed",
   "metadata": {},
   "outputs": [],
   "source": [
    "# MAE\n",
    "mean_absolute_error(y_teste, pred_v2)"
   ]
  },
  {
   "cell_type": "code",
   "execution_count": null,
   "id": "4ce0c0a0",
   "metadata": {},
   "outputs": [],
   "source": [
    "# MSE\n",
    "mean_squared_error(y_teste, pred_v2)"
   ]
  },
  {
   "cell_type": "code",
   "execution_count": null,
   "id": "ebef8d2d",
   "metadata": {},
   "outputs": [],
   "source": [
    "# RMSE\n",
    "np.sqrt(mean_squared_error(y_teste, pred_v2))"
   ]
  },
  {
   "cell_type": "code",
   "execution_count": null,
   "id": "7686a407",
   "metadata": {},
   "outputs": [],
   "source": [
    "# Coeficiente R2\n",
    "r2_score(y_teste, pred_v2)"
   ]
  },
  {
   "cell_type": "code",
   "execution_count": null,
   "id": "32b39df4",
   "metadata": {},
   "outputs": [],
   "source": [
    "# Variância Explicada\n",
    "explained_variance_score(y_teste, pred_v2)"
   ]
  },
  {
   "cell_type": "code",
   "execution_count": null,
   "id": "82890f0d",
   "metadata": {},
   "outputs": [],
   "source": [
    "# Residuos\n",
    "plt.figure(figsize = (8,4))\n",
    "ax = sns.distplot((y_teste - pred_v2), \n",
    "                  bins = 40, \n",
    "                  color = 'red', \n",
    "                  hist_kws = dict(edgecolor = 'black', linewidth = 0.3))\n",
    "ax.set(xlim = (-40, 40))\n",
    "ax.set(ylim = (0, 0.055));"
   ]
  },
  {
   "cell_type": "markdown",
   "id": "e8dedc8e",
   "metadata": {},
   "source": [
    "#### Modelo 3 - Regressão LASSO"
   ]
  },
  {
   "cell_type": "code",
   "execution_count": null,
   "id": "4f440c35",
   "metadata": {},
   "outputs": [],
   "source": [
    "# Cria o modelo\n",
    "modelo_v3 = Lasso(alpha = 1.0)"
   ]
  },
  {
   "cell_type": "code",
   "execution_count": null,
   "id": "6d640729",
   "metadata": {},
   "outputs": [],
   "source": [
    "# Treinamento\n",
    "modelo_v3.fit(X_treino, y_treino)"
   ]
  },
  {
   "cell_type": "code",
   "execution_count": null,
   "id": "58ec1e6b",
   "metadata": {},
   "outputs": [],
   "source": [
    "print('Coeficientes: \\n', modelo_v3.coef_)"
   ]
  },
  {
   "cell_type": "code",
   "execution_count": null,
   "id": "6a216929",
   "metadata": {},
   "outputs": [],
   "source": [
    "# Coeficientes\n",
    "df_coef = pd.DataFrame(modelo_v3.coef_, X.columns, columns = ['Coeficiente'])\n",
    "df_coef"
   ]
  },
  {
   "cell_type": "code",
   "execution_count": null,
   "id": "904b7068",
   "metadata": {},
   "outputs": [],
   "source": [
    "# Previsões com dados de teste\n",
    "pred_v3 = modelo_v3.predict(X_teste)\n",
    "pred_v3[:10]"
   ]
  },
  {
   "cell_type": "code",
   "execution_count": null,
   "id": "f759e356",
   "metadata": {},
   "outputs": [],
   "source": [
    "# MAE\n",
    "mean_absolute_error(y_teste, pred_v3)"
   ]
  },
  {
   "cell_type": "code",
   "execution_count": null,
   "id": "f3ee2346",
   "metadata": {},
   "outputs": [],
   "source": [
    "# MSE\n",
    "mean_squared_error(y_teste, pred_v3)"
   ]
  },
  {
   "cell_type": "code",
   "execution_count": null,
   "id": "c298f571",
   "metadata": {},
   "outputs": [],
   "source": [
    "# RMSE\n",
    "np.sqrt(mean_squared_error(y_teste, pred_v3))"
   ]
  },
  {
   "cell_type": "code",
   "execution_count": null,
   "id": "ca63c78a",
   "metadata": {},
   "outputs": [],
   "source": [
    "# Coeficiente R2\n",
    "r2_score(y_teste, pred_v2)"
   ]
  },
  {
   "cell_type": "code",
   "execution_count": null,
   "id": "a60f1b76",
   "metadata": {},
   "outputs": [],
   "source": [
    "# Variância Explicada\n",
    "explained_variance_score(y_teste, pred_v3)"
   ]
  },
  {
   "cell_type": "code",
   "execution_count": null,
   "id": "9e03aa41",
   "metadata": {},
   "outputs": [],
   "source": [
    "# Residuos\n",
    "plt.figure(figsize = (8,4))\n",
    "ax = sns.distplot((y_teste - pred_v3), \n",
    "                  bins = 40, \n",
    "                  color = 'red', \n",
    "                  hist_kws = dict(edgecolor = 'black', linewidth = 0.3))\n",
    "ax.set(xlim = (-40, 40))\n",
    "ax.set(ylim = (0, 0.055));"
   ]
  },
  {
   "cell_type": "raw",
   "id": "b8151f90",
   "metadata": {},
   "source": [
    "Tendo em consideração a taxa de erro (RMSE), foi escolhido seguir com o modelo benchmark, visto que apresenta uma alta performance, uma boa explicação sobre a variação dos dados, além de ser o modelo mais simples, o que torna sua execução mais simples e exigindo menor poder computacional e menores custos a empresa."
   ]
  },
  {
   "cell_type": "code",
   "execution_count": null,
   "id": "9f07f202",
   "metadata": {},
   "outputs": [],
   "source": [
    "# Coeficientes\n",
    "df_coef_final = pd.DataFrame(modelo_v1.coef_, X.columns, columns = ['Coeficiente'])\n",
    "df_coef_final"
   ]
  },
  {
   "cell_type": "markdown",
   "id": "8c9c2d4d",
   "metadata": {},
   "source": [
    "#### Considerações"
   ]
  },
  {
   "cell_type": "raw",
   "id": "8589e1b6",
   "metadata": {},
   "source": [
    "A partir das previsões do modelo podemos identificar que:\n",
    "\n",
    "O aumento de 1 unidade ao tempo total logado no web site está associado ao aumento de R$ 0.68 no valor total gasto por cliente por mês. O que indica que não possivelmente não será eficiente e com grandes retornos o investimento de mais recursos no web site.\n",
    "\n",
    "O aumento de 1 unidade ao tempo total logado na app está associado ao aumento de R$ 38.57 no valor total gasto por cliente no mês. Logo, sobre a dúvida em investir no App ou Site, fica demonstrado a partir das previsões que a margem de retorno em um investimento será muito maior investindo no App perante ao site.\n",
    "\n",
    "O aumento de 1 unidade ao número médio de cliques por sessão está associado ao aumento de R$ 26.24 no valor total gasto por cliente no mês. O que indica que o cliente ao interagir mais tempo no App, possui uma probabilidade maior de um maior gasto total, logo investir na melhoria do App para que o cliente tenha mais opcçoes de interação e usufrue mais tempo com o App, pode aumentar o seu valor de gasto.\n",
    "\n",
    "Porém, o maior insight gerado pelo nosso modelo, foi que o aumento de 1 unidade no tempo de cadastro do cliente está associado ao aumento de R$ 63.74 no valor total gasto por cliente no mês. Logo, clientes que possuem mais tempo fidelizados, são os que possuem um maior gasto mensal. Isso demonstra que segundo as probabilidades geradas pelo nosso modelo, dedica recursos e politicas para maior retenção e fidelização a médio e longo prazo dos clientes, tende a aumentar o valor gasto mensal por tais, logo aumentando a receita da empresa e diminuindo gastos desnecessários ou que atualmente não trariam significativos avanços as vendas, como por exemplo a baixa assosciação do uso do web site com o valor total gasto por cliente."
   ]
  },
  {
   "cell_type": "code",
   "execution_count": null,
   "id": "8298f7f8",
   "metadata": {},
   "outputs": [],
   "source": []
  }
 ],
 "metadata": {
  "kernelspec": {
   "display_name": "Python 3 (ipykernel)",
   "language": "python",
   "name": "python3"
  },
  "language_info": {
   "codemirror_mode": {
    "name": "ipython",
    "version": 3
   },
   "file_extension": ".py",
   "mimetype": "text/x-python",
   "name": "python",
   "nbconvert_exporter": "python",
   "pygments_lexer": "ipython3",
   "version": "3.11.5"
  }
 },
 "nbformat": 4,
 "nbformat_minor": 5
}
