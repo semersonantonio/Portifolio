{
 "cells": [
  {
   "cell_type": "markdown",
   "id": "8ca2dbb7",
   "metadata": {},
   "source": [
    "### Criar um modelo para prever a chance de vitória de uma partida de futebol do time Avai FC, a partir de uma série de variáveis de entrada relacionadas com possíveis ações em decorrência da partida."
   ]
  },
  {
   "cell_type": "code",
   "execution_count": 1,
   "id": "033e3026",
   "metadata": {},
   "outputs": [],
   "source": [
    "# Importa e inicializa findspark\n",
    "import findspark\n",
    "findspark.init()"
   ]
  },
  {
   "cell_type": "code",
   "execution_count": 2,
   "id": "7fb1263f",
   "metadata": {},
   "outputs": [],
   "source": [
    "# Imports\n",
    "import pyspark\n",
    "from pyspark import SparkContext\n",
    "from pyspark.sql import SparkSession\n",
    "from pyspark.sql import Row\n",
    "from pyspark.ml.feature import StringIndexer\n",
    "from pyspark.ml.linalg import Vectors\n",
    "from pyspark.ml.classification import DecisionTreeClassifier\n",
    "from pyspark.ml.evaluation import MulticlassClassificationEvaluator"
   ]
  },
  {
   "cell_type": "code",
   "execution_count": 3,
   "id": "3c9ea145",
   "metadata": {},
   "outputs": [
    {
     "name": "stderr",
     "output_type": "stream",
     "text": [
      "Setting default log level to \"WARN\".\n",
      "To adjust logging level use sc.setLogLevel(newLevel). For SparkR, use setLogLevel(newLevel).\n",
      "24/02/17 15:26:57 WARN NativeCodeLoader: Unable to load native-hadoop library for your platform... using builtin-java classes where applicable\n"
     ]
    }
   ],
   "source": [
    "# Spark Context\n",
    "sc = SparkContext(appName = \"ClassFut\")\n",
    "sc.setLogLevel(\"ERROR\")"
   ]
  },
  {
   "cell_type": "code",
   "execution_count": 4,
   "id": "8ec89f21",
   "metadata": {},
   "outputs": [],
   "source": [
    "# Spark Session\n",
    "spSession = SparkSession.builder.master(\"local\").getOrCreate()"
   ]
  },
  {
   "cell_type": "markdown",
   "id": "bf12be11",
   "metadata": {},
   "source": [
    "#### Carga de Dados"
   ]
  },
  {
   "cell_type": "raw",
   "id": "d159bba9",
   "metadata": {},
   "source": [
    "    Os dados serão carregados como RDD. Então removemos o cabeçalho."
   ]
  },
  {
   "cell_type": "code",
   "execution_count": 5,
   "id": "199f0487",
   "metadata": {},
   "outputs": [],
   "source": [
    "# Carga dos dados saindo um RDD\n",
    "dados_time_futebol = sc.textFile('dados/dataset2.csv')"
   ]
  },
  {
   "cell_type": "code",
   "execution_count": 6,
   "id": "1f9449e0",
   "metadata": {},
   "outputs": [
    {
     "name": "stderr",
     "output_type": "stream",
     "text": [
      "                                                                                \r"
     ]
    },
    {
     "data": {
      "text/plain": [
       "151"
      ]
     },
     "execution_count": 6,
     "metadata": {},
     "output_type": "execute_result"
    }
   ],
   "source": [
    "dados_time_futebol.count()"
   ]
  },
  {
   "cell_type": "code",
   "execution_count": 7,
   "id": "9eec94af",
   "metadata": {},
   "outputs": [
    {
     "data": {
      "text/plain": [
       "['media_faltas_sofridas,media_faltas_recebidas,media_cartoes_recebidos,media_chutes_a_gol,resultado',\n",
       " '4.8,3,1.4,0.3,vitoria',\n",
       " '5.1,3.8,1.6,0.2,vitoria',\n",
       " '4.6,3.2,1.4,0.2,vitoria',\n",
       " '5.3,3.7,1.5,0.2,vitoria']"
      ]
     },
     "execution_count": 7,
     "metadata": {},
     "output_type": "execute_result"
    }
   ],
   "source": [
    "dados_time_futebol.take(5)"
   ]
  },
  {
   "cell_type": "code",
   "execution_count": 8,
   "id": "52bdc0db",
   "metadata": {},
   "outputs": [
    {
     "data": {
      "text/plain": [
       "150"
      ]
     },
     "execution_count": 8,
     "metadata": {},
     "output_type": "execute_result"
    }
   ],
   "source": [
    "# Remove cabeçalho\n",
    "dados_time_futebol_2 = dados_time_futebol.filter(lambda x: \"media_faltas_sofridas\" not in x)\n",
    "dados_time_futebol_2.count()"
   ]
  },
  {
   "cell_type": "markdown",
   "id": "30fd311a",
   "metadata": {},
   "source": [
    "#### Limpeza e Transformação dos Dados"
   ]
  },
  {
   "cell_type": "raw",
   "id": "6a4791c6",
   "metadata": {},
   "source": [
    "    Aqui vamos separar as colunas por \",\". Mapear e garantir o tipo de dado para um cálculo mais preciso. Converter o RDD em Data Frame. E então, criar, treinar e aplicar um indexador a variável Target."
   ]
  },
  {
   "cell_type": "code",
   "execution_count": 9,
   "id": "9198e6f5",
   "metadata": {},
   "outputs": [],
   "source": [
    "# Separação das colunas\n",
    "dados_time_futebol_3 = dados_time_futebol_2.map(lambda l: l.split(\",\"))"
   ]
  },
  {
   "cell_type": "code",
   "execution_count": 10,
   "id": "03f1ed42",
   "metadata": {},
   "outputs": [],
   "source": [
    "# Mapeamento das colunas\n",
    "dados_time_futebol_4 = dados_time_futebol_3.map(lambda p: Row(media_faltas_sofridas = float(p[0]), \n",
    "                                                              media_faltas_recebidas = float(p[1]), \n",
    "                                                              media_cartoes_recebidos = float(p[2]), \n",
    "                                                              media_chutes_a_gol = float(p[3]), \n",
    "                                                              resultado = p[4] ))"
   ]
  },
  {
   "cell_type": "code",
   "execution_count": 11,
   "id": "7d9969b0",
   "metadata": {},
   "outputs": [
    {
     "data": {
      "text/plain": [
       "DataFrame[media_faltas_sofridas: double, media_faltas_recebidas: double, media_cartoes_recebidos: double, media_chutes_a_gol: double, resultado: string]"
      ]
     },
     "execution_count": 11,
     "metadata": {},
     "output_type": "execute_result"
    }
   ],
   "source": [
    "# Conv. RDD p DF\n",
    "df_time = spSession.createDataFrame(dados_time_futebol_4)\n",
    "df_time.cache()"
   ]
  },
  {
   "cell_type": "code",
   "execution_count": 12,
   "id": "d4f65043",
   "metadata": {},
   "outputs": [
    {
     "data": {
      "text/plain": [
       "[Row(media_faltas_sofridas=4.8, media_faltas_recebidas=3.0, media_cartoes_recebidos=1.4, media_chutes_a_gol=0.3, resultado='vitoria'),\n",
       " Row(media_faltas_sofridas=5.1, media_faltas_recebidas=3.8, media_cartoes_recebidos=1.6, media_chutes_a_gol=0.2, resultado='vitoria'),\n",
       " Row(media_faltas_sofridas=4.6, media_faltas_recebidas=3.2, media_cartoes_recebidos=1.4, media_chutes_a_gol=0.2, resultado='vitoria'),\n",
       " Row(media_faltas_sofridas=5.3, media_faltas_recebidas=3.7, media_cartoes_recebidos=1.5, media_chutes_a_gol=0.2, resultado='vitoria'),\n",
       " Row(media_faltas_sofridas=5.1, media_faltas_recebidas=3.5, media_cartoes_recebidos=1.4, media_chutes_a_gol=0.2, resultado='vitoria')]"
      ]
     },
     "execution_count": 12,
     "metadata": {},
     "output_type": "execute_result"
    }
   ],
   "source": [
    "df_time.take(5)"
   ]
  },
  {
   "cell_type": "code",
   "execution_count": 13,
   "id": "c2301415",
   "metadata": {},
   "outputs": [],
   "source": [
    "# Indice numérico p a coluna de label target\n",
    "stringIndexer = StringIndexer(inputCol = \"resultado\", outputCol = \"idx_resultado\")"
   ]
  },
  {
   "cell_type": "code",
   "execution_count": 14,
   "id": "981b8a59",
   "metadata": {},
   "outputs": [
    {
     "name": "stderr",
     "output_type": "stream",
     "text": [
      "                                                                                \r"
     ]
    }
   ],
   "source": [
    "# Fit string indexer\n",
    "si_model = stringIndexer.fit(df_time)"
   ]
  },
  {
   "cell_type": "code",
   "execution_count": 15,
   "id": "4915f9d5",
   "metadata": {},
   "outputs": [],
   "source": [
    "# Aplica\n",
    "df_time_final = si_model.transform(df_time)"
   ]
  },
  {
   "cell_type": "code",
   "execution_count": 16,
   "id": "f80fec00",
   "metadata": {},
   "outputs": [
    {
     "data": {
      "text/plain": [
       "[Row(resultado='derrota', idx_resultado=0.0),\n",
       " Row(resultado='vitoria', idx_resultado=2.0),\n",
       " Row(resultado='empate', idx_resultado=1.0)]"
      ]
     },
     "execution_count": 16,
     "metadata": {},
     "output_type": "execute_result"
    }
   ],
   "source": [
    "df_time_final.select(\"resultado\", \"idx_resultado\").distinct().collect()"
   ]
  },
  {
   "cell_type": "markdown",
   "id": "c64ac355",
   "metadata": {},
   "source": [
    "#### Análise Exploratória"
   ]
  },
  {
   "cell_type": "raw",
   "id": "0fc120a7",
   "metadata": {},
   "source": [
    "        Verificaremos a correlação, a fim de buscar a força da relação entre a variável de saída com as variáveis de entrada, e entender melhor tal correlação dos dados, a fim de verificar quais variáveis possivelmente terão maior impacto nas previsões do modelo."
   ]
  },
  {
   "cell_type": "code",
   "execution_count": 17,
   "id": "54b8f715",
   "metadata": {},
   "outputs": [
    {
     "name": "stdout",
     "output_type": "stream",
     "text": [
      "+-------+---------------------+----------------------+-----------------------+------------------+---------+------------------+\n",
      "|summary|media_faltas_sofridas|media_faltas_recebidas|media_cartoes_recebidos|media_chutes_a_gol|resultado|     idx_resultado|\n",
      "+-------+---------------------+----------------------+-----------------------+------------------+---------+------------------+\n",
      "|  count|                  150|                   150|                    150|               150|      150|               150|\n",
      "|   mean|    5.843333333333332|    3.0573333333333337|      3.758000000000001|1.1993333333333331|     NULL|               1.0|\n",
      "| stddev|   0.8280661279778625|   0.43586628493669793|     1.7652982332594667|0.7622376689603465|     NULL|0.8192319205190404|\n",
      "|    min|                  4.3|                   2.0|                    1.0|               0.1|  derrota|               0.0|\n",
      "|    max|                  7.9|                   4.4|                    6.9|               2.5|  vitoria|               2.0|\n",
      "+-------+---------------------+----------------------+-----------------------+------------------+---------+------------------+\n",
      "\n"
     ]
    }
   ],
   "source": [
    "# Estatística descritiva\n",
    "df_time_final.describe().show()"
   ]
  },
  {
   "cell_type": "code",
   "execution_count": 18,
   "id": "4eaedf1e",
   "metadata": {},
   "outputs": [
    {
     "name": "stdout",
     "output_type": "stream",
     "text": [
      "Correlação da variável idx_resultado com: media_faltas_sofridas -0.4600391565002369\n",
      "Correlação da variável idx_resultado com: media_faltas_recebidas 0.6183715308237437\n",
      "Correlação da variável idx_resultado com: media_cartoes_recebidos -0.649241830764174\n",
      "Correlação da variável idx_resultado com: media_chutes_a_gol -0.5803770334306265\n",
      "Correlação da variável idx_resultado com: idx_resultado 1.0\n"
     ]
    }
   ],
   "source": [
    "# Correlação da variável Target com as demais variáveis\n",
    "for i in df_time_final.columns:\n",
    "    if not(isinstance(df_time_final.select(i).take(1)[0][0], str)) :\n",
    "        print(\"Correlação da variável idx_resultado com:\", i, df_time_final.stat.corr('idx_resultado', i))"
   ]
  },
  {
   "cell_type": "markdown",
   "id": "f18517f3",
   "metadata": {},
   "source": [
    "#### Pré-Processamento "
   ]
  },
  {
   "cell_type": "raw",
   "id": "e47fa273",
   "metadata": {},
   "source": [
    "    Resolvemos levar todas as variáveis preditoras a diante, então vamos criar e aplicar uma função para criar um RDD com o resultado e um vetor denso das variáveis preditoras para o modelo."
   ]
  },
  {
   "cell_type": "code",
   "execution_count": 19,
   "id": "ef605ae7",
   "metadata": {},
   "outputs": [],
   "source": [
    "# Etiqueta o resultado com o vetor denso das variáveis preditoras\n",
    "def transformaVar(row) :\n",
    "    obj = (row[\"resultado\"], row[\"idx_resultado\"], Vectors.dense([row[\"media_faltas_sofridas\"], \n",
    "                                                                  row[\"media_faltas_recebidas\"],\n",
    "                                                                  row[\"media_cartoes_recebidos\"], \n",
    "                                                                  row[\"media_chutes_a_gol\"]]))\n",
    "    return obj"
   ]
  },
  {
   "cell_type": "code",
   "execution_count": 20,
   "id": "e3c7ea84",
   "metadata": {},
   "outputs": [],
   "source": [
    "# Aplica\n",
    "df_time_final_RDD = df_time_final.rdd.map(transformaVar)"
   ]
  },
  {
   "cell_type": "code",
   "execution_count": 21,
   "id": "4729174d",
   "metadata": {},
   "outputs": [
    {
     "data": {
      "text/plain": [
       "[('vitoria', 2.0, DenseVector([4.8, 3.0, 1.4, 0.3])),\n",
       " ('vitoria', 2.0, DenseVector([5.1, 3.8, 1.6, 0.2])),\n",
       " ('vitoria', 2.0, DenseVector([4.6, 3.2, 1.4, 0.2])),\n",
       " ('vitoria', 2.0, DenseVector([5.3, 3.7, 1.5, 0.2])),\n",
       " ('vitoria', 2.0, DenseVector([5.1, 3.5, 1.4, 0.2]))]"
      ]
     },
     "execution_count": 21,
     "metadata": {},
     "output_type": "execute_result"
    }
   ],
   "source": [
    "df_time_final_RDD.take(5)"
   ]
  },
  {
   "cell_type": "code",
   "execution_count": 22,
   "id": "35ed2e5a",
   "metadata": {},
   "outputs": [],
   "source": [
    "# Converte o RDD para DataFrame\n",
    "df_spark = spSession.createDataFrame(df_time_final_RDD,[\"resultado\", \"label\", \"features\"])"
   ]
  },
  {
   "cell_type": "code",
   "execution_count": 23,
   "id": "f85d75d6",
   "metadata": {},
   "outputs": [
    {
     "data": {
      "text/plain": [
       "DataFrame[resultado: string, label: double, features: vector]"
      ]
     },
     "execution_count": 23,
     "metadata": {},
     "output_type": "execute_result"
    }
   ],
   "source": [
    "df_spark.cache()"
   ]
  },
  {
   "cell_type": "code",
   "execution_count": 24,
   "id": "5de56163",
   "metadata": {},
   "outputs": [
    {
     "name": "stderr",
     "output_type": "stream",
     "text": [
      "\r",
      "[Stage 38:>                                                         (0 + 2) / 2]\r"
     ]
    },
    {
     "name": "stdout",
     "output_type": "stream",
     "text": [
      "+---------+-----+-----------------+\n",
      "|resultado|label|         features|\n",
      "+---------+-----+-----------------+\n",
      "|  vitoria|  2.0|[4.8,3.0,1.4,0.3]|\n",
      "|  vitoria|  2.0|[5.1,3.8,1.6,0.2]|\n",
      "|  vitoria|  2.0|[4.6,3.2,1.4,0.2]|\n",
      "|  vitoria|  2.0|[5.3,3.7,1.5,0.2]|\n",
      "|  vitoria|  2.0|[5.1,3.5,1.4,0.2]|\n",
      "|  vitoria|  2.0|[4.9,3.0,1.4,0.2]|\n",
      "|  vitoria|  2.0|[4.7,3.2,1.3,0.2]|\n",
      "|  vitoria|  2.0|[4.6,3.1,1.5,0.2]|\n",
      "|  vitoria|  2.0|[5.0,3.6,1.4,0.2]|\n",
      "|  vitoria|  2.0|[5.4,3.9,1.7,0.4]|\n",
      "+---------+-----+-----------------+\n",
      "only showing top 10 rows\n",
      "\n"
     ]
    },
    {
     "name": "stderr",
     "output_type": "stream",
     "text": [
      "\r",
      "                                                                                \r"
     ]
    }
   ],
   "source": [
    "df_spark.select(\"resultado\", \"label\", \"features\").show(10)"
   ]
  },
  {
   "cell_type": "markdown",
   "id": "45be57fd",
   "metadata": {},
   "source": [
    "#### Machine Learning"
   ]
  },
  {
   "cell_type": "raw",
   "id": "54caa53f",
   "metadata": {},
   "source": [
    "    Será escolhido o algorítmo Decision Tree para criação deste modelo, devido as características apresentadas do problema de negócio. \n",
    "    Vamos dividir os dados para treinar em 75% e 25% para testar o modelo. Criaremos, treinaremos o modelo e calcularemos a acurácia e a confusion matrix."
   ]
  },
  {
   "cell_type": "code",
   "execution_count": 25,
   "id": "cac32307",
   "metadata": {},
   "outputs": [],
   "source": [
    "# Dados de treino e de teste\n",
    "(dados_treino, dados_teste) = df_spark.randomSplit([0.75, 0.25])"
   ]
  },
  {
   "cell_type": "code",
   "execution_count": 26,
   "id": "25277a9b",
   "metadata": {},
   "outputs": [
    {
     "data": {
      "text/plain": [
       "113"
      ]
     },
     "execution_count": 26,
     "metadata": {},
     "output_type": "execute_result"
    }
   ],
   "source": [
    "dados_treino.count()"
   ]
  },
  {
   "cell_type": "code",
   "execution_count": 27,
   "id": "73cc496d",
   "metadata": {},
   "outputs": [
    {
     "data": {
      "text/plain": [
       "37"
      ]
     },
     "execution_count": 27,
     "metadata": {},
     "output_type": "execute_result"
    }
   ],
   "source": [
    "dados_teste.count()"
   ]
  },
  {
   "cell_type": "code",
   "execution_count": 28,
   "id": "f69f1534",
   "metadata": {},
   "outputs": [],
   "source": [
    "# Cria o objeto\n",
    "dtClassifer = DecisionTreeClassifier(maxDepth = 2, labelCol = \"label\", featuresCol = \"features\")"
   ]
  },
  {
   "cell_type": "code",
   "execution_count": 29,
   "id": "f3a4d552",
   "metadata": {},
   "outputs": [],
   "source": [
    "# Treina objeto com dados para criar o modelo\n",
    "modelo = dtClassifer.fit(dados_treino)"
   ]
  },
  {
   "cell_type": "code",
   "execution_count": 30,
   "id": "78d63fc8",
   "metadata": {},
   "outputs": [],
   "source": [
    "# Previsões com dados de teste\n",
    "previsoes = modelo.transform(dados_teste)"
   ]
  },
  {
   "cell_type": "code",
   "execution_count": 31,
   "id": "125478b0",
   "metadata": {},
   "outputs": [
    {
     "data": {
      "text/plain": [
       "DataFrame[resultado: string, label: double, features: vector, rawPrediction: vector, probability: vector, prediction: double]"
      ]
     },
     "execution_count": 31,
     "metadata": {},
     "output_type": "execute_result"
    }
   ],
   "source": [
    "previsoes"
   ]
  },
  {
   "cell_type": "code",
   "execution_count": 32,
   "id": "f7b4bd8e",
   "metadata": {},
   "outputs": [
    {
     "data": {
      "text/plain": [
       "[Row(resultado='derrota', label=0.0, prediction=0.0, probability=DenseVector([0.9688, 0.0312, 0.0])),\n",
       " Row(resultado='derrota', label=0.0, prediction=0.0, probability=DenseVector([0.9688, 0.0312, 0.0])),\n",
       " Row(resultado='derrota', label=0.0, prediction=0.0, probability=DenseVector([0.9688, 0.0312, 0.0])),\n",
       " Row(resultado='derrota', label=0.0, prediction=0.0, probability=DenseVector([0.9688, 0.0312, 0.0])),\n",
       " Row(resultado='derrota', label=0.0, prediction=0.0, probability=DenseVector([0.9688, 0.0312, 0.0])),\n",
       " Row(resultado='derrota', label=0.0, prediction=0.0, probability=DenseVector([0.9688, 0.0312, 0.0])),\n",
       " Row(resultado='derrota', label=0.0, prediction=1.0, probability=DenseVector([0.0909, 0.9091, 0.0])),\n",
       " Row(resultado='vitoria', label=2.0, prediction=2.0, probability=DenseVector([0.0, 0.0, 1.0])),\n",
       " Row(resultado='vitoria', label=2.0, prediction=2.0, probability=DenseVector([0.0, 0.0, 1.0])),\n",
       " Row(resultado='vitoria', label=2.0, prediction=2.0, probability=DenseVector([0.0, 0.0, 1.0])),\n",
       " Row(resultado='vitoria', label=2.0, prediction=2.0, probability=DenseVector([0.0, 0.0, 1.0])),\n",
       " Row(resultado='vitoria', label=2.0, prediction=2.0, probability=DenseVector([0.0, 0.0, 1.0])),\n",
       " Row(resultado='vitoria', label=2.0, prediction=2.0, probability=DenseVector([0.0, 0.0, 1.0])),\n",
       " Row(resultado='vitoria', label=2.0, prediction=2.0, probability=DenseVector([0.0, 0.0, 1.0])),\n",
       " Row(resultado='vitoria', label=2.0, prediction=2.0, probability=DenseVector([0.0, 0.0, 1.0])),\n",
       " Row(resultado='vitoria', label=2.0, prediction=2.0, probability=DenseVector([0.0, 0.0, 1.0])),\n",
       " Row(resultado='vitoria', label=2.0, prediction=2.0, probability=DenseVector([0.0, 0.0, 1.0])),\n",
       " Row(resultado='vitoria', label=2.0, prediction=2.0, probability=DenseVector([0.0, 0.0, 1.0])),\n",
       " Row(resultado='vitoria', label=2.0, prediction=2.0, probability=DenseVector([0.0, 0.0, 1.0])),\n",
       " Row(resultado='vitoria', label=2.0, prediction=2.0, probability=DenseVector([0.0, 0.0, 1.0])),\n",
       " Row(resultado='derrota', label=0.0, prediction=0.0, probability=DenseVector([0.9688, 0.0312, 0.0])),\n",
       " Row(resultado='derrota', label=0.0, prediction=0.0, probability=DenseVector([0.9688, 0.0312, 0.0])),\n",
       " Row(resultado='derrota', label=0.0, prediction=0.0, probability=DenseVector([0.9688, 0.0312, 0.0])),\n",
       " Row(resultado='derrota', label=0.0, prediction=0.0, probability=DenseVector([0.9688, 0.0312, 0.0])),\n",
       " Row(resultado='derrota', label=0.0, prediction=0.0, probability=DenseVector([0.9688, 0.0312, 0.0])),\n",
       " Row(resultado='derrota', label=0.0, prediction=0.0, probability=DenseVector([0.9688, 0.0312, 0.0])),\n",
       " Row(resultado='derrota', label=0.0, prediction=0.0, probability=DenseVector([0.9688, 0.0312, 0.0])),\n",
       " Row(resultado='derrota', label=0.0, prediction=1.0, probability=DenseVector([0.0909, 0.9091, 0.0])),\n",
       " Row(resultado='empate', label=1.0, prediction=1.0, probability=DenseVector([0.0909, 0.9091, 0.0])),\n",
       " Row(resultado='empate', label=1.0, prediction=1.0, probability=DenseVector([0.0909, 0.9091, 0.0])),\n",
       " Row(resultado='empate', label=1.0, prediction=1.0, probability=DenseVector([0.0909, 0.9091, 0.0])),\n",
       " Row(resultado='empate', label=1.0, prediction=1.0, probability=DenseVector([0.0909, 0.9091, 0.0])),\n",
       " Row(resultado='empate', label=1.0, prediction=1.0, probability=DenseVector([0.0909, 0.9091, 0.0])),\n",
       " Row(resultado='empate', label=1.0, prediction=1.0, probability=DenseVector([0.0909, 0.9091, 0.0])),\n",
       " Row(resultado='empate', label=1.0, prediction=1.0, probability=DenseVector([0.0909, 0.9091, 0.0])),\n",
       " Row(resultado='empate', label=1.0, prediction=1.0, probability=DenseVector([0.0909, 0.9091, 0.0])),\n",
       " Row(resultado='empate', label=1.0, prediction=1.0, probability=DenseVector([0.0909, 0.9091, 0.0]))]"
      ]
     },
     "execution_count": 32,
     "metadata": {},
     "output_type": "execute_result"
    }
   ],
   "source": [
    "previsoes.select(\"resultado\", \"label\", \"prediction\", \"probability\").collect()"
   ]
  },
  {
   "cell_type": "code",
   "execution_count": 33,
   "id": "14cd7b07",
   "metadata": {},
   "outputs": [],
   "source": [
    "# Acurácia\n",
    "avaliador = MulticlassClassificationEvaluator(predictionCol = \"prediction\", \n",
    "                                              labelCol = \"label\", \n",
    "                                              metricName = \"accuracy\")"
   ]
  },
  {
   "cell_type": "code",
   "execution_count": 34,
   "id": "94d07723",
   "metadata": {},
   "outputs": [
    {
     "data": {
      "text/plain": [
       "0.9459459459459459"
      ]
     },
     "execution_count": 34,
     "metadata": {},
     "output_type": "execute_result"
    }
   ],
   "source": [
    "avaliador.evaluate(previsoes)      "
   ]
  },
  {
   "cell_type": "code",
   "execution_count": 35,
   "id": "4d330b84",
   "metadata": {},
   "outputs": [
    {
     "name": "stdout",
     "output_type": "stream",
     "text": [
      "+---------+-----+----------+-----+\n",
      "|resultado|label|prediction|count|\n",
      "+---------+-----+----------+-----+\n",
      "|  vitoria|  2.0|       2.0|   13|\n",
      "|  derrota|  0.0|       0.0|   13|\n",
      "|  derrota|  0.0|       1.0|    2|\n",
      "|   empate|  1.0|       1.0|    9|\n",
      "+---------+-----+----------+-----+\n",
      "\n"
     ]
    }
   ],
   "source": [
    "# Confusion matrix\n",
    "previsoes.groupBy(\"resultado\", \"label\", \"prediction\").count().show()"
   ]
  },
  {
   "cell_type": "raw",
   "id": "8a43c2b9",
   "metadata": {},
   "source": [
    "    Nosso modelo apresentou uma ótima performance nos testes. Apesar de performar acima de 94% de acerto, ficam minhas considerações para dedicarmos mais tempo a melhorias deste modelo, como testando outros hiperparâmetros para o Decision Tree, ou até mesmo testando os dados com outros algorítmos, a fim de possivelmente obter uma previsão mais acertiva."
   ]
  }
 ],
 "metadata": {
  "kernelspec": {
   "display_name": "Python 3 (ipykernel)",
   "language": "python",
   "name": "python3"
  },
  "language_info": {
   "codemirror_mode": {
    "name": "ipython",
    "version": 3
   },
   "file_extension": ".py",
   "mimetype": "text/x-python",
   "name": "python",
   "nbconvert_exporter": "python",
   "pygments_lexer": "ipython3",
   "version": "3.11.5"
  }
 },
 "nbformat": 4,
 "nbformat_minor": 5
}
